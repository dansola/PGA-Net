{
 "cells": [
  {
   "cell_type": "code",
   "execution_count": 2,
   "id": "e17d483e-2bfd-4f82-9e5c-ac190f9499b7",
   "metadata": {},
   "outputs": [],
   "source": [
    "import json\n",
    "import matplotlib.pyplot as plt\n",
    "import pandas as pd\n",
    "import torch\n",
    "from time import time\n",
    "from fvcore.nn import FlopCountAnalysis\n",
    "from src.models.lbcnn.axial_lbcnn import SmallAxialUNetLBC, AxialUNetLBC\n",
    "from src.models.lbcnn.axial_unet import AxialUNet, SmallAxialUNet\n",
    "from src.models.lbcnn.lbc_unet import UNetLBP, SmallUNetLBP\n",
    "from src.models.unet.unet_model import UNet, SmallUNet\n",
    "from src.models.dsc.dsc_lbc_unet import DSCSmallUNetLBP, DSCUNetLBP\n",
    "from src.models.dsc.dsc_unet import UNetDSC, SmallUNetDSC\n",
    "from torchvision.models.segmentation import deeplabv3_mobilenet_v3_large, lraspp_mobilenet_v3_large"
   ]
  },
  {
   "cell_type": "code",
   "execution_count": 3,
   "id": "5c96bc27-ef4b-4464-b84c-73c4ec09dca6",
   "metadata": {},
   "outputs": [],
   "source": [
    "def load_json_metrics(file_path):\n",
    "    with open(file_path, 'r') as fp:\n",
    "        metrics = json.load(fp)\n",
    "    return metrics\n",
    "\n",
    "def plot_json(json_dict, name, ax):\n",
    "    ax.plot(list(json_dict.keys()), list(json_dict.values()), label=name)\n",
    "    \n",
    "def get_mean_metric(metric_dict, from_epoch, to_epoch=None):\n",
    "    df = pd.DataFrame.from_dict(metric_dict, orient='index')\n",
    "    return df[from_epoch:to_epoch].mean().item()\n",
    "\n",
    "def get_n_params(model, verbose=False):\n",
    "    pytorch_total_params = sum(p.numel() for p in model.parameters())\n",
    "    if verbose:\n",
    "        print('Total Params: ', pytorch_total_params)\n",
    "\n",
    "    params = 0\n",
    "    for name, param in model.named_parameters():\n",
    "        if param.requires_grad:\n",
    "            params += param.numel()\n",
    "    if verbose:\n",
    "        print('Trainable Params: ', params)\n",
    "    return pytorch_total_params, params"
   ]
  },
  {
   "cell_type": "markdown",
   "id": "9359ea25-277e-4e35-8086-0403e343b0e5",
   "metadata": {},
   "source": [
    "### IoU Metrics"
   ]
  },
  {
   "cell_type": "code",
   "execution_count": null,
   "id": "e9f13a97-06ea-46f8-afa5-f5dc5b57b99d",
   "metadata": {},
   "outputs": [],
   "source": [
    "metric_of_interest = 'iou'\n",
    "\n",
    "# UNet\n",
    "unet = load_json_metrics(f'/home/dsola/repos/PGA-Net/results/frosty_sponge_239_unet_ice-mean-{metric_of_interest}-epoch.json')\n",
    "\n",
    "# Axial UNet\n",
    "axial_unet = load_json_metrics(f'/home/dsola/repos/PGA-Net/results/fiery_blaze_231_full_axial_unet_ice_64_channels-mean-{metric_of_interest}-epoch-128-256-size.json')\n",
    "\n",
    "# LBC UNet\n",
    "lbc_unet = load_json_metrics(f'/home/dsola/repos/PGA-Net/results/worthy_wood_227_lbc_unet_ice-mean-{metric_of_interest}-epoch-128-256-size.json')\n",
    "\n",
    "# Small Axial LBC UNet\n",
    "small_axial_lbc_unet = load_json_metrics(f'/home/dsola/repos/PGA-Net/results/glamorous_breeze_180_small_axial_unet_lbc_ice-mean-{metric_of_interest}-epoch.json')\n",
    "\n",
    "# Deeplab MobileNet\n",
    "deeplab_mobile_net = load_json_metrics(f'/home/dsola/repos/PGA-Net/results/vivid_donkey_305_deeplab_mobilenet_ice-mean-{metric_of_interest}-epoch-128-256-size.json')\n",
    "\n",
    "# Deeplab MobileNet\n",
    "lraspp_mobile_net = load_json_metrics(f'/home/dsola/repos/PGA-Net/results/clean_darkness_312_laraspp_mobilenet_ice-mean-{metric_of_interest}-epoch-128-256-size.json')\n",
    "\n",
    "# DSC UNet\n",
    "dsc_unet = load_json_metrics(f'/home/dsola/repos/PGA-Net/results/helpful_fire_308_unet_dsc_ice-mean-{metric_of_interest}-epoch-128-256-size.json')\n",
    "\n",
    "# Small DSC UNet\n",
    "small_dsc_unet = load_json_metrics(f'/home/dsola/repos/PGA-Net/results/cosmic_waterfall_315_small_dsc_unet_ice-mean-{metric_of_interest}-epoch-128-256-size.json')\n",
    "\n",
    "# DSC LBC UNet\n",
    "dsc_lbc_unet = load_json_metrics(f'/home/dsola/repos/PGA-Net/results/youthful_microwave_310_lbc_dsc_unet_ice-mean-{metric_of_interest}-epoch-128-256-size.json')\n",
    "\n",
    "# Small DSC LBC UNet\n",
    "small_dsc_lbc_unet = load_json_metrics(f'/home/dsola/repos/PGA-Net/results/still_paper_311_small_lbc_dsc_unet_ice-mean-{metric_of_interest}-epoch-128-256-size.json')\n",
    "\n",
    "\n",
    "metric_dicts = {\n",
    "    'unet': unet, \n",
    "    'axial_unet': axial_unet,\n",
    "    'lbc_unet': lbc_unet, \n",
    "    'small_axial_lbc_unet': small_axial_lbc_unet,\n",
    "    'deeplab_mobile_net': deeplab_mobile_net,\n",
    "    'lraspp_mobile_net': lraspp_mobile_net,\n",
    "    'dsc_unet': dsc_unet,\n",
    "    'small_dsc_unet': small_dsc_unet,\n",
    "    'dsc_lbc_unet': dsc_lbc_unet,\n",
    "    'small_dsc_lbc_unet': small_dsc_lbc_unet,\n",
    "}"
   ]
  },
  {
   "cell_type": "code",
   "execution_count": null,
   "id": "e9fde1d5-7c81-42eb-9f02-60e36c9cb410",
   "metadata": {},
   "outputs": [],
   "source": [
    "fig, ax = plt.subplots(figsize=(20,5))\n",
    "\n",
    "ax.set_ylabel('IoU Score')\n",
    "ax.set_xlabel('Epoch')\n",
    "plot_json(unet, 'unet', ax)\n",
    "plot_json(axial_unet, 'axial_unet', ax)\n",
    "plot_json(lbc_unet, 'lbc_unet', ax)\n",
    "plot_json(small_axial_lbc_unet, 'small_axial_lbc_unet', ax)\n",
    "plot_json(deeplab_mobile_net, 'deeplab_mobile_net', ax)\n",
    "plot_json(lraspp_mobile_net, 'lraspp_mobile_net', ax)\n",
    "plot_json(dsc_unet, 'dsc_unet', ax)\n",
    "plot_json(small_dsc_unet, 'small_dsc_unet', ax)\n",
    "plot_json(dsc_lbc_unet, 'dsc_lbc_unet', ax)\n",
    "plot_json(small_dsc_lbc_unet, 'small_dsc_lbc_unet', ax)\n",
    "plt.legend();\n",
    "# ax.set_title('Full Size Comparison');"
   ]
  },
  {
   "cell_type": "code",
   "execution_count": null,
   "id": "b9d12902-4457-4d35-a312-2d2f349da223",
   "metadata": {},
   "outputs": [],
   "source": [
    "FROM_EPOCH = 20\n",
    "avg_metric_dict = {}\n",
    "for model in metric_dicts.keys():\n",
    "    avg_metric_dict[model] = get_mean_metric(metric_dicts[model], FROM_EPOCH)"
   ]
  },
  {
   "cell_type": "code",
   "execution_count": null,
   "id": "fca10a2a-a89d-46a7-a594-1500e4784cb1",
   "metadata": {},
   "outputs": [],
   "source": [
    "avg_metric_dict"
   ]
  },
  {
   "cell_type": "code",
   "execution_count": null,
   "id": "3ab974fe-cb87-4357-bf2b-0a28f23c0afc",
   "metadata": {},
   "outputs": [],
   "source": [
    "ax = pd.DataFrame.from_dict(avg_metric_dict, orient='index').plot.bar(ylim=(0.6, 0.70), title='Avg IoU after 20 epochs')\n",
    "ax.grid();"
   ]
  },
  {
   "cell_type": "code",
   "execution_count": null,
   "id": "64170cbe-00f8-42f6-aa69-8a09a869cf39",
   "metadata": {},
   "outputs": [],
   "source": [
    "pd.DataFrame.from_dict(avg_metric_dict, orient='index')"
   ]
  },
  {
   "cell_type": "markdown",
   "id": "8f14401a-1e28-408c-93ec-fdcaca0a580d",
   "metadata": {},
   "source": [
    "### Model Parameters"
   ]
  },
  {
   "cell_type": "code",
   "execution_count": 4,
   "id": "90424b40-09f9-42df-ade0-283bc40d8de8",
   "metadata": {},
   "outputs": [],
   "source": [
    "unet_model = UNet(n_channels=3, n_classes=3, bilinear=True)\n",
    "small_unet_model = SmallUNet(n_channels=3, n_classes=3, bilinear=True)\n",
    "# axial_unet_model = AxialUNet(3, 3, 64)\n",
    "lbc_unet_model = UNetLBP(3, 3)\n",
    "small_lbc_unet_model = SmallUNetLBP(3, 3)\n",
    "small_axial_lbc_unet_model = SmallAxialUNetLBC(3, 3, 10)\n",
    "deeplab_mobile_net_model = deeplabv3_mobilenet_v3_large(num_classes=3)\n",
    "lraspp_mobile_net_model = lraspp_mobilenet_v3_large(num_classes=3)\n",
    "dsc_unet_model = UNetDSC(n_channels=3, n_classes=3, bilinear=True)\n",
    "small_dsc_unet_model = SmallUNetDSC(n_channels=3, n_classes=3, bilinear=True)\n",
    "dsc_lbc_unet_model = DSCUNetLBP(3, 3)\n",
    "small_dsc_lbc_unet_model = DSCSmallUNetLBP(3, 3)\n",
    "\n",
    "models_dict = {\n",
    "    'unet': unet_model,\n",
    "#     'axial_unet': axial_unet_model,\n",
    "    'small_unet': small_unet_model,\n",
    "    'lbc_unet': lbc_unet_model,\n",
    "    'small_lbc_unet': small_lbc_unet_model,\n",
    "    'small_axial_lbc_unet': small_axial_lbc_unet_model,\n",
    "    'deeplab_mobile_net': deeplab_mobile_net_model,\n",
    "    'lraspp_mobile_net': lraspp_mobile_net_model,\n",
    "    'dsc_unet': dsc_unet_model,\n",
    "    'small_dsc_unet': small_dsc_unet_model,\n",
    "    'dsc_lbc_unet': dsc_lbc_unet_model,\n",
    "    'small_dsc_lbc_unet': small_dsc_lbc_unet_model,\n",
    "}"
   ]
  },
  {
   "cell_type": "code",
   "execution_count": 5,
   "id": "3eac3110-8d0d-41ba-9370-f6207d2d80fa",
   "metadata": {},
   "outputs": [],
   "source": [
    "model_tot_param_dict, model_train_param_dict = {}, {}\n",
    "for model in models_dict.keys():\n",
    "#     print(model, ': ')\n",
    "    tot, train = get_n_params(models_dict[model])\n",
    "    model_tot_param_dict[model] = tot\n",
    "    model_train_param_dict[model] = train"
   ]
  },
  {
   "cell_type": "code",
   "execution_count": 6,
   "id": "ecd6c873-b1c1-4d45-bba1-de0bad0aa5ea",
   "metadata": {},
   "outputs": [
    {
     "data": {
      "image/png": "[encoded data removed]",
      "text/plain": [
       "<Figure size 1080x360 with 2 Axes>"
      ]
     },
     "metadata": {
      "needs_background": "light"
     },
     "output_type": "display_data"
    }
   ],
   "source": [
    "fig, axs = plt.subplots(1,2, figsize=(15,5))\n",
    "pd.DataFrame.from_dict(model_tot_param_dict, orient='index').plot.bar(ax=axs[0], title='Total Model Parameters', logy=True)\n",
    "pd.DataFrame.from_dict(model_train_param_dict, orient='index').plot.bar(ax=axs[1], title='Trainable Model Parameters', logy=True)\n",
    "axs[0].grid()\n",
    "axs[1].grid();"
   ]
  },
  {
   "cell_type": "code",
   "execution_count": 7,
   "id": "c8bb3e86-9ca3-4a5e-8191-6abc19d58a16",
   "metadata": {},
   "outputs": [
    {
     "data": {
      "text/html": [
       "<div>\n",
       "<style scoped>\n",
       "    .dataframe tbody tr th:only-of-type {\n",
       "        vertical-align: middle;\n",
       "    }\n",
       "\n",
       "    .dataframe tbody tr th {\n",
       "        vertical-align: top;\n",
       "    }\n",
       "\n",
       "    .dataframe thead th {\n",
       "        text-align: right;\n",
       "    }\n",
       "</style>\n",
       "<table border=\"1\" class=\"dataframe\">\n",
       "  <thead>\n",
       "    <tr style=\"text-align: right;\">\n",
       "      <th></th>\n",
       "      <th>0</th>\n",
       "    </tr>\n",
       "  </thead>\n",
       "  <tbody>\n",
       "    <tr>\n",
       "      <th>unet</th>\n",
       "      <td>17267523</td>\n",
       "    </tr>\n",
       "    <tr>\n",
       "      <th>small_unet</th>\n",
       "      <td>1036995</td>\n",
       "    </tr>\n",
       "    <tr>\n",
       "      <th>lbc_unet</th>\n",
       "      <td>16498842</td>\n",
       "    </tr>\n",
       "    <tr>\n",
       "      <th>small_lbc_unet</th>\n",
       "      <td>1009818</td>\n",
       "    </tr>\n",
       "    <tr>\n",
       "      <th>small_axial_lbc_unet</th>\n",
       "      <td>51680</td>\n",
       "    </tr>\n",
       "    <tr>\n",
       "      <th>deeplab_mobile_net</th>\n",
       "      <td>11020851</td>\n",
       "    </tr>\n",
       "    <tr>\n",
       "      <th>lraspp_mobile_net</th>\n",
       "      <td>3218478</td>\n",
       "    </tr>\n",
       "    <tr>\n",
       "      <th>dsc_unet</th>\n",
       "      <td>1983713</td>\n",
       "    </tr>\n",
       "    <tr>\n",
       "      <th>small_dsc_unet</th>\n",
       "      <td>128865</td>\n",
       "    </tr>\n",
       "    <tr>\n",
       "      <th>dsc_lbc_unet</th>\n",
       "      <td>821220</td>\n",
       "    </tr>\n",
       "    <tr>\n",
       "      <th>small_dsc_lbc_unet</th>\n",
       "      <td>57060</td>\n",
       "    </tr>\n",
       "  </tbody>\n",
       "</table>\n",
       "</div>"
      ],
      "text/plain": [
       "                             0\n",
       "unet                  17267523\n",
       "small_unet             1036995\n",
       "lbc_unet              16498842\n",
       "small_lbc_unet         1009818\n",
       "small_axial_lbc_unet     51680\n",
       "deeplab_mobile_net    11020851\n",
       "lraspp_mobile_net      3218478\n",
       "dsc_unet               1983713\n",
       "small_dsc_unet          128865\n",
       "dsc_lbc_unet            821220\n",
       "small_dsc_lbc_unet       57060"
      ]
     },
     "execution_count": 7,
     "metadata": {},
     "output_type": "execute_result"
    }
   ],
   "source": [
    "pd.DataFrame.from_dict(model_tot_param_dict, orient='index')"
   ]
  },
  {
   "cell_type": "code",
   "execution_count": 8,
   "id": "e41a2c4f-65d1-4a29-84af-263c43f89339",
   "metadata": {},
   "outputs": [
    {
     "data": {
      "text/html": [
       "<div>\n",
       "<style scoped>\n",
       "    .dataframe tbody tr th:only-of-type {\n",
       "        vertical-align: middle;\n",
       "    }\n",
       "\n",
       "    .dataframe tbody tr th {\n",
       "        vertical-align: top;\n",
       "    }\n",
       "\n",
       "    .dataframe thead th {\n",
       "        text-align: right;\n",
       "    }\n",
       "</style>\n",
       "<table border=\"1\" class=\"dataframe\">\n",
       "  <thead>\n",
       "    <tr style=\"text-align: right;\">\n",
       "      <th></th>\n",
       "      <th>0</th>\n",
       "    </tr>\n",
       "  </thead>\n",
       "  <tbody>\n",
       "    <tr>\n",
       "      <th>unet</th>\n",
       "      <td>17267523</td>\n",
       "    </tr>\n",
       "    <tr>\n",
       "      <th>small_unet</th>\n",
       "      <td>1036995</td>\n",
       "    </tr>\n",
       "    <tr>\n",
       "      <th>lbc_unet</th>\n",
       "      <td>794697</td>\n",
       "    </tr>\n",
       "    <tr>\n",
       "      <th>small_lbc_unet</th>\n",
       "      <td>51273</td>\n",
       "    </tr>\n",
       "    <tr>\n",
       "      <th>small_axial_lbc_unet</th>\n",
       "      <td>28280</td>\n",
       "    </tr>\n",
       "    <tr>\n",
       "      <th>deeplab_mobile_net</th>\n",
       "      <td>11020851</td>\n",
       "    </tr>\n",
       "    <tr>\n",
       "      <th>lraspp_mobile_net</th>\n",
       "      <td>3218478</td>\n",
       "    </tr>\n",
       "    <tr>\n",
       "      <th>dsc_unet</th>\n",
       "      <td>1983713</td>\n",
       "    </tr>\n",
       "    <tr>\n",
       "      <th>small_dsc_unet</th>\n",
       "      <td>128865</td>\n",
       "    </tr>\n",
       "    <tr>\n",
       "      <th>dsc_lbc_unet</th>\n",
       "      <td>794697</td>\n",
       "    </tr>\n",
       "    <tr>\n",
       "      <th>small_dsc_lbc_unet</th>\n",
       "      <td>51273</td>\n",
       "    </tr>\n",
       "  </tbody>\n",
       "</table>\n",
       "</div>"
      ],
      "text/plain": [
       "                             0\n",
       "unet                  17267523\n",
       "small_unet             1036995\n",
       "lbc_unet                794697\n",
       "small_lbc_unet           51273\n",
       "small_axial_lbc_unet     28280\n",
       "deeplab_mobile_net    11020851\n",
       "lraspp_mobile_net      3218478\n",
       "dsc_unet               1983713\n",
       "small_dsc_unet          128865\n",
       "dsc_lbc_unet            794697\n",
       "small_dsc_lbc_unet       51273"
      ]
     },
     "execution_count": 8,
     "metadata": {},
     "output_type": "execute_result"
    }
   ],
   "source": [
    "pd.DataFrame.from_dict(model_train_param_dict, orient='index')"
   ]
  },
  {
   "cell_type": "markdown",
   "id": "8c6feaac-3ac1-465c-bc05-8881f5aa7f12",
   "metadata": {},
   "source": [
    "### FLOPs"
   ]
  },
  {
   "cell_type": "code",
   "execution_count": 9,
   "id": "7365291b-8efc-4149-ab87-c0240afd68ee",
   "metadata": {
    "scrolled": true,
    "tags": []
   },
   "outputs": [
    {
     "name": "stderr",
     "output_type": "stream",
     "text": [
      "/home/dsola/anaconda3/envs/PGA-Net/lib/python3.8/site-packages/torch/nn/functional.py:718: UserWarning: Named tensors and all their associated APIs are an experimental feature and subject to change. Please do not use them for anything important until they are released as stable. (Triggered internally at  /pytorch/c10/core/TensorImpl.h:1156.)\n",
      "  return torch.max_pool2d(input, kernel_size, stride, padding, dilation, ceil_mode)\n",
      "/home/dsola/anaconda3/envs/PGA-Net/lib/python3.8/site-packages/torch/_tensor.py:575: UserWarning: floor_divide is deprecated, and will be removed in a future version of pytorch. It currently rounds toward 0 (like the 'trunc' function NOT 'floor'). This results in incorrect rounding for negative values.\n",
      "To keep the current behavior, use torch.div(a, b, rounding_mode='trunc'), or for actual floor division, use torch.div(a, b, rounding_mode='floor'). (Triggered internally at  /pytorch/aten/src/ATen/native/BinaryOps.cpp:467.)\n",
      "  return torch.floor_divide(self, other)\n",
      "Unsupported operator aten::max_pool2d encountered 4 time(s)\n",
      "Unsupported operator aten::sub encountered 16 time(s)\n",
      "Unsupported operator aten::max_pool2d encountered 2 time(s)\n",
      "Unsupported operator aten::sub encountered 8 time(s)\n",
      "Unsupported operator aten::add_ encountered 10 time(s)\n",
      "Unsupported operator aten::max_pool2d encountered 4 time(s)\n",
      "Unsupported operator aten::sub encountered 16 time(s)\n",
      "Unsupported operator aten::add_ encountered 6 time(s)\n",
      "Unsupported operator aten::max_pool2d encountered 2 time(s)\n",
      "Unsupported operator aten::sub encountered 8 time(s)\n",
      "Unsupported operator aten::mul encountered 40 time(s)\n",
      "Unsupported operator aten::softmax encountered 10 time(s)\n",
      "Unsupported operator aten::add encountered 10 time(s)\n",
      "Unsupported operator aten::max_pool2d encountered 2 time(s)\n",
      "Unsupported operator aten::hardswish_ encountered 20 time(s)\n",
      "Unsupported operator aten::add_ encountered 10 time(s)\n",
      "Unsupported operator aten::hardsigmoid_ encountered 8 time(s)\n",
      "Unsupported operator aten::mul encountered 8 time(s)\n",
      "The following submodules of the model were never called during the trace of the graph. They may be unused, or they were accessed by direct calls to .forward() or via other python methods. In the latter case they will have zeros for statistics, though their statistics will still contribute to their parent calling module.\n",
      "\n",
      "Unsupported operator aten::hardswish_ encountered 20 time(s)\n",
      "Unsupported operator aten::add_ encountered 10 time(s)\n",
      "Unsupported operator aten::hardsigmoid_ encountered 8 time(s)\n",
      "Unsupported operator aten::mul encountered 9 time(s)\n",
      "Unsupported operator aten::sigmoid encountered 1 time(s)\n",
      "Unsupported operator aten::add encountered 1 time(s)\n",
      "The following submodules of the model were never called during the trace of the graph. They may be unused, or they were accessed by direct calls to .forward() or via other python methods. In the latter case they will have zeros for statistics, though their statistics will still contribute to their parent calling module.\n",
      "\n",
      "Unsupported operator aten::max_pool2d encountered 4 time(s)\n",
      "Unsupported operator aten::sub encountered 16 time(s)\n",
      "Unsupported operator aten::max_pool2d encountered 2 time(s)\n",
      "Unsupported operator aten::sub encountered 8 time(s)\n",
      "Unsupported operator aten::add_ encountered 10 time(s)\n",
      "Unsupported operator aten::max_pool2d encountered 4 time(s)\n",
      "Unsupported operator aten::sub encountered 16 time(s)\n",
      "Unsupported operator aten::add_ encountered 6 time(s)\n",
      "Unsupported operator aten::max_pool2d encountered 2 time(s)\n",
      "Unsupported operator aten::sub encountered 8 time(s)\n"
     ]
    }
   ],
   "source": [
    "device = 'cpu'\n",
    "inp = torch.rand(2,3,224,224).to(device)\n",
    "\n",
    "model_flop_dict = {}\n",
    "for model in models_dict.keys():\n",
    "    flops = FlopCountAnalysis(models_dict[model].to(device), inp)\n",
    "    model_flop_dict[model] = flops.total()/1000000"
   ]
  },
  {
   "cell_type": "code",
   "execution_count": 10,
   "id": "bfb8548d-3881-4a1b-9f6e-a3518f359a30",
   "metadata": {},
   "outputs": [
    {
     "data": {
      "image/png": "[encoded data removed]",
      "text/plain": [
       "<Figure size 432x288 with 1 Axes>"
      ]
     },
     "metadata": {
      "needs_background": "light"
     },
     "output_type": "display_data"
    }
   ],
   "source": [
    "ax = pd.DataFrame.from_dict(model_flop_dict, orient='index').plot.bar(title='Million FLOPs', logy=True)\n",
    "ax.grid();"
   ]
  },
  {
   "cell_type": "code",
   "execution_count": 11,
   "id": "03bd7946-4c54-4c08-a27a-3ff7bb9258a2",
   "metadata": {},
   "outputs": [
    {
     "data": {
      "text/html": [
       "<div>\n",
       "<style scoped>\n",
       "    .dataframe tbody tr th:only-of-type {\n",
       "        vertical-align: middle;\n",
       "    }\n",
       "\n",
       "    .dataframe tbody tr th {\n",
       "        vertical-align: top;\n",
       "    }\n",
       "\n",
       "    .dataframe thead th {\n",
       "        text-align: right;\n",
       "    }\n",
       "</style>\n",
       "<table border=\"1\" class=\"dataframe\">\n",
       "  <thead>\n",
       "    <tr style=\"text-align: right;\">\n",
       "      <th></th>\n",
       "      <th>0</th>\n",
       "    </tr>\n",
       "  </thead>\n",
       "  <tbody>\n",
       "    <tr>\n",
       "      <th>unet</th>\n",
       "      <td>61509.353472</td>\n",
       "    </tr>\n",
       "    <tr>\n",
       "      <th>small_unet</th>\n",
       "      <td>31868.583936</td>\n",
       "    </tr>\n",
       "    <tr>\n",
       "      <th>lbc_unet</th>\n",
       "      <td>69627.228160</td>\n",
       "    </tr>\n",
       "    <tr>\n",
       "      <th>small_lbc_unet</th>\n",
       "      <td>36912.676864</td>\n",
       "    </tr>\n",
       "    <tr>\n",
       "      <th>small_axial_lbc_unet</th>\n",
       "      <td>5170.428960</td>\n",
       "    </tr>\n",
       "    <tr>\n",
       "      <th>deeplab_mobile_net</th>\n",
       "      <td>3822.231360</td>\n",
       "    </tr>\n",
       "    <tr>\n",
       "      <th>lraspp_mobile_net</th>\n",
       "      <td>811.159616</td>\n",
       "    </tr>\n",
       "    <tr>\n",
       "      <th>dsc_unet</th>\n",
       "      <td>7562.827776</td>\n",
       "    </tr>\n",
       "    <tr>\n",
       "      <th>small_dsc_unet</th>\n",
       "      <td>4142.028800</td>\n",
       "    </tr>\n",
       "    <tr>\n",
       "      <th>dsc_lbc_unet</th>\n",
       "      <td>3334.696960</td>\n",
       "    </tr>\n",
       "    <tr>\n",
       "      <th>small_dsc_lbc_unet</th>\n",
       "      <td>2016.071680</td>\n",
       "    </tr>\n",
       "  </tbody>\n",
       "</table>\n",
       "</div>"
      ],
      "text/plain": [
       "                                 0\n",
       "unet                  61509.353472\n",
       "small_unet            31868.583936\n",
       "lbc_unet              69627.228160\n",
       "small_lbc_unet        36912.676864\n",
       "small_axial_lbc_unet   5170.428960\n",
       "deeplab_mobile_net     3822.231360\n",
       "lraspp_mobile_net       811.159616\n",
       "dsc_unet               7562.827776\n",
       "small_dsc_unet         4142.028800\n",
       "dsc_lbc_unet           3334.696960\n",
       "small_dsc_lbc_unet     2016.071680"
      ]
     },
     "execution_count": 11,
     "metadata": {},
     "output_type": "execute_result"
    }
   ],
   "source": [
    "pd.DataFrame.from_dict(model_flop_dict, orient='index')"
   ]
  },
  {
   "cell_type": "markdown",
   "id": "50111ac7-c4a3-477f-a67e-e0cbf3327227",
   "metadata": {},
   "source": [
    "### Run Time"
   ]
  },
  {
   "cell_type": "code",
   "execution_count": null,
   "id": "b379ad38-df60-4541-a49d-90c55d81fd20",
   "metadata": {},
   "outputs": [],
   "source": [
    "cuda_dict = load_json_metrics(f'/home/dsola/repos/PGA-Net/src/train/model_profile_cuda_v3.json')\n",
    "cpu_dict = load_json_metrics(f'/home/dsola/repos/PGA-Net/src/train/model_profile_cpu_v3.json')"
   ]
  },
  {
   "cell_type": "code",
   "execution_count": null,
   "id": "88c93cc0-dab4-4871-b22f-665a9efd1fa4",
   "metadata": {},
   "outputs": [],
   "source": [
    "fig, axs = plt.subplots(1,2, figsize=(15,5))\n",
    "pd.DataFrame.from_dict(cuda_dict, orient='index').plot.bar(ax=axs[0], title='Train 3 Epochs on GPU')\n",
    "pd.DataFrame.from_dict(cpu_dict, orient='index').plot.bar(ax=axs[1], title='Train 3 Epochs on CPU')\n",
    "axs[0].grid()\n",
    "axs[1].grid();"
   ]
  },
  {
   "cell_type": "code",
   "execution_count": null,
   "id": "208427d9-fafe-4bec-8956-3d6cf18cc95f",
   "metadata": {},
   "outputs": [],
   "source": []
  },
  {
   "cell_type": "code",
   "execution_count": null,
   "id": "3d001531-4357-4745-beac-1d2db4edef87",
   "metadata": {},
   "outputs": [],
   "source": []
  },
  {
   "cell_type": "code",
   "execution_count": null,
   "id": "d5fee5cd-60d8-4e91-8a98-a458ceec9e65",
   "metadata": {},
   "outputs": [],
   "source": []
  },
  {
   "cell_type": "code",
   "execution_count": null,
   "id": "a3f368f3-865b-42cd-b08a-f4fd1cf748de",
   "metadata": {},
   "outputs": [],
   "source": []
  },
  {
   "cell_type": "code",
   "execution_count": null,
   "id": "de48821a-4ec4-4066-9ff9-dba1420cc942",
   "metadata": {},
   "outputs": [],
   "source": []
  },
  {
   "cell_type": "code",
   "execution_count": null,
   "id": "af7904c3-de1e-4cd6-919c-045ef35b622b",
   "metadata": {},
   "outputs": [],
   "source": []
  },
  {
   "cell_type": "code",
   "execution_count": null,
   "id": "d84e27ef-c6e8-4410-90b7-a39be42316ec",
   "metadata": {},
   "outputs": [],
   "source": []
  },
  {
   "cell_type": "code",
   "execution_count": null,
   "id": "de979b7a-603d-4ac2-8acb-f61929eb5a62",
   "metadata": {},
   "outputs": [],
   "source": []
  },
  {
   "cell_type": "code",
   "execution_count": null,
   "id": "5f0d8130-1c82-4575-a6ae-8230d5afc0d0",
   "metadata": {},
   "outputs": [],
   "source": []
  },
  {
   "cell_type": "code",
   "execution_count": null,
   "id": "1b82329e-2988-4e5e-bc03-7b49685eb37f",
   "metadata": {},
   "outputs": [],
   "source": []
  },
  {
   "cell_type": "code",
   "execution_count": null,
   "id": "9a3c3c9b-7052-4b39-a0d9-59b3b40540c1",
   "metadata": {},
   "outputs": [],
   "source": []
  },
  {
   "cell_type": "code",
   "execution_count": null,
   "id": "2c875865-762b-46af-b57c-18c576c2655f",
   "metadata": {},
   "outputs": [],
   "source": []
  },
  {
   "cell_type": "code",
   "execution_count": null,
   "id": "a0d8bdbf-1b75-4365-bbb1-4572b4aba290",
   "metadata": {},
   "outputs": [],
   "source": []
  },
  {
   "cell_type": "code",
   "execution_count": null,
   "id": "798f1b77-6a6d-469e-9c27-5ef74abce0f5",
   "metadata": {},
   "outputs": [],
   "source": []
  },
  {
   "cell_type": "code",
   "execution_count": null,
   "id": "779b6aaa-4e6c-4000-9bd6-bc4d2284df04",
   "metadata": {},
   "outputs": [],
   "source": [
    "def net_time_test(net, times, input_, mobile=False):\n",
    "    backprop_duration = 0\n",
    "    inference_duration = 0\n",
    "    for i in range(times):\n",
    "        if mobile:\n",
    "            inference_start = time()\n",
    "            out = net(input_)['out']\n",
    "            inference_end = time()\n",
    "        else:\n",
    "            inference_start = time()\n",
    "            out = net(input_)\n",
    "            inference_end = time()\n",
    "        backprop_start = time()\n",
    "        out.backward(gradient=torch.randn(2, 3, 256, 256).to(device=device))\n",
    "        backprop_end = time()\n",
    "        backprop_duration += backprop_end - backprop_start\n",
    "        inference_duration += inference_end - inference_start\n",
    "    return backprop_duration, inference_duration"
   ]
  },
  {
   "cell_type": "code",
   "execution_count": null,
   "id": "65b77696-f7a5-4926-bc77-74f8d794a332",
   "metadata": {},
   "outputs": [],
   "source": [
    "device = 'cuda'\n",
    "iterations = 5\n",
    "backprop_dict, inference_dict = {}, {}\n",
    "input_ = torch.randn(2, 3, 256, 256).to(device=device)\n",
    "for model in models_dict.keys():\n",
    "    if 'mobile' in model:\n",
    "        backprop_time, inference_time = net_time_test(models_dict[model].to(device), iterations, input_, mobile=True)\n",
    "    else:\n",
    "        backprop_time, inference_time = net_time_test(models_dict[model].to(device), iterations, input_, mobile=False)\n",
    "    backprop_dict[model] = backprop_time\n",
    "    inference_dict[model] = inference_time\n",
    "\n",
    "fig, axs = plt.subplots(1,2, figsize=(15,5))\n",
    "pd.DataFrame.from_dict(backprop_dict, orient='index').plot.bar(ax=axs[0], title='Backprop Time Cuda', logy=True)\n",
    "pd.DataFrame.from_dict(inference_dict, orient='index').plot.bar(ax=axs[1], title='Inference Time Cuda', logy=True)\n",
    "axs[0].grid()\n",
    "axs[1].grid();"
   ]
  },
  {
   "cell_type": "code",
   "execution_count": null,
   "id": "9f10b671-09b5-4e0b-b2c0-7c5e06d46853",
   "metadata": {},
   "outputs": [],
   "source": [
    "device = 'cpu'\n",
    "iterations = 5\n",
    "backprop_dict, inference_dict = {}, {}\n",
    "input_ = torch.randn(2, 3, 256, 256).to(device=device)\n",
    "for model in models_dict.keys():\n",
    "    if 'mobile' in model:\n",
    "        backprop_time, inference_time = net_time_test(models_dict[model].to(device), iterations, input_, mobile=True)\n",
    "    else:\n",
    "        backprop_time, inference_time = net_time_test(models_dict[model].to(device), iterations, input_)\n",
    "    backprop_dict[model] = backprop_time\n",
    "    inference_dict[model] = inference_time\n",
    "\n",
    "fig, axs = plt.subplots(1,2, figsize=(15,5))\n",
    "pd.DataFrame.from_dict(backprop_dict, orient='index').plot.bar(ax=axs[0], title='Backprop Time CPU', logy=True)\n",
    "pd.DataFrame.from_dict(inference_dict, orient='index').plot.bar(ax=axs[1], title='Inference Time CPU', logy=True)\n",
    "axs[0].grid()\n",
    "axs[1].grid();"
   ]
  },
  {
   "cell_type": "code",
   "execution_count": null,
   "id": "ee94a278-84a2-41e3-af65-ef5cfc6d18d6",
   "metadata": {},
   "outputs": [],
   "source": []
  },
  {
   "cell_type": "code",
   "execution_count": null,
   "id": "af4b300a-fbf6-4631-bf95-0722d38a0a2a",
   "metadata": {},
   "outputs": [],
   "source": []
  },
  {
   "cell_type": "code",
   "execution_count": 3,
   "id": "dc35abc8-adc6-47d7-9599-706871fd98f7",
   "metadata": {},
   "outputs": [],
   "source": [
    "from torchvision import models\n",
    "from torchsummary import summary\n",
    "from src.models.lbcnn.axial_lbcnn import SmallAxialUNetLBC, AxialUNetLBC\n",
    "from src.models.lbcnn.axial_unet import AxialUNet, SmallAxialUNet\n",
    "from src.models.lbcnn.lbc_unet import UNetLBP, SmallUNetLBP\n",
    "from src.models.unet.unet_model import UNet, SmallUNet\n",
    "from src.models.dsc.dsc_lbc_unet import DSCSmallUNetLBP, DSCUNetLBP\n",
    "from src.models.dsc.dsc_unet import UNetDSC, SmallUNetDSC\n",
    "from torchvision.models.segmentation import deeplabv3_mobilenet_v3_large, lraspp_mobilenet_v3_large"
   ]
  },
  {
   "cell_type": "code",
   "execution_count": 4,
   "id": "62b2bf0d-672e-41dd-a231-6907b5a1464f",
   "metadata": {},
   "outputs": [
    {
     "name": "stdout",
     "output_type": "stream",
     "text": [
      "----------------------------------------------------------------\n",
      "        Layer (type)               Output Shape         Param #\n",
      "================================================================\n",
      "       BatchNorm2d-1          [-1, 3, 256, 256]               6\n",
      "        DSCConvLBP-2          [-1, 3, 256, 256]              27\n",
      "            Conv2d-3         [-1, 64, 256, 256]             256\n",
      "DSCDSCBlockLBPUNet-4         [-1, 64, 256, 256]               0\n",
      "         MaxPool2d-5         [-1, 64, 128, 128]               0\n",
      "       BatchNorm2d-6         [-1, 64, 128, 128]             128\n",
      "        DSCConvLBP-7         [-1, 64, 128, 128]             576\n",
      "            Conv2d-8        [-1, 128, 128, 128]           8,320\n",
      "DSCDSCBlockLBPUNet-9        [-1, 128, 128, 128]               0\n",
      "       DSCDownLBP-10        [-1, 128, 128, 128]               0\n",
      "        MaxPool2d-11          [-1, 128, 64, 64]               0\n",
      "      BatchNorm2d-12          [-1, 128, 64, 64]             256\n",
      "       DSCConvLBP-13          [-1, 128, 64, 64]           1,152\n",
      "           Conv2d-14          [-1, 128, 64, 64]          16,512\n",
      "DSCDSCBlockLBPUNet-15          [-1, 128, 64, 64]               0\n",
      "       DSCDownLBP-16          [-1, 128, 64, 64]               0\n",
      "         Upsample-17        [-1, 128, 128, 128]               0\n",
      "      BatchNorm2d-18        [-1, 256, 128, 128]             512\n",
      "       DSCConvLBP-19        [-1, 256, 128, 128]           2,304\n",
      "           Conv2d-20         [-1, 64, 128, 128]          16,448\n",
      "DSCDSCBlockLBPUNet-21         [-1, 64, 128, 128]               0\n",
      "         DSCUpLBP-22         [-1, 64, 128, 128]               0\n",
      "         Upsample-23         [-1, 64, 256, 256]               0\n",
      "      BatchNorm2d-24        [-1, 128, 256, 256]             256\n",
      "       DSCConvLBP-25        [-1, 128, 256, 256]           1,152\n",
      "           Conv2d-26         [-1, 64, 256, 256]           8,256\n",
      "DSCDSCBlockLBPUNet-27         [-1, 64, 256, 256]               0\n",
      "         DSCUpLBP-28         [-1, 64, 256, 256]               0\n",
      "      BatchNorm2d-29         [-1, 64, 256, 256]             128\n",
      "       DSCConvLBP-30         [-1, 64, 256, 256]             576\n",
      "           Conv2d-31          [-1, 3, 256, 256]             195\n",
      "DSCDSCBlockLBPUNet-32          [-1, 3, 256, 256]               0\n",
      "================================================================\n",
      "Total params: 57,060\n",
      "Trainable params: 51,273\n",
      "Non-trainable params: 5,787\n",
      "----------------------------------------------------------------\n",
      "Input size (MB): 0.75\n",
      "Forward/backward pass size (MB): 590.00\n",
      "Params size (MB): 0.22\n",
      "Estimated Total Size (MB): 590.97\n",
      "----------------------------------------------------------------\n"
     ]
    },
    {
     "name": "stderr",
     "output_type": "stream",
     "text": [
      "/home/dsola/anaconda3/envs/PGA-Net/lib/python3.8/site-packages/torch/nn/functional.py:718: UserWarning: Named tensors and all their associated APIs are an experimental feature and subject to change. Please do not use them for anything important until they are released as stable. (Triggered internally at  /pytorch/c10/core/TensorImpl.h:1156.)\n",
      "  return torch.max_pool2d(input, kernel_size, stride, padding, dilation, ceil_mode)\n"
     ]
    }
   ],
   "source": [
    "summary(DSCSmallUNetLBP(3, 3).to('cuda'), (3, 256, 256))"
   ]
  },
  {
   "cell_type": "code",
   "execution_count": 2,
   "id": "766d0e42-ad1f-4bfe-b569-39899a7a0e64",
   "metadata": {},
   "outputs": [
    {
     "name": "stdout",
     "output_type": "stream",
     "text": [
      "----------------------------------------------------------------\n",
      "        Layer (type)               Output Shape         Param #\n",
      "================================================================\n",
      "            Conv2d-1         [-1, 64, 256, 256]           1,792\n",
      "       BatchNorm2d-2         [-1, 64, 256, 256]             128\n",
      "              ReLU-3         [-1, 64, 256, 256]               0\n",
      "            Conv2d-4         [-1, 64, 256, 256]          36,928\n",
      "       BatchNorm2d-5         [-1, 64, 256, 256]             128\n",
      "              ReLU-6         [-1, 64, 256, 256]               0\n",
      "        DoubleConv-7         [-1, 64, 256, 256]               0\n",
      "         MaxPool2d-8         [-1, 64, 128, 128]               0\n",
      "            Conv2d-9        [-1, 128, 128, 128]          73,856\n",
      "      BatchNorm2d-10        [-1, 128, 128, 128]             256\n",
      "             ReLU-11        [-1, 128, 128, 128]               0\n",
      "           Conv2d-12        [-1, 128, 128, 128]         147,584\n",
      "      BatchNorm2d-13        [-1, 128, 128, 128]             256\n",
      "             ReLU-14        [-1, 128, 128, 128]               0\n",
      "       DoubleConv-15        [-1, 128, 128, 128]               0\n",
      "             Down-16        [-1, 128, 128, 128]               0\n",
      "        MaxPool2d-17          [-1, 128, 64, 64]               0\n",
      "           Conv2d-18          [-1, 256, 64, 64]         295,168\n",
      "      BatchNorm2d-19          [-1, 256, 64, 64]             512\n",
      "             ReLU-20          [-1, 256, 64, 64]               0\n",
      "           Conv2d-21          [-1, 256, 64, 64]         590,080\n",
      "      BatchNorm2d-22          [-1, 256, 64, 64]             512\n",
      "             ReLU-23          [-1, 256, 64, 64]               0\n",
      "       DoubleConv-24          [-1, 256, 64, 64]               0\n",
      "             Down-25          [-1, 256, 64, 64]               0\n",
      "        MaxPool2d-26          [-1, 256, 32, 32]               0\n",
      "           Conv2d-27          [-1, 512, 32, 32]       1,180,160\n",
      "      BatchNorm2d-28          [-1, 512, 32, 32]           1,024\n",
      "             ReLU-29          [-1, 512, 32, 32]               0\n",
      "           Conv2d-30          [-1, 512, 32, 32]       2,359,808\n",
      "      BatchNorm2d-31          [-1, 512, 32, 32]           1,024\n",
      "             ReLU-32          [-1, 512, 32, 32]               0\n",
      "       DoubleConv-33          [-1, 512, 32, 32]               0\n",
      "             Down-34          [-1, 512, 32, 32]               0\n",
      "        MaxPool2d-35          [-1, 512, 16, 16]               0\n",
      "           Conv2d-36          [-1, 512, 16, 16]       2,359,808\n",
      "      BatchNorm2d-37          [-1, 512, 16, 16]           1,024\n",
      "             ReLU-38          [-1, 512, 16, 16]               0\n",
      "           Conv2d-39          [-1, 512, 16, 16]       2,359,808\n",
      "      BatchNorm2d-40          [-1, 512, 16, 16]           1,024\n",
      "             ReLU-41          [-1, 512, 16, 16]               0\n",
      "       DoubleConv-42          [-1, 512, 16, 16]               0\n",
      "             Down-43          [-1, 512, 16, 16]               0\n",
      "         Upsample-44          [-1, 512, 32, 32]               0\n",
      "           Conv2d-45          [-1, 512, 32, 32]       4,719,104\n",
      "      BatchNorm2d-46          [-1, 512, 32, 32]           1,024\n",
      "             ReLU-47          [-1, 512, 32, 32]               0\n",
      "           Conv2d-48          [-1, 256, 32, 32]       1,179,904\n",
      "      BatchNorm2d-49          [-1, 256, 32, 32]             512\n",
      "             ReLU-50          [-1, 256, 32, 32]               0\n",
      "       DoubleConv-51          [-1, 256, 32, 32]               0\n",
      "               Up-52          [-1, 256, 32, 32]               0\n",
      "         Upsample-53          [-1, 256, 64, 64]               0\n",
      "           Conv2d-54          [-1, 256, 64, 64]       1,179,904\n",
      "      BatchNorm2d-55          [-1, 256, 64, 64]             512\n",
      "             ReLU-56          [-1, 256, 64, 64]               0\n",
      "           Conv2d-57          [-1, 128, 64, 64]         295,040\n",
      "      BatchNorm2d-58          [-1, 128, 64, 64]             256\n",
      "             ReLU-59          [-1, 128, 64, 64]               0\n",
      "       DoubleConv-60          [-1, 128, 64, 64]               0\n",
      "               Up-61          [-1, 128, 64, 64]               0\n",
      "         Upsample-62        [-1, 128, 128, 128]               0\n",
      "           Conv2d-63        [-1, 128, 128, 128]         295,040\n",
      "      BatchNorm2d-64        [-1, 128, 128, 128]             256\n",
      "             ReLU-65        [-1, 128, 128, 128]               0\n",
      "           Conv2d-66         [-1, 64, 128, 128]          73,792\n",
      "      BatchNorm2d-67         [-1, 64, 128, 128]             128\n",
      "             ReLU-68         [-1, 64, 128, 128]               0\n",
      "       DoubleConv-69         [-1, 64, 128, 128]               0\n",
      "               Up-70         [-1, 64, 128, 128]               0\n",
      "         Upsample-71         [-1, 64, 256, 256]               0\n",
      "           Conv2d-72         [-1, 64, 256, 256]          73,792\n",
      "      BatchNorm2d-73         [-1, 64, 256, 256]             128\n",
      "             ReLU-74         [-1, 64, 256, 256]               0\n",
      "           Conv2d-75         [-1, 64, 256, 256]          36,928\n",
      "      BatchNorm2d-76         [-1, 64, 256, 256]             128\n",
      "             ReLU-77         [-1, 64, 256, 256]               0\n",
      "       DoubleConv-78         [-1, 64, 256, 256]               0\n",
      "               Up-79         [-1, 64, 256, 256]               0\n",
      "           Conv2d-80          [-1, 3, 256, 256]             195\n",
      "          OutConv-81          [-1, 3, 256, 256]               0\n",
      "================================================================\n",
      "Total params: 17,267,523\n",
      "Trainable params: 17,267,523\n",
      "Non-trainable params: 0\n",
      "----------------------------------------------------------------\n",
      "Input size (MB): 0.75\n",
      "Forward/backward pass size (MB): 944.00\n",
      "Params size (MB): 65.87\n",
      "Estimated Total Size (MB): 1010.62\n",
      "----------------------------------------------------------------\n"
     ]
    },
    {
     "name": "stderr",
     "output_type": "stream",
     "text": [
      "/home/dsola/anaconda3/envs/PGA-Net/lib/python3.8/site-packages/torch/nn/functional.py:718: UserWarning: Named tensors and all their associated APIs are an experimental feature and subject to change. Please do not use them for anything important until they are released as stable. (Triggered internally at  /pytorch/c10/core/TensorImpl.h:1156.)\n",
      "  return torch.max_pool2d(input, kernel_size, stride, padding, dilation, ceil_mode)\n"
     ]
    }
   ],
   "source": [
    "summary(UNet(n_channels=3, n_classes=3, bilinear=True).to('cuda'), (3, 256, 256))"
   ]
  },
  {
   "cell_type": "code",
   "execution_count": null,
   "id": "0315debc-82d8-4768-ad3d-b41bdc7094f4",
   "metadata": {},
   "outputs": [],
   "source": []
  }
 ],
 "metadata": {
  "kernelspec": {
   "display_name": "Python 3",
   "language": "python",
   "name": "python3"
  },
  "language_info": {
   "codemirror_mode": {
    "name": "ipython",
    "version": 3
   },
   "file_extension": ".py",
   "mimetype": "text/x-python",
   "name": "python",
   "nbconvert_exporter": "python",
   "pygments_lexer": "ipython3",
   "version": "3.8.5"
  }
 },
 "nbformat": 4,
 "nbformat_minor": 5
}
