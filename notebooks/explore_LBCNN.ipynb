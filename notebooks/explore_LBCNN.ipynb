{
 "cells": [
  {
   "cell_type": "code",
   "execution_count": 1,
   "id": "99b72512-b093-40c3-8c90-585d3af5a90c",
   "metadata": {},
   "outputs": [],
   "source": [
    "from src.models.lbcnn.lbcnn_parts import ConvLBP\n",
    "from src.models.dsc.dsc_lbc_unet import DSCConvLBP\n",
    "import torch.nn as nn\n",
    "import torch"
   ]
  },
  {
   "cell_type": "code",
   "execution_count": 30,
   "id": "07e5e60d-14db-490b-b474-ef6a4571e501",
   "metadata": {},
   "outputs": [],
   "source": [
    "layer1 = nn.Conv2d(3, 3, kernel_size=3)\n",
    "layer2 = ConvLBP(3, 3)"
   ]
  },
  {
   "cell_type": "code",
   "execution_count": 1,
   "id": "99e82e20-35a9-42bc-9676-a189e23fd710",
   "metadata": {},
   "outputs": [
    {
     "ename": "NameError",
     "evalue": "name 'layer1' is not defined",
     "output_type": "error",
     "traceback": [
      "\u001b[0;31m---------------------------------------------------------------------------\u001b[0m",
      "\u001b[0;31mNameError\u001b[0m                                 Traceback (most recent call last)",
      "\u001b[0;32m<ipython-input-1-517d8636b26c>\u001b[0m in \u001b[0;36m<module>\u001b[0;34m\u001b[0m\n\u001b[0;32m----> 1\u001b[0;31m \u001b[0mprint\u001b[0m\u001b[0;34m(\u001b[0m\u001b[0mlayer1\u001b[0m\u001b[0;34m.\u001b[0m\u001b[0mweight\u001b[0m\u001b[0;34m.\u001b[0m\u001b[0mdata\u001b[0m\u001b[0;34m.\u001b[0m\u001b[0mnumpy\u001b[0m\u001b[0;34m(\u001b[0m\u001b[0;34m)\u001b[0m\u001b[0;34m.\u001b[0m\u001b[0mshape\u001b[0m\u001b[0;34m)\u001b[0m\u001b[0;34m\u001b[0m\u001b[0;34m\u001b[0m\u001b[0m\n\u001b[0m\u001b[1;32m      2\u001b[0m \u001b[0mprint\u001b[0m\u001b[0;34m(\u001b[0m\u001b[0mlayer2\u001b[0m\u001b[0;34m.\u001b[0m\u001b[0mweight\u001b[0m\u001b[0;34m.\u001b[0m\u001b[0mdata\u001b[0m\u001b[0;34m.\u001b[0m\u001b[0mnumpy\u001b[0m\u001b[0;34m(\u001b[0m\u001b[0;34m)\u001b[0m\u001b[0;34m.\u001b[0m\u001b[0mshape\u001b[0m\u001b[0;34m)\u001b[0m\u001b[0;34m\u001b[0m\u001b[0;34m\u001b[0m\u001b[0m\n",
      "\u001b[0;31mNameError\u001b[0m: name 'layer1' is not defined"
     ]
    }
   ],
   "source": [
    "print(layer1.weight.data.numpy().shape)\n",
    "print(layer2.weight.data.numpy().shape)"
   ]
  },
  {
   "cell_type": "code",
   "execution_count": 32,
   "id": "5e82ef18-5bd1-4cef-9eeb-b282d5311163",
   "metadata": {},
   "outputs": [],
   "source": [
    "weights1 = layer1.weight.data.numpy()\n",
    "weights2 = layer2.weight.data.numpy()"
   ]
  },
  {
   "cell_type": "code",
   "execution_count": 33,
   "id": "0d141ba0-232a-4bb0-9c81-34839f53ad66",
   "metadata": {},
   "outputs": [
    {
     "data": {
      "text/plain": [
       "array([[[-0.16135396, -0.0464388 , -0.06492198],\n",
       "        [ 0.00832314,  0.11083342,  0.064671  ],\n",
       "        [ 0.01963076,  0.10890828, -0.05856703]],\n",
       "\n",
       "       [[ 0.1908251 ,  0.16622601,  0.1073497 ],\n",
       "        [-0.18438329, -0.10498405,  0.00216952],\n",
       "        [ 0.02143887, -0.08640892,  0.15908188]],\n",
       "\n",
       "       [[-0.02085519,  0.13306558,  0.10958765],\n",
       "        [ 0.17862745, -0.10089059,  0.01201264],\n",
       "        [-0.04580659,  0.16135   , -0.03892624]]], dtype=float32)"
      ]
     },
     "execution_count": 33,
     "metadata": {},
     "output_type": "execute_result"
    }
   ],
   "source": [
    "weights1[0]"
   ]
  },
  {
   "cell_type": "code",
   "execution_count": 34,
   "id": "82b3beee-f396-4a85-9425-9c04996931a9",
   "metadata": {},
   "outputs": [
    {
     "data": {
      "text/plain": [
       "array([[[ 0.,  1., -1.],\n",
       "        [ 1., -1.,  0.],\n",
       "        [ 0.,  0., -1.]],\n",
       "\n",
       "       [[ 0.,  0.,  0.],\n",
       "        [-1.,  1.,  0.],\n",
       "        [ 0.,  1.,  0.]],\n",
       "\n",
       "       [[-1.,  0.,  1.],\n",
       "        [-1., -1., -1.],\n",
       "        [-1., -1.,  0.]]], dtype=float32)"
      ]
     },
     "execution_count": 34,
     "metadata": {},
     "output_type": "execute_result"
    }
   ],
   "source": [
    "weights2[0]"
   ]
  },
  {
   "cell_type": "code",
   "execution_count": 35,
   "id": "0eca5de3-2458-475a-b551-00f09607035a",
   "metadata": {},
   "outputs": [],
   "source": [
    "weights = next(layer1.parameters())"
   ]
  },
  {
   "cell_type": "code",
   "execution_count": 43,
   "id": "84d3d835-a60c-4283-bc32-2713385b8aaa",
   "metadata": {},
   "outputs": [],
   "source": [
    "matrix_proba = torch.FloatTensor(weights.data.shape).fill_(0.5)"
   ]
  },
  {
   "cell_type": "code",
   "execution_count": 50,
   "id": "6243b079-e81b-4377-8374-1dbf2ea6f936",
   "metadata": {},
   "outputs": [],
   "source": [
    "binary_weights = torch.bernoulli(matrix_proba) * 2 - 1"
   ]
  },
  {
   "cell_type": "code",
   "execution_count": 52,
   "id": "cb8679ae-8f93-4586-b966-991326e55e5b",
   "metadata": {},
   "outputs": [
    {
     "data": {
      "text/plain": [
       "tensor([[[[False, False, False],\n",
       "          [ True, False,  True],\n",
       "          [False, False, False]],\n",
       "\n",
       "         [[ True,  True, False],\n",
       "          [ True, False, False],\n",
       "          [ True,  True, False]],\n",
       "\n",
       "         [[ True, False,  True],\n",
       "          [ True, False, False],\n",
       "          [ True,  True,  True]]],\n",
       "\n",
       "\n",
       "        [[[ True, False,  True],\n",
       "          [False,  True,  True],\n",
       "          [False,  True,  True]],\n",
       "\n",
       "         [[ True, False,  True],\n",
       "          [ True,  True,  True],\n",
       "          [ True, False, False]],\n",
       "\n",
       "         [[False,  True, False],\n",
       "          [False,  True, False],\n",
       "          [False, False, False]]],\n",
       "\n",
       "\n",
       "        [[[False, False,  True],\n",
       "          [ True, False,  True],\n",
       "          [False, False, False]],\n",
       "\n",
       "         [[False, False,  True],\n",
       "          [ True,  True, False],\n",
       "          [ True,  True,  True]],\n",
       "\n",
       "         [[ True, False, False],\n",
       "          [False, False,  True],\n",
       "          [False,  True, False]]]])"
      ]
     },
     "execution_count": 52,
     "metadata": {},
     "output_type": "execute_result"
    }
   ],
   "source": [
    "torch.rand(matrix_proba.shape) > 0.5"
   ]
  },
  {
   "cell_type": "code",
   "execution_count": 54,
   "id": "e5ad2462-9ac0-461c-80e6-89f132ea9a64",
   "metadata": {},
   "outputs": [
    {
     "data": {
      "text/plain": [
       "(64, 3, 1, 1)"
      ]
     },
     "execution_count": 54,
     "metadata": {},
     "output_type": "execute_result"
    }
   ],
   "source": [
    "nn.Conv2d(3, 64, kernel_size=1).weight.data.numpy().shape"
   ]
  },
  {
   "cell_type": "code",
   "execution_count": null,
   "id": "3b6c9134-d159-4742-acbe-5fa6b3d9bf7e",
   "metadata": {},
   "outputs": [],
   "source": []
  }
 ],
 "metadata": {
  "kernelspec": {
   "display_name": "Python 3",
   "language": "python",
   "name": "python3"
  },
  "language_info": {
   "codemirror_mode": {
    "name": "ipython",
    "version": 3
   },
   "file_extension": ".py",
   "mimetype": "text/x-python",
   "name": "python",
   "nbconvert_exporter": "python",
   "pygments_lexer": "ipython3",
   "version": "3.8.5"
  }
 },
 "nbformat": 4,
 "nbformat_minor": 5
}
