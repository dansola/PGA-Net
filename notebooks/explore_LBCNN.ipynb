{
 "cells": [
  {
   "cell_type": "code",
   "execution_count": 1,
   "id": "99b72512-b093-40c3-8c90-585d3af5a90c",
   "metadata": {},
   "outputs": [],
   "source": [
    "from src.models.lbcnn.lbcnn_parts import ConvLBP\n",
    "from src.models.dsc.dsc_lbc_unet import DSCConvLBP\n",
    "import torch.nn as nn\n",
    "import torch\n",
    "from src.models.lbcnn.lbc_unet import UNetLBP, SmallUNetLBP, SkinnySmallUNetLBP\n",
    "from src.datasets.ice import Ice\n",
    "from torch.utils.data import DataLoader\n",
    "import os\n",
    "import matplotlib.pyplot as plt\n",
    "import numpy as np"
   ]
  },
  {
   "cell_type": "code",
   "execution_count": 2,
   "id": "6568737b-75ff-41fb-98a0-f45e094556cb",
   "metadata": {},
   "outputs": [],
   "source": [
    "activation = {}\n",
    "def get_activation(name):\n",
    "    def hook(model, input, output):\n",
    "        activation[name] = output.detach()\n",
    "    return hook"
   ]
  },
  {
   "cell_type": "code",
   "execution_count": 3,
   "id": "07e5e60d-14db-490b-b474-ef6a4571e501",
   "metadata": {},
   "outputs": [],
   "source": [
    "layer1 = nn.Conv2d(3, 3, kernel_size=3)\n",
    "layer2 = ConvLBP(3, 3)"
   ]
  },
  {
   "cell_type": "code",
   "execution_count": 4,
   "id": "99e82e20-35a9-42bc-9676-a189e23fd710",
   "metadata": {},
   "outputs": [
    {
     "name": "stdout",
     "output_type": "stream",
     "text": [
      "(3, 3, 3, 3)\n",
      "(3, 3, 3, 3)\n"
     ]
    }
   ],
   "source": [
    "print(layer1.weight.data.numpy().shape)\n",
    "print(layer2.weight.data.numpy().shape)"
   ]
  },
  {
   "cell_type": "code",
   "execution_count": 5,
   "id": "5e82ef18-5bd1-4cef-9eeb-b282d5311163",
   "metadata": {},
   "outputs": [],
   "source": [
    "weights1 = layer1.weight.data.numpy()\n",
    "weights2 = layer2.weight.data.numpy()"
   ]
  },
  {
   "cell_type": "code",
   "execution_count": 6,
   "id": "0d141ba0-232a-4bb0-9c81-34839f53ad66",
   "metadata": {},
   "outputs": [
    {
     "data": {
      "text/plain": [
       "array([[[ 0.02601616,  0.11693056,  0.16377093],\n",
       "        [-0.17390822,  0.0259165 ,  0.16464901],\n",
       "        [ 0.17147093,  0.09469462,  0.15063304]],\n",
       "\n",
       "       [[ 0.02434446, -0.15260205,  0.12075678],\n",
       "        [-0.07501121,  0.05568367, -0.03578801],\n",
       "        [-0.1895049 , -0.09714251,  0.0195065 ]],\n",
       "\n",
       "       [[ 0.14242333, -0.0712828 ,  0.14337683],\n",
       "        [-0.03083569, -0.14482556, -0.1340347 ],\n",
       "        [-0.00603031, -0.18593928,  0.0879828 ]]], dtype=float32)"
      ]
     },
     "execution_count": 6,
     "metadata": {},
     "output_type": "execute_result"
    }
   ],
   "source": [
    "weights1[0]"
   ]
  },
  {
   "cell_type": "code",
   "execution_count": 7,
   "id": "82b3beee-f396-4a85-9425-9c04996931a9",
   "metadata": {},
   "outputs": [
    {
     "data": {
      "text/plain": [
       "array([[[ 1.,  1., -1.],\n",
       "        [ 0., -1.,  0.],\n",
       "        [-1.,  0.,  0.]],\n",
       "\n",
       "       [[ 0.,  0.,  1.],\n",
       "        [ 1.,  0., -1.],\n",
       "        [ 1.,  1.,  0.]],\n",
       "\n",
       "       [[ 0., -1., -1.],\n",
       "        [ 0.,  1.,  0.],\n",
       "        [ 0., -1., -1.]]], dtype=float32)"
      ]
     },
     "execution_count": 7,
     "metadata": {},
     "output_type": "execute_result"
    }
   ],
   "source": [
    "weights2[0]"
   ]
  },
  {
   "cell_type": "code",
   "execution_count": 8,
   "id": "0eca5de3-2458-475a-b551-00f09607035a",
   "metadata": {},
   "outputs": [],
   "source": [
    "weights = next(layer1.parameters())"
   ]
  },
  {
   "cell_type": "code",
   "execution_count": 9,
   "id": "84d3d835-a60c-4283-bc32-2713385b8aaa",
   "metadata": {},
   "outputs": [],
   "source": [
    "matrix_proba = torch.FloatTensor(weights.data.shape).fill_(0.5)"
   ]
  },
  {
   "cell_type": "code",
   "execution_count": 40,
   "id": "fc423726-14aa-43f4-816c-6b90f480e0ca",
   "metadata": {},
   "outputs": [
    {
     "data": {
      "text/plain": [
       "tensor([0., 1.])"
      ]
     },
     "execution_count": 40,
     "metadata": {},
     "output_type": "execute_result"
    }
   ],
   "source": [
    "torch.bernoulli(matrix_proba).unique()"
   ]
  },
  {
   "cell_type": "code",
   "execution_count": 10,
   "id": "6243b079-e81b-4377-8374-1dbf2ea6f936",
   "metadata": {},
   "outputs": [],
   "source": [
    "binary_weights = torch.bernoulli(matrix_proba) * 2 - 1"
   ]
  },
  {
   "cell_type": "code",
   "execution_count": 45,
   "id": "b05b5cb7-2f78-4e84-a477-9cb9edd6da2d",
   "metadata": {},
   "outputs": [
    {
     "data": {
      "text/plain": [
       "tensor([True])"
      ]
     },
     "execution_count": 45,
     "metadata": {},
     "output_type": "execute_result"
    }
   ],
   "source": [
    "(torch.rand(matrix_proba.shape) > 0).unique()"
   ]
  },
  {
   "cell_type": "code",
   "execution_count": null,
   "id": "c49d1ea3-b4cd-4668-a687-d8fe63523e29",
   "metadata": {},
   "outputs": [],
   "source": []
  },
  {
   "cell_type": "code",
   "execution_count": null,
   "id": "54735137-33a7-497e-9e66-0e01761f73af",
   "metadata": {},
   "outputs": [],
   "source": []
  },
  {
   "cell_type": "code",
   "execution_count": 11,
   "id": "cb8679ae-8f93-4586-b966-991326e55e5b",
   "metadata": {},
   "outputs": [
    {
     "data": {
      "text/plain": [
       "tensor([[[[True, True, True],\n",
       "          [True, True, True],\n",
       "          [True, True, True]],\n",
       "\n",
       "         [[True, True, True],\n",
       "          [True, True, True],\n",
       "          [True, True, True]],\n",
       "\n",
       "         [[True, True, True],\n",
       "          [True, True, True],\n",
       "          [True, True, True]]],\n",
       "\n",
       "\n",
       "        [[[True, True, True],\n",
       "          [True, True, True],\n",
       "          [True, True, True]],\n",
       "\n",
       "         [[True, True, True],\n",
       "          [True, True, True],\n",
       "          [True, True, True]],\n",
       "\n",
       "         [[True, True, True],\n",
       "          [True, True, True],\n",
       "          [True, True, True]]],\n",
       "\n",
       "\n",
       "        [[[True, True, True],\n",
       "          [True, True, True],\n",
       "          [True, True, True]],\n",
       "\n",
       "         [[True, True, True],\n",
       "          [True, True, True],\n",
       "          [True, True, True]],\n",
       "\n",
       "         [[True, True, True],\n",
       "          [True, True, True],\n",
       "          [True, True, True]]]])"
      ]
     },
     "execution_count": 11,
     "metadata": {},
     "output_type": "execute_result"
    }
   ],
   "source": [
    "torch.rand(matrix_proba.shape) > 0"
   ]
  },
  {
   "cell_type": "code",
   "execution_count": 12,
   "id": "e5ad2462-9ac0-461c-80e6-89f132ea9a64",
   "metadata": {},
   "outputs": [
    {
     "data": {
      "text/plain": [
       "(64, 3, 1, 1)"
      ]
     },
     "execution_count": 12,
     "metadata": {},
     "output_type": "execute_result"
    }
   ],
   "source": [
    "nn.Conv2d(3, 64, kernel_size=1).weight.data.numpy().shape"
   ]
  },
  {
   "cell_type": "code",
   "execution_count": 4,
   "id": "3b6c9134-d159-4742-acbe-5fa6b3d9bf7e",
   "metadata": {},
   "outputs": [
    {
     "data": {
      "text/plain": [
       "<All keys matched successfully>"
      ]
     },
     "execution_count": 4,
     "metadata": {},
     "output_type": "execute_result"
    }
   ],
   "source": [
    "device = 'cpu'\n",
    "checkpoint = 'skinny_small_lbc_unet_sparcity_12'\n",
    "epoch = 19\n",
    "checkpoint_path = f'/home/dsola/repos/PGA-Net/checkpoints/{checkpoint}/epoch{epoch + 1}.pth'\n",
    "net = SkinnySmallUNetLBP(3, 3)\n",
    "net.load_state_dict(torch.load(checkpoint_path, map_location=device))"
   ]
  },
  {
   "cell_type": "code",
   "execution_count": 5,
   "id": "ed28042b-4d35-495d-9006-ec162deeb1b8",
   "metadata": {},
   "outputs": [],
   "source": [
    "data_dir = '/home/dsola/repos/PGA-Net/data/'\n",
    "batch_size = 1\n",
    "img_scale = 0.35\n",
    "img_crop = 256\n",
    "\n",
    "test_set = Ice(os.path.join(data_dir, 'imgs'), os.path.join(data_dir, 'masks'),\n",
    "              os.path.join(data_dir, 'txt_files'), 'val', img_scale, img_crop)\n",
    "\n",
    "test_loader = DataLoader(test_set, batch_size=batch_size)\n",
    "\n",
    "out = nn.Softmax(dim=1)"
   ]
  },
  {
   "cell_type": "code",
   "execution_count": 6,
   "id": "0105e127-e871-4b92-b20b-7d1a9c30baba",
   "metadata": {},
   "outputs": [],
   "source": [
    "for batch in test_loader:\n",
    "    pass"
   ]
  },
  {
   "cell_type": "code",
   "execution_count": 7,
   "id": "20d821ce-3276-41b6-8820-ad5065bdb987",
   "metadata": {},
   "outputs": [],
   "source": [
    "img = batch['image'].to(device=device)"
   ]
  },
  {
   "cell_type": "code",
   "execution_count": 8,
   "id": "ea67b35e-1c33-4f7a-a116-5eaf91c7c99a",
   "metadata": {},
   "outputs": [
    {
     "data": {
      "text/plain": [
       "torch.Size([1, 3, 256, 256])"
      ]
     },
     "execution_count": 8,
     "metadata": {},
     "output_type": "execute_result"
    }
   ],
   "source": [
    "img.shape"
   ]
  },
  {
   "cell_type": "code",
   "execution_count": 9,
   "id": "4f3e4c24-7d70-49c1-bced-af10c85d89c8",
   "metadata": {},
   "outputs": [
    {
     "name": "stderr",
     "output_type": "stream",
     "text": [
      "/home/dsola/anaconda3/envs/PGA-Net/lib/python3.8/site-packages/torch/nn/functional.py:718: UserWarning: Named tensors and all their associated APIs are an experimental feature and subject to change. Please do not use them for anything important until they are released as stable. (Triggered internally at  /pytorch/c10/core/TensorImpl.h:1156.)\n",
      "  return torch.max_pool2d(input, kernel_size, stride, padding, dilation, ceil_mode)\n"
     ]
    }
   ],
   "source": [
    "output = net(img)\n",
    "sftmx = out(output)\n",
    "argmx = torch.argmax(sftmx, dim=1)"
   ]
  },
  {
   "cell_type": "code",
   "execution_count": 10,
   "id": "c1e48da3-fde4-4105-b3cb-84e756196f61",
   "metadata": {},
   "outputs": [
    {
     "data": {
      "text/plain": [
       "<matplotlib.image.AxesImage at 0x7f76e93a2640>"
      ]
     },
     "execution_count": 10,
     "metadata": {},
     "output_type": "execute_result"
    },
    {
     "data": {
      "image/png": "[encoded data removed]",
      "text/plain": [
       "<Figure size 432x288 with 1 Axes>"
      ]
     },
     "metadata": {
      "needs_background": "light"
     },
     "output_type": "display_data"
    }
   ],
   "source": [
    "argmx_np = argmx.squeeze(0).detach().numpy()\n",
    "plt.imshow(argmx_np)"
   ]
  },
  {
   "cell_type": "code",
   "execution_count": 11,
   "id": "c62232d7-a955-4d31-bee1-8a7d9f606642",
   "metadata": {},
   "outputs": [
    {
     "data": {
      "text/plain": [
       "torch.Size([1, 3, 256, 256])"
      ]
     },
     "execution_count": 11,
     "metadata": {},
     "output_type": "execute_result"
    }
   ],
   "source": [
    "img.shape"
   ]
  },
  {
   "cell_type": "code",
   "execution_count": 12,
   "id": "6a0d8b84-3c75-4f5b-926f-ead777f0ef10",
   "metadata": {},
   "outputs": [],
   "source": [
    "blah = net(img)"
   ]
  },
  {
   "cell_type": "code",
   "execution_count": 13,
   "id": "abae2541-d6bb-48ea-a5e2-2add51d03051",
   "metadata": {},
   "outputs": [],
   "source": [
    "x1 = net.inc.batch_norm(img)\n",
    "x2 = net.inc.conv_lbp(x1)\n",
    "x3 = net.inc.conv_1x1(x2)\n",
    "x4 = net.down1.maxpool_conv[0](x3)\n",
    "x5 = net.down1.maxpool_conv[1].batch_norm(x4)\n",
    "x6 = net.down1.maxpool_conv[1].conv_lbp(x5)\n",
    "x7 = net.down1.maxpool_conv[1].conv_1x1(x6)"
   ]
  },
  {
   "cell_type": "code",
   "execution_count": 14,
   "id": "60784153-fef6-4855-a2e0-265ce0deb6e7",
   "metadata": {},
   "outputs": [
    {
     "data": {
      "text/plain": [
       "torch.Size([1, 3, 256, 256])"
      ]
     },
     "execution_count": 14,
     "metadata": {},
     "output_type": "execute_result"
    }
   ],
   "source": [
    "x1.shape"
   ]
  },
  {
   "cell_type": "code",
   "execution_count": 15,
   "id": "ebefb9e1-e956-4bec-ba1b-ffef4501ea6c",
   "metadata": {},
   "outputs": [
    {
     "data": {
      "text/plain": [
       "tensor([[ -5.9215, -12.5836, -10.5367,  ..., -18.8676, -15.3084,  -8.3931],\n",
       "        [ -6.4128, -12.8988, -12.5151,  ..., -23.3340, -18.2241,  -8.9958],\n",
       "        [ -5.9569, -13.1044, -16.6157,  ..., -27.6611, -24.1920, -11.6889],\n",
       "        ...,\n",
       "        [ -1.4335,  -6.0834,  -0.0684,  ..., -10.2907, -11.4380,  -7.6093],\n",
       "        [ -6.9941,  -3.0037,   0.5665,  ...,  -8.7226,  -7.8221,  -5.4845],\n",
       "        [-13.6924,   5.8316,  -0.7514,  ...,  -4.5240,  -3.6140,  -7.2125]],\n",
       "       grad_fn=<SliceBackward>)"
      ]
     },
     "execution_count": 15,
     "metadata": {},
     "output_type": "execute_result"
    }
   ],
   "source": [
    "x7[0,0,:,:]"
   ]
  },
  {
   "cell_type": "code",
   "execution_count": 16,
   "id": "39d96e34-50f0-4b1a-8eb5-f6784d84e680",
   "metadata": {},
   "outputs": [
    {
     "data": {
      "text/plain": [
       "SkinnySmallUNetLBP(\n",
       "  (inc): BlockLBPUNet(\n",
       "    (batch_norm): BatchNorm2d(3, eps=1e-05, momentum=0.1, affine=True, track_running_stats=True)\n",
       "    (conv_lbp): ConvLBP(3, 3, kernel_size=(3, 3), stride=(1, 1), padding=(1, 1), bias=False)\n",
       "    (conv_1x1): Conv2d(3, 32, kernel_size=(1, 1), stride=(1, 1))\n",
       "  )\n",
       "  (down1): DownLBP(\n",
       "    (maxpool_conv): Sequential(\n",
       "      (0): MaxPool2d(kernel_size=2, stride=2, padding=0, dilation=1, ceil_mode=False)\n",
       "      (1): BlockLBPUNet(\n",
       "        (batch_norm): BatchNorm2d(32, eps=1e-05, momentum=0.1, affine=True, track_running_stats=True)\n",
       "        (conv_lbp): ConvLBP(32, 32, kernel_size=(3, 3), stride=(1, 1), padding=(1, 1), bias=False)\n",
       "        (conv_1x1): Conv2d(32, 64, kernel_size=(1, 1), stride=(1, 1))\n",
       "      )\n",
       "    )\n",
       "  )\n",
       "  (down2): DownLBP(\n",
       "    (maxpool_conv): Sequential(\n",
       "      (0): MaxPool2d(kernel_size=2, stride=2, padding=0, dilation=1, ceil_mode=False)\n",
       "      (1): BlockLBPUNet(\n",
       "        (batch_norm): BatchNorm2d(64, eps=1e-05, momentum=0.1, affine=True, track_running_stats=True)\n",
       "        (conv_lbp): ConvLBP(64, 64, kernel_size=(3, 3), stride=(1, 1), padding=(1, 1), bias=False)\n",
       "        (conv_1x1): Conv2d(64, 64, kernel_size=(1, 1), stride=(1, 1))\n",
       "      )\n",
       "    )\n",
       "  )\n",
       "  (up1): UpLBP(\n",
       "    (up): Upsample(scale_factor=2.0, mode=bilinear)\n",
       "    (conv): BlockLBPUNet(\n",
       "      (batch_norm): BatchNorm2d(128, eps=1e-05, momentum=0.1, affine=True, track_running_stats=True)\n",
       "      (conv_lbp): ConvLBP(128, 128, kernel_size=(3, 3), stride=(1, 1), padding=(1, 1), bias=False)\n",
       "      (conv_1x1): Conv2d(128, 32, kernel_size=(1, 1), stride=(1, 1))\n",
       "    )\n",
       "  )\n",
       "  (up2): UpLBP(\n",
       "    (up): Upsample(scale_factor=2.0, mode=bilinear)\n",
       "    (conv): BlockLBPUNet(\n",
       "      (batch_norm): BatchNorm2d(64, eps=1e-05, momentum=0.1, affine=True, track_running_stats=True)\n",
       "      (conv_lbp): ConvLBP(64, 64, kernel_size=(3, 3), stride=(1, 1), padding=(1, 1), bias=False)\n",
       "      (conv_1x1): Conv2d(64, 32, kernel_size=(1, 1), stride=(1, 1))\n",
       "    )\n",
       "  )\n",
       "  (outc): BlockLBPUNet(\n",
       "    (batch_norm): BatchNorm2d(32, eps=1e-05, momentum=0.1, affine=True, track_running_stats=True)\n",
       "    (conv_lbp): ConvLBP(32, 32, kernel_size=(3, 3), stride=(1, 1), padding=(1, 1), bias=False)\n",
       "    (conv_1x1): Conv2d(32, 3, kernel_size=(1, 1), stride=(1, 1))\n",
       "  )\n",
       ")"
      ]
     },
     "execution_count": 16,
     "metadata": {},
     "output_type": "execute_result"
    }
   ],
   "source": [
    "net"
   ]
  },
  {
   "cell_type": "code",
   "execution_count": 17,
   "id": "089d552d-8440-4c5c-b6ec-1dcf518e3e3d",
   "metadata": {},
   "outputs": [],
   "source": [
    "net.inc.batch_norm.register_forward_hook(get_activation('inc_batch_norm'))\n",
    "net.inc.conv_lbp.register_forward_hook(get_activation('inc_conv_lbp'))\n",
    "net.inc.conv_1x1.register_forward_hook(get_activation('inc_conv_1x1'))\n",
    "net.down1.maxpool_conv[0].register_forward_hook(get_activation('down1_mp'))\n",
    "net.down1.maxpool_conv[1].batch_norm.register_forward_hook(get_activation('down1_batch_norm'))\n",
    "net.down1.maxpool_conv[1].conv_lbp.register_forward_hook(get_activation('down1_conv_lbp'))\n",
    "net.down1.maxpool_conv[1].conv_1x1.register_forward_hook(get_activation('down1_conv_1x1'))\n",
    "\n",
    "output = net(img)"
   ]
  },
  {
   "cell_type": "code",
   "execution_count": 18,
   "id": "0e169de2-be4b-4d53-92bf-9f7fcc527ba3",
   "metadata": {},
   "outputs": [
    {
     "data": {
      "text/plain": [
       "tensor([[[[ 1.5727, -0.0611, -0.1803,  ..., -0.5996, -0.6335, -0.4469],\n",
       "          [-1.5035, -3.7041, -3.7052,  ..., -3.5963, -3.3303, -1.6351],\n",
       "          [-0.7537, -2.4744, -1.9100,  ..., -4.4014, -4.9703, -3.1391],\n",
       "          ...,\n",
       "          [-1.8752, -4.1809, -2.2205,  ..., -2.4295, -2.6457, -0.6828],\n",
       "          [-3.1794, -3.3087, -1.4855,  ..., -2.7697, -3.0777, -1.2373],\n",
       "          [ 3.6576,  4.4104,  1.5198,  ..., -3.1473, -3.1095, -1.2057]],\n",
       "\n",
       "         [[-1.3299, -0.5297, -0.4435,  ..., -0.6492, -0.2117,  0.7862],\n",
       "          [-2.7638, -2.3130, -2.8246,  ..., -2.8886, -2.7092, -2.1102],\n",
       "          [-2.4486, -1.8309, -2.4150,  ..., -2.6928, -2.5145, -3.3497],\n",
       "          ...,\n",
       "          [-1.5745, -2.6718, -3.5963,  ..., -1.5414, -2.2433, -1.8205],\n",
       "          [-0.6443, -1.3654, -4.2201,  ..., -2.2617, -2.2320, -2.2775],\n",
       "          [ 0.3603,  2.4019,  1.1965,  ..., -2.5252, -2.3006, -2.8062]],\n",
       "\n",
       "         [[ 3.0802,  1.5562,  1.1038,  ...,  1.7364,  1.5791,  0.5030],\n",
       "          [ 2.3965, -0.5456, -0.2097,  ...,  3.5129,  3.6780,  1.9555],\n",
       "          [ 3.7400,  1.9537,  2.6315,  ...,  2.2167,  1.4653,  0.3381],\n",
       "          ...,\n",
       "          [-1.0395, -3.3301, -1.1526,  ...,  1.3434,  1.2522,  0.3559],\n",
       "          [-4.0725, -5.1290,  0.7139,  ...,  0.7115,  0.4214,  0.0141],\n",
       "          [ 2.5991,  3.6417,  3.3396,  ..., -1.6591, -1.4830, -0.5941]]]])"
      ]
     },
     "execution_count": 18,
     "metadata": {},
     "output_type": "execute_result"
    }
   ],
   "source": [
    "activation['inc_conv_lbp']"
   ]
  },
  {
   "cell_type": "code",
   "execution_count": 19,
   "id": "69eb0457-d031-4e8f-83df-624033b8a442",
   "metadata": {},
   "outputs": [
    {
     "data": {
      "text/plain": [
       "Parameter containing:\n",
       "tensor([[[[-1.,  1.,  1.],\n",
       "          [ 1.,  1., -1.],\n",
       "          [ 1., -1.,  1.]],\n",
       "\n",
       "         [[ 1.,  1.,  1.],\n",
       "          [ 1.,  1.,  1.],\n",
       "          [-1., -1., -1.]],\n",
       "\n",
       "         [[ 1., -1.,  1.],\n",
       "          [-1., -1.,  1.],\n",
       "          [ 1., -1., -1.]]],\n",
       "\n",
       "\n",
       "        [[[ 1.,  1., -1.],\n",
       "          [ 1.,  1., -1.],\n",
       "          [-1., -1.,  1.]],\n",
       "\n",
       "         [[ 1.,  1., -1.],\n",
       "          [-1., -1.,  1.],\n",
       "          [-1., -1.,  1.]],\n",
       "\n",
       "         [[-1.,  1.,  1.],\n",
       "          [-1.,  1.,  1.],\n",
       "          [ 1.,  1., -1.]]],\n",
       "\n",
       "\n",
       "        [[[-1., -1., -1.],\n",
       "          [ 1., -1.,  1.],\n",
       "          [ 1., -1., -1.]],\n",
       "\n",
       "         [[ 1.,  1.,  1.],\n",
       "          [ 1.,  1.,  1.],\n",
       "          [-1., -1., -1.]],\n",
       "\n",
       "         [[ 1., -1.,  1.],\n",
       "          [ 1.,  1., -1.],\n",
       "          [-1., -1., -1.]]]])"
      ]
     },
     "execution_count": 19,
     "metadata": {},
     "output_type": "execute_result"
    }
   ],
   "source": [
    "net.inc.conv_lbp.weight"
   ]
  },
  {
   "cell_type": "code",
   "execution_count": 30,
   "id": "d999ffe6-9793-4d4a-8f8f-fc85a242cfc6",
   "metadata": {},
   "outputs": [
    {
     "data": {
      "text/plain": [
       "tensor([[[[ 0.6046,  0.6046,  0.6046,  ...,  0.6051,  0.6050,  0.6047],\n",
       "          [ 0.6047,  0.6047,  0.6046,  ...,  0.6050,  0.6050,  0.6051],\n",
       "          [ 0.6043,  0.6041,  0.6037,  ...,  0.6052,  0.6053,  0.6053],\n",
       "          ...,\n",
       "          [ 0.6039,  0.6038,  0.6042,  ...,  0.6045,  0.6045,  0.6046],\n",
       "          [ 0.6035,  0.6022,  0.6028,  ...,  0.6045,  0.6044,  0.6045],\n",
       "          [ 0.6017,  0.6011,  0.6018,  ...,  0.6043,  0.6042,  0.6041]],\n",
       "\n",
       "         [[-0.2223, -0.2223, -0.2223,  ..., -0.2222, -0.2222, -0.2221],\n",
       "          [-0.2223, -0.2223, -0.2223,  ..., -0.2221, -0.2221, -0.2220],\n",
       "          [-0.2223, -0.2223, -0.2223,  ..., -0.2221, -0.2221, -0.2220],\n",
       "          ...,\n",
       "          [-0.2223, -0.2223, -0.2223,  ..., -0.2223, -0.2223, -0.2223],\n",
       "          [-0.2224, -0.2224, -0.2224,  ..., -0.2223, -0.2223, -0.2223],\n",
       "          [-0.2224, -0.2224, -0.2224,  ..., -0.2223, -0.2223, -0.2222]],\n",
       "\n",
       "         [[ 0.3911,  0.3911,  0.3911,  ...,  0.3917,  0.3916,  0.3918],\n",
       "          [ 0.3911,  0.3911,  0.3911,  ...,  0.3917,  0.3918,  0.3922],\n",
       "          [ 0.3909,  0.3908,  0.3906,  ...,  0.3918,  0.3921,  0.3924],\n",
       "          ...,\n",
       "          [ 0.3906,  0.3905,  0.3907,  ...,  0.3909,  0.3908,  0.3909],\n",
       "          [ 0.3902,  0.3895,  0.3899,  ...,  0.3911,  0.3910,  0.3911],\n",
       "          [ 0.3892,  0.3889,  0.3894,  ...,  0.3910,  0.3909,  0.3909]],\n",
       "\n",
       "         ...,\n",
       "\n",
       "         [[ 0.7384,  0.7383,  0.7384,  ...,  0.7382,  0.7380,  0.7374],\n",
       "          [ 0.7385,  0.7384,  0.7384,  ...,  0.7379,  0.7378,  0.7374],\n",
       "          [ 0.7383,  0.7382,  0.7379,  ...,  0.7380,  0.7379,  0.7375],\n",
       "          ...,\n",
       "          [ 0.7384,  0.7383,  0.7385,  ...,  0.7386,  0.7386,  0.7386],\n",
       "          [ 0.7383,  0.7376,  0.7377,  ...,  0.7383,  0.7382,  0.7383],\n",
       "          [ 0.7373,  0.7370,  0.7372,  ...,  0.7382,  0.7381,  0.7380]],\n",
       "\n",
       "         [[ 0.4714,  0.4714,  0.4714,  ...,  0.4716,  0.4715,  0.4714],\n",
       "          [ 0.4714,  0.4714,  0.4714,  ...,  0.4716,  0.4715,  0.4716],\n",
       "          [ 0.4712,  0.4711,  0.4709,  ...,  0.4716,  0.4717,  0.4717],\n",
       "          ...,\n",
       "          [ 0.4711,  0.4710,  0.4712,  ...,  0.4714,  0.4713,  0.4714],\n",
       "          [ 0.4708,  0.4701,  0.4705,  ...,  0.4713,  0.4713,  0.4713],\n",
       "          [ 0.4699,  0.4696,  0.4699,  ...,  0.4713,  0.4712,  0.4711]],\n",
       "\n",
       "         [[ 0.2203,  0.2203,  0.2203,  ...,  0.2201,  0.2202,  0.2201],\n",
       "          [ 0.2203,  0.2203,  0.2203,  ...,  0.2201,  0.2200,  0.2199],\n",
       "          [ 0.2204,  0.2205,  0.2205,  ...,  0.2201,  0.2199,  0.2198],\n",
       "          ...,\n",
       "          [ 0.2204,  0.2204,  0.2205,  ...,  0.2203,  0.2204,  0.2203],\n",
       "          [ 0.2207,  0.2211,  0.2210,  ...,  0.2203,  0.2203,  0.2203],\n",
       "          [ 0.2212,  0.2214,  0.2213,  ...,  0.2203,  0.2204,  0.2204]]]])"
      ]
     },
     "execution_count": 30,
     "metadata": {},
     "output_type": "execute_result"
    }
   ],
   "source": [
    "activation['inc_conv_1x1']"
   ]
  },
  {
   "cell_type": "code",
   "execution_count": null,
   "id": "5bd86d72-4afb-494b-b7d4-3941bdac6b64",
   "metadata": {},
   "outputs": [],
   "source": []
  }
 ],
 "metadata": {
  "kernelspec": {
   "display_name": "Python 3",
   "language": "python",
   "name": "python3"
  },
  "language_info": {
   "codemirror_mode": {
    "name": "ipython",
    "version": 3
   },
   "file_extension": ".py",
   "mimetype": "text/x-python",
   "name": "python",
   "nbconvert_exporter": "python",
   "pygments_lexer": "ipython3",
   "version": "3.8.5"
  }
 },
 "nbformat": 4,
 "nbformat_minor": 5
}
