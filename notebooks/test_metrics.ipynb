{
 "cells": [
  {
   "cell_type": "code",
   "execution_count": 1,
   "id": "00d60e8f-e97e-4de5-92b8-51bdc2c0a0a8",
   "metadata": {},
   "outputs": [],
   "source": [
    "import sys\n",
    "sys.path.append('..')\n",
    "\n",
    "import numpy as np\n",
    "import torch\n",
    "from torch import nn\n",
    "import torch.nn.functional as F\n",
    "from PIL import Image\n",
    "from torchvision import transforms\n",
    "from torch.utils.data import DataLoader\n",
    "\n",
    "from src.models.basic_axial.basic_axialnet import BasicAxial\n",
    "from src.models.basic_pga.basic_pga_net import BasicAxialPGA, OnlyPGA, BigOnlyPGA\n",
    "from src.datasets.ice import Ice, IceWithProposals\n",
    "from src.metrics.segmentation import _fast_hist, per_class_pixel_accuracy, jaccard_index, overall_pixel_accuracy, fw_miou\n",
    "from src.metrics.utils import display_metric_list\n",
    "\n",
    "import matplotlib.pyplot as plt\n",
    "\n",
    "import os"
   ]
  },
  {
   "cell_type": "code",
   "execution_count": 2,
   "id": "f77088ad-a5e3-4022-a8b9-26245d7bb563",
   "metadata": {},
   "outputs": [],
   "source": [
    "def mean_iou(hist_matrix, class_names):\n",
    "    classes = len(class_names)\n",
    "    class_scores = np.zeros((classes))\n",
    "    for i in range(classes):\n",
    "        class_scores[i] = hist_matrix[i,i]/(max(1,np.sum(hist_matrix[i,:])+np.sum(hist_matrix[:,i])-hist_matrix[i,i]))\n",
    "        print('class',class_names[i],'miou',class_scores[i])\n",
    "    print('Mean IOU:',np.mean(class_scores))\n",
    "    return class_scores\n",
    "\n",
    "def freq_weighted_miou(hist_matrix, class_names):\n",
    "    classes = len(class_names)\n",
    "    class_scores = np.zeros((classes))\n",
    "    for i in range(classes):\n",
    "        class_scores[i] = np.sum(hist_matrix[i,:])*hist_matrix[i,i]/(max(1,np.sum(hist_matrix[i,:])))\n",
    "    fmiou = np.sum(class_scores)/np.sum(hist_matrix).astype('float')\n",
    "    print('Frequency Weighted mean accuracy:',fmiou)\n",
    "    return fmiou\n",
    "\n",
    "def hist_per_batch(tensor_1, tensor_2, ignore_label=255, classes=21):\n",
    "    hist_tensor = torch.zeros(classes,classes)\n",
    "    for class_2_int in range(classes):\n",
    "        tensor_2_class = torch.eq(tensor_2,class_2_int).long()\n",
    "        for class_1_int in range(classes):\n",
    "            tensor_1_class = torch.eq(tensor_1,class_1_int).long()\n",
    "            tensor_1_class = torch.mul(tensor_2_class,tensor_1_class)\n",
    "            count = torch.sum(tensor_1_class)\n",
    "            hist_tensor[class_2_int,class_1_int] +=count\n",
    "    return hist_tensor\n",
    "\n",
    "def mean_pixel_accuracy(hist_matrix, class_names):\n",
    "    classes = len(class_names)\n",
    "    class_scores = np.zeros((classes))\n",
    "    for i in range(classes):\n",
    "        class_scores[i] = hist_matrix[i,i]/(max(1,np.sum(hist_matrix[i,:])))\n",
    "        print('class',class_names[i],'mean_pixel_accuracy',class_scores[i])\n",
    "    return class_scores\n",
    "\n",
    "def pixel_accuracy(hist_matrix):\n",
    "    num = np.trace(hist_matrix)\n",
    "    p_a =  num/max(1,np.sum(hist_matrix).astype('float'))\n",
    "    print('Pixel accuracy:',p_a)\n",
    "    return p_a"
   ]
  },
  {
   "cell_type": "code",
   "execution_count": 3,
   "id": "4f5858de-a2b2-4131-92ce-e4001350af28",
   "metadata": {},
   "outputs": [],
   "source": [
    "data_dir = '../data'\n",
    "img_scale = .35\n",
    "img_crop = 220\n",
    "\n",
    "device = torch.device('cuda' if torch.cuda.is_available() else 'cpu')\n",
    "\n",
    "# test_set = Ice(os.path.join(data_dir, 'imgs'), os.path.join(data_dir, 'masks'),\n",
    "#                   os.path.join(data_dir, 'txt_files'), 'test', img_scale, img_crop)\n",
    "# test_loader = DataLoader(test_set, batch_size=1)\n",
    "train_set = IceWithProposals(os.path.join(data_dir, 'imgs'), os.path.join(data_dir, 'masks'),\n",
    "                  os.path.join(data_dir, 'txt_files'), os.path.join(data_dir, 'proposals/binary_250_16'),\n",
    "                               'train', img_scale, img_crop)"
   ]
  },
  {
   "cell_type": "code",
   "execution_count": 4,
   "id": "f412b82a-8fe4-4c2a-b02f-2bc3b4a5cc58",
   "metadata": {},
   "outputs": [],
   "source": [
    "batch1 = train_set[1]\n",
    "mask1 = batch1['mask']\n",
    "\n",
    "batch2 = train_set[2]\n",
    "mask2 = batch2['mask']"
   ]
  },
  {
   "cell_type": "code",
   "execution_count": 5,
   "id": "b05b5e02-47c7-48a8-9e55-adef6cbfca45",
   "metadata": {},
   "outputs": [],
   "source": [
    "hist = _fast_hist(mask1, mask2, 3)"
   ]
  },
  {
   "cell_type": "code",
   "execution_count": 6,
   "id": "892c0c74-3b89-42bb-be77-4d6b16aa06ed",
   "metadata": {},
   "outputs": [],
   "source": [
    "hist_new = hist_per_batch(mask1, mask2, classes=3)"
   ]
  },
  {
   "cell_type": "code",
   "execution_count": 7,
   "id": "6c368cba-b7ab-418f-8e80-63bb35458740",
   "metadata": {},
   "outputs": [
    {
     "data": {
      "text/plain": [
       "tensor([[21016., 11225.,  5683.],\n",
       "        [ 2854.,  2237.,    94.],\n",
       "        [ 2506.,  2077.,   708.]])"
      ]
     },
     "execution_count": 7,
     "metadata": {},
     "output_type": "execute_result"
    }
   ],
   "source": [
    "hist"
   ]
  },
  {
   "cell_type": "code",
   "execution_count": 8,
   "id": "c8db2046-76b0-492c-9202-823d0d214e23",
   "metadata": {},
   "outputs": [
    {
     "data": {
      "text/plain": [
       "tensor([[21016.,  2854.,  2506.],\n",
       "        [11225.,  2237.,  2077.],\n",
       "        [ 5683.,    94.,   708.]])"
      ]
     },
     "execution_count": 8,
     "metadata": {},
     "output_type": "execute_result"
    }
   ],
   "source": [
    "hist_new"
   ]
  },
  {
   "cell_type": "code",
   "execution_count": 9,
   "id": "e2d5c02a-7abb-4c0e-9253-d5dbb40db451",
   "metadata": {},
   "outputs": [
    {
     "data": {
      "text/plain": [
       "(tensor(0.2235), tensor([0.4855, 0.1210, 0.0640]))"
      ]
     },
     "execution_count": 9,
     "metadata": {},
     "output_type": "execute_result"
    }
   ],
   "source": [
    "jaccard_index(hist)"
   ]
  },
  {
   "cell_type": "code",
   "execution_count": 10,
   "id": "1e1a77a2-6607-41f2-8b53-6f37740dd206",
   "metadata": {},
   "outputs": [
    {
     "name": "stdout",
     "output_type": "stream",
     "text": [
      "class ice1 miou 0.4855373799800873\n",
      "class ice2 miou 0.12100394815206528\n",
      "class water miou 0.06396819651126862\n",
      "Mean IOU: 0.22350317488114038\n"
     ]
    },
    {
     "data": {
      "text/plain": [
       "array([0.48553738, 0.12100395, 0.0639682 ])"
      ]
     },
     "execution_count": 10,
     "metadata": {},
     "output_type": "execute_result"
    }
   ],
   "source": [
    "mean_iou(np.array(hist_new), ['ice1', 'ice2', 'water'])"
   ]
  },
  {
   "cell_type": "code",
   "execution_count": 11,
   "id": "8b6bf4d4-dde3-4f8e-991d-6cbef84851be",
   "metadata": {},
   "outputs": [
    {
     "name": "stdout",
     "output_type": "stream",
     "text": [
      "Frequency Weighted mean accuracy: 0.4950619834710744\n"
     ]
    },
    {
     "data": {
      "text/plain": [
       "0.4950619834710744"
      ]
     },
     "execution_count": 11,
     "metadata": {},
     "output_type": "execute_result"
    }
   ],
   "source": [
    "freq_weighted_miou(np.array(hist_new), ['ice1', 'ice2', 'water'])"
   ]
  },
  {
   "cell_type": "code",
   "execution_count": 12,
   "id": "a2f1584d-fdc6-4177-a7cf-76777521a1a6",
   "metadata": {},
   "outputs": [
    {
     "data": {
      "text/plain": [
       "tensor(0.4951)"
      ]
     },
     "execution_count": 12,
     "metadata": {},
     "output_type": "execute_result"
    }
   ],
   "source": [
    "fw_miou(hist)"
   ]
  },
  {
   "cell_type": "code",
   "execution_count": 13,
   "id": "2bf4f551-a3a7-4c25-91c2-9ef293919e2d",
   "metadata": {},
   "outputs": [
    {
     "data": {
      "text/plain": [
       "tensor([[21016.,  2854.,  2506.],\n",
       "        [11225.,  2237.,  2077.],\n",
       "        [ 5683.,    94.,   708.]])"
      ]
     },
     "execution_count": 13,
     "metadata": {},
     "output_type": "execute_result"
    }
   ],
   "source": [
    "hist.T"
   ]
  },
  {
   "cell_type": "code",
   "execution_count": 14,
   "id": "413f3faa-0bb5-4fe3-bc97-22a458251a6a",
   "metadata": {},
   "outputs": [
    {
     "name": "stdout",
     "output_type": "stream",
     "text": [
      "Frequency Weighted mean accuracy: tensor(0.4951)\n"
     ]
    }
   ],
   "source": [
    "hist_tmp = hist.T\n",
    "class_names = ['ice1', 'ice2', 'water']\n",
    "\n",
    "classes = len(class_names)\n",
    "class_scores = torch.zeros((classes))\n",
    "for i in range(classes):\n",
    "    class_scores[i] = torch.sum(hist_tmp[i,:])*hist_tmp[i,i]/(max(1,torch.sum(hist_tmp[i,:])))\n",
    "fmiou = torch.sum(class_scores)/torch.sum(hist_tmp)#.astype('float')\n",
    "print('Frequency Weighted mean accuracy:',fmiou)"
   ]
  },
  {
   "cell_type": "code",
   "execution_count": 15,
   "id": "83c82908-c850-4215-b8bd-b6eee71aafb7",
   "metadata": {},
   "outputs": [
    {
     "data": {
      "text/plain": [
       "3"
      ]
     },
     "execution_count": 15,
     "metadata": {},
     "output_type": "execute_result"
    }
   ],
   "source": [
    "len(hist)"
   ]
  },
  {
   "cell_type": "code",
   "execution_count": 16,
   "id": "bcf5b92d-1233-4ba1-b270-ba4a17ba4899",
   "metadata": {},
   "outputs": [
    {
     "data": {
      "text/plain": [
       "tensor([0., 0., 0.])"
      ]
     },
     "execution_count": 16,
     "metadata": {},
     "output_type": "execute_result"
    }
   ],
   "source": [
    "torch.zeros((3))"
   ]
  },
  {
   "cell_type": "code",
   "execution_count": 17,
   "id": "f2a0d7b5-9736-444f-a20d-0542466348dd",
   "metadata": {},
   "outputs": [
    {
     "data": {
      "text/plain": [
       "(tensor(0.3731), tensor([0.5542, 0.4314, 0.1338]))"
      ]
     },
     "execution_count": 17,
     "metadata": {},
     "output_type": "execute_result"
    }
   ],
   "source": [
    "per_class_pixel_accuracy(hist)"
   ]
  },
  {
   "cell_type": "code",
   "execution_count": 22,
   "id": "89ae97e5-c679-4bc9-9222-ca66fb471228",
   "metadata": {},
   "outputs": [
    {
     "data": {
      "text/plain": [
       "0.495061993598938"
      ]
     },
     "execution_count": 22,
     "metadata": {},
     "output_type": "execute_result"
    }
   ],
   "source": [
    "overall_pixel_accuracy(hist)"
   ]
  },
  {
   "cell_type": "code",
   "execution_count": 19,
   "id": "739af904-5d57-438c-8669-69401d282ece",
   "metadata": {},
   "outputs": [
    {
     "name": "stdout",
     "output_type": "stream",
     "text": [
      "class ice1 mean_pixel_accuracy 0.7967849373817444\n",
      "class ice2 mean_pixel_accuracy 0.1439603567123413\n",
      "class water mean_pixel_accuracy 0.10917501896619797\n"
     ]
    },
    {
     "data": {
      "text/plain": [
       "array([0.79678494, 0.14396036, 0.10917502])"
      ]
     },
     "execution_count": 19,
     "metadata": {},
     "output_type": "execute_result"
    }
   ],
   "source": [
    "mean_pixel_accuracy(np.array(hist_new), ['ice1', 'ice2', 'water'])"
   ]
  },
  {
   "cell_type": "code",
   "execution_count": 20,
   "id": "cf67b935-75d2-419f-9baf-7829a6b11ed8",
   "metadata": {},
   "outputs": [
    {
     "name": "stdout",
     "output_type": "stream",
     "text": [
      "Pixel accuracy: 0.4950619834710744\n"
     ]
    },
    {
     "data": {
      "text/plain": [
       "0.4950619834710744"
      ]
     },
     "execution_count": 20,
     "metadata": {},
     "output_type": "execute_result"
    }
   ],
   "source": [
    "pixel_accuracy(np.array(hist_new))"
   ]
  },
  {
   "cell_type": "code",
   "execution_count": null,
   "id": "63d8c44c-7814-4823-a236-266dbc48332b",
   "metadata": {},
   "outputs": [],
   "source": []
  },
  {
   "cell_type": "code",
   "execution_count": null,
   "id": "e21bc4b3-a7c6-449d-983a-4c81fed49178",
   "metadata": {},
   "outputs": [],
   "source": []
  }
 ],
 "metadata": {
  "kernelspec": {
   "display_name": "Python 3",
   "language": "python",
   "name": "python3"
  },
  "language_info": {
   "codemirror_mode": {
    "name": "ipython",
    "version": 3
   },
   "file_extension": ".py",
   "mimetype": "text/x-python",
   "name": "python",
   "nbconvert_exporter": "python",
   "pygments_lexer": "ipython3",
   "version": "3.8.5"
  }
 },
 "nbformat": 4,
 "nbformat_minor": 5
}
