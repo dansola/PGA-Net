{
 "cells": [
  {
   "cell_type": "code",
   "execution_count": 2,
   "id": "relevant-duncan",
   "metadata": {},
   "outputs": [],
   "source": [
    "import sys\n",
    "sys.path.append('..')\n",
    "\n",
    "import numpy as np\n",
    "import torch\n",
    "from torch import nn\n",
    "import torch.nn.functional as F\n",
    "from PIL import Image\n",
    "from torchvision import transforms\n",
    "from torch.utils.data import DataLoader\n",
    "\n",
    "from models.basic_axial.basic_axialnet import BasicAxial\n",
    "from models.basic_pga.basic_pga_net import BasicAxialPGA, OnlyPGA, BigOnlyPGA\n",
    "from datasets.ice import Ice, IceWithProposals\n",
    "from metrics.segmentation import _fast_hist, per_class_pixel_accuracy, jaccard_index\n",
    "from metrics.utils import display_metric_list\n",
    "\n",
    "import matplotlib.pyplot as plt\n",
    "\n",
    "import os"
   ]
  },
  {
   "cell_type": "code",
   "execution_count": 3,
   "id": "sweet-embassy",
   "metadata": {},
   "outputs": [],
   "source": [
    "data_dir = '../data'\n",
    "img_scale = .35\n",
    "img_crop = 220\n",
    "\n",
    "device = torch.device('cuda' if torch.cuda.is_available() else 'cpu')\n",
    "\n",
    "# test_set = Ice(os.path.join(data_dir, 'imgs'), os.path.join(data_dir, 'masks'),\n",
    "#                   os.path.join(data_dir, 'txt_files'), 'test', img_scale, img_crop)\n",
    "# test_loader = DataLoader(test_set, batch_size=1)\n",
    "train_set = IceWithProposals(os.path.join(data_dir, 'imgs'), os.path.join(data_dir, 'masks'),\n",
    "                  os.path.join(data_dir, 'txt_files'), os.path.join(data_dir, 'proposals/binary_250_16'),\n",
    "                               'train', img_scale, img_crop)"
   ]
  },
  {
   "cell_type": "code",
   "execution_count": 4,
   "id": "ignored-battle",
   "metadata": {},
   "outputs": [
    {
     "name": "stdout",
     "output_type": "stream",
     "text": [
      "928029 284034 239937\n",
      "0.6391384297520661 0.19561570247933885 0.16524586776859504\n",
      "1.564606278467591 5.11206404867023 6.051588541992273\n"
     ]
    }
   ],
   "source": [
    "class0, class1, class2 = 0, 0, 0\n",
    "for batch in train_set:\n",
    "    mask = batch[\"mask\"]\n",
    "    uniques, counts = np.unique(mask.numpy(), return_counts=True)\n",
    "    if len(counts) == 3:\n",
    "        class0 += counts[0]\n",
    "        class1 += counts[1]\n",
    "        class2 += counts[2]\n",
    "    else:\n",
    "        class0 += counts[0]\n",
    "        class1 += counts[1]\n",
    "tot = class0 + class1 + class2\n",
    "print(class0, class1, class2)\n",
    "print(class0/tot, class1/tot, class2/tot)\n",
    "print(1/(class0/tot), 1/(class1/tot), 1/(class2/tot))"
   ]
  },
  {
   "cell_type": "code",
   "execution_count": 5,
   "id": "foreign-doctrine",
   "metadata": {},
   "outputs": [
    {
     "data": {
      "text/plain": [
       "tensor([1.5000, 5.1000, 6.0000])"
      ]
     },
     "execution_count": 5,
     "metadata": {},
     "output_type": "execute_result"
    }
   ],
   "source": [
    "torch.tensor([1.5, 5.1, 6.0])"
   ]
  },
  {
   "cell_type": "code",
   "execution_count": null,
   "id": "advanced-pension",
   "metadata": {},
   "outputs": [],
   "source": []
  }
 ],
 "metadata": {
  "kernelspec": {
   "display_name": "Python 3",
   "language": "python",
   "name": "python3"
  },
  "language_info": {
   "codemirror_mode": {
    "name": "ipython",
    "version": 3
   },
   "file_extension": ".py",
   "mimetype": "text/x-python",
   "name": "python",
   "nbconvert_exporter": "python",
   "pygments_lexer": "ipython3",
   "version": "3.8.5"
  }
 },
 "nbformat": 4,
 "nbformat_minor": 5
}
