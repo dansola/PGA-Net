{
 "cells": [
  {
   "cell_type": "code",
   "execution_count": 6,
   "id": "732d724a-5495-41c5-91e9-460389ba7b49",
   "metadata": {},
   "outputs": [],
   "source": [
    "from src.models.lbcnn.axial_lbcnn import SmallAxialUNetLBC, AxialUNetLBC, LargeAxialLBC\n",
    "import torch\n",
    "from torch import optim\n",
    "from src.train.utils import load_ckp"
   ]
  },
  {
   "cell_type": "markdown",
   "id": "2aed0c93-3e9e-41cf-a767-4a4bdc4e9597",
   "metadata": {},
   "source": [
    "# CityScapes"
   ]
  },
  {
   "cell_type": "markdown",
   "id": "bf5576cd-d44f-4c05-b858-ac5e77fb058e",
   "metadata": {},
   "source": [
    "## Small Axial Unet LBC"
   ]
  },
  {
   "cell_type": "code",
   "execution_count": 8,
   "id": "4181bf51-e6db-4c4c-98a3-b7068890c220",
   "metadata": {},
   "outputs": [
    {
     "name": "stdout",
     "output_type": "stream",
     "text": [
      "Total Params:  51840\n",
      "Trainable Params:  28440\n"
     ]
    }
   ],
   "source": [
    "model = SmallAxialUNetLBC(3, 19, 10)\n",
    "optimizer = optim.RMSprop(model.parameters(), lr=0.0001, weight_decay=1e-8, momentum=0.9)\n",
    "\n",
    "checkpoint_path = '/home/dsola/repos/PGA-Net/checkpoints/distinctive_snowflake_167_small_axial_lbc_city/epoch11-net-optimizer.pth'\n",
    "\n",
    "model, optimizer, epoch = load_ckp(checkpoint_path, model, optimizer)\n",
    "\n",
    "pytorch_total_params = sum(p.numel() for p in model.parameters())\n",
    "print('Total Params: ', pytorch_total_params)\n",
    "\n",
    "params = 0\n",
    "for name, param in model.named_parameters():\n",
    "    if param.requires_grad:\n",
    "        params += param.numel()\n",
    "print('Trainable Params: ', params)"
   ]
  },
  {
   "cell_type": "markdown",
   "id": "97b97a5d-7343-4a80-a06d-36a9a8fd4d2f",
   "metadata": {},
   "source": [
    "## Full Axial Unet LBC"
   ]
  },
  {
   "cell_type": "code",
   "execution_count": 9,
   "id": "6e8e6845-f747-4735-8147-06edf25038e9",
   "metadata": {},
   "outputs": [
    {
     "name": "stdout",
     "output_type": "stream",
     "text": [
      "Total Params:  838000\n",
      "Trainable Params:  454600\n"
     ]
    }
   ],
   "source": [
    "model = AxialUNetLBC(3, 19, 10)\n",
    "optimizer = optim.RMSprop(model.parameters(), lr=0.0001, weight_decay=1e-8, momentum=0.9)\n",
    "\n",
    "checkpoint_path = '/home/dsola/repos/PGA-Net/checkpoints/quiet_wildflower_208_full_axial_unet_lbc_city/epoch10-net-optimizer.pth'\n",
    "\n",
    "model, optimizer, epoch = load_ckp(checkpoint_path, model, optimizer)\n",
    "\n",
    "pytorch_total_params = sum(p.numel() for p in model.parameters())\n",
    "print('Total Params: ', pytorch_total_params)\n",
    "\n",
    "params = 0\n",
    "for name, param in model.named_parameters():\n",
    "    if param.requires_grad:\n",
    "        params += param.numel()\n",
    "print('Trainable Params: ', params)"
   ]
  },
  {
   "cell_type": "markdown",
   "id": "19b80c90-90cf-48a4-93ab-2535d0cdfb2c",
   "metadata": {},
   "source": [
    "# Ice"
   ]
  },
  {
   "cell_type": "markdown",
   "id": "a921d73e-680d-4cee-90a6-f0d1ed6067a9",
   "metadata": {},
   "source": [
    "## Large Axial LBC Blocks"
   ]
  },
  {
   "cell_type": "code",
   "execution_count": 10,
   "id": "e0315198-e98b-4d6d-afb4-6affd54255ec",
   "metadata": {},
   "outputs": [
    {
     "name": "stdout",
     "output_type": "stream",
     "text": [
      "Total Params:  17400\n",
      "Trainable Params:  10200\n"
     ]
    }
   ],
   "source": [
    "model = LargeAxialLBC(3, 3, 10)\n",
    "\n",
    "checkpoint_path = '/home/dsola/repos/PGA-Net/checkpoints/olive_plant_170_large_axial_lbc_ice/epoch80.pth'\n",
    "\n",
    "model.load_state_dict(torch.load(checkpoint_path, map_location='cpu'))\n",
    "\n",
    "pytorch_total_params = sum(p.numel() for p in model.parameters())\n",
    "print('Total Params: ', pytorch_total_params)\n",
    "\n",
    "params = 0\n",
    "for name, param in model.named_parameters():\n",
    "    if param.requires_grad:\n",
    "        params += param.numel()\n",
    "print('Trainable Params: ', params)"
   ]
  },
  {
   "cell_type": "markdown",
   "id": "993602d9-ed8e-49ff-bed3-ef1fbbbe2ba2",
   "metadata": {},
   "source": [
    "## Small Axial Unet LBC"
   ]
  },
  {
   "cell_type": "code",
   "execution_count": 11,
   "id": "6e860a53-77c0-47d3-9ac4-8fa4436ac15c",
   "metadata": {},
   "outputs": [
    {
     "name": "stdout",
     "output_type": "stream",
     "text": [
      "Total Params:  51680\n",
      "Trainable Params:  28280\n"
     ]
    }
   ],
   "source": [
    "model = SmallAxialUNetLBC(3, 3, 10)\n",
    "\n",
    "checkpoint_path = '/home/dsola/repos/PGA-Net/checkpoints/glamorous_breeze_180_small_axial_unet_lbc_ice/epoch29.pth'\n",
    "\n",
    "model.load_state_dict(torch.load(checkpoint_path, map_location='cpu'))\n",
    "\n",
    "pytorch_total_params = sum(p.numel() for p in model.parameters())\n",
    "print('Total Params: ', pytorch_total_params)\n",
    "\n",
    "params = 0\n",
    "for name, param in model.named_parameters():\n",
    "    if param.requires_grad:\n",
    "        params += param.numel()\n",
    "print('Trainable Params: ', params)"
   ]
  },
  {
   "cell_type": "markdown",
   "id": "ac08e029-c4d4-458d-abfe-ce1f4d35eb5b",
   "metadata": {},
   "source": [
    "## Full Axial Unet LBC"
   ]
  },
  {
   "cell_type": "code",
   "execution_count": 12,
   "id": "56de1007-9f7a-466e-9e49-ecc3a5ea25ab",
   "metadata": {},
   "outputs": [
    {
     "name": "stdout",
     "output_type": "stream",
     "text": [
      "Total Params:  837840\n",
      "Trainable Params:  454440\n"
     ]
    }
   ],
   "source": [
    "model = AxialUNetLBC(3, 3, 10)\n",
    "\n",
    "checkpoint_path = '/home/dsola/repos/PGA-Net/checkpoints/avid_night_179_axial_unet_lbc_ice/epoch11.pth'\n",
    "\n",
    "model.load_state_dict(torch.load(checkpoint_path, map_location='cpu'))\n",
    "\n",
    "pytorch_total_params = sum(p.numel() for p in model.parameters())\n",
    "print('Total Params: ', pytorch_total_params)\n",
    "\n",
    "params = 0\n",
    "for name, param in model.named_parameters():\n",
    "    if param.requires_grad:\n",
    "        params += param.numel()\n",
    "print('Trainable Params: ', params)"
   ]
  },
  {
   "cell_type": "code",
   "execution_count": null,
   "id": "471d2a57-7639-4273-b13c-6be5dabc3ec4",
   "metadata": {},
   "outputs": [],
   "source": []
  }
 ],
 "metadata": {
  "kernelspec": {
   "display_name": "Python 3",
   "language": "python",
   "name": "python3"
  },
  "language_info": {
   "codemirror_mode": {
    "name": "ipython",
    "version": 3
   },
   "file_extension": ".py",
   "mimetype": "text/x-python",
   "name": "python",
   "nbconvert_exporter": "python",
   "pygments_lexer": "ipython3",
   "version": "3.8.5"
  }
 },
 "nbformat": 4,
 "nbformat_minor": 5
}
