{
 "cells": [
  {
   "cell_type": "code",
   "execution_count": 1,
   "metadata": {},
   "outputs": [],
   "source": [
    "import matplotlib.pyplot as plt\n",
    "import numpy as np"
   ]
  },
  {
   "cell_type": "code",
   "execution_count": 5,
   "metadata": {},
   "outputs": [],
   "source": [
    "image_names = np.loadtxt('./data/txt_files/ice_train_original.txt', dtype=str)"
   ]
  },
  {
   "cell_type": "code",
   "execution_count": 7,
   "metadata": {},
   "outputs": [],
   "source": [
    "images = []\n",
    "for image_name in image_names:\n",
    "    images.append(plt.imread(f'./data/imgs/{image_name}'))"
   ]
  },
  {
   "cell_type": "code",
   "execution_count": 22,
   "metadata": {},
   "outputs": [],
   "source": [
    "c1 = images[0][:,:,0].flatten()\n",
    "c2 = images[0][:,:,1].flatten()\n",
    "c3 = images[0][:,:,2].flatten()"
   ]
  },
  {
   "cell_type": "code",
   "execution_count": 23,
   "metadata": {},
   "outputs": [],
   "source": [
    "for i, img in enumerate(images):\n",
    "    if i != 0:\n",
    "        c1 = np.concatenate((c1, img[:,:,0].flatten()))\n",
    "        c2 = np.concatenate((c1, img[:,:,1].flatten()))\n",
    "        c3 = np.concatenate((c1, img[:,:,2].flatten()))"
   ]
  },
  {
   "cell_type": "code",
   "execution_count": 26,
   "metadata": {},
   "outputs": [
    {
     "name": "stdout",
     "output_type": "stream",
     "text": [
      "[121.4836, 122.35021, 122.517166]\n",
      "[58.89167, 58.966404, 59.09349]\n"
     ]
    }
   ],
   "source": [
    "means = [c1.mean(), c2.mean(), c3.mean()]\n",
    "stds = [c1.std(), c2.std(), c3.std()]\n",
    "print(means)\n",
    "print(stds)"
   ]
  },
  {
   "cell_type": "code",
   "execution_count": null,
   "metadata": {},
   "outputs": [],
   "source": []
  }
 ],
 "metadata": {
  "kernelspec": {
   "display_name": "Python 3",
   "language": "python",
   "name": "python3"
  },
  "language_info": {
   "codemirror_mode": {
    "name": "ipython",
    "version": 3
   },
   "file_extension": ".py",
   "mimetype": "text/x-python",
   "name": "python",
   "nbconvert_exporter": "python",
   "pygments_lexer": "ipython3",
   "version": "3.8.5"
  }
 },
 "nbformat": 4,
 "nbformat_minor": 4
}
