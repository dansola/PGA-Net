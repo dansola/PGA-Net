{
 "cells": [
  {
   "cell_type": "code",
   "execution_count": 2,
   "id": "ec8876c1-8c8c-4484-8193-8690561271b7",
   "metadata": {},
   "outputs": [],
   "source": [
    "import matplotlib.pyplot as plt\n",
    "import numpy as np\n",
    "import os"
   ]
  },
  {
   "cell_type": "code",
   "execution_count": 46,
   "id": "85ee4bfe-c776-4377-a4f7-8e8ff373f55d",
   "metadata": {},
   "outputs": [
    {
     "data": {
      "text/plain": [
       "array([0.61377683, 0.16388852, 0.22233465])"
      ]
     },
     "execution_count": 46,
     "metadata": {},
     "output_type": "execute_result"
    }
   ],
   "source": [
    "mask_path = '/home/dsola/repos/PGA-Net/data/masks'\n",
    "tot, n_water, n_anchor, n_frazil = 0, 0 ,0, 0 # water=0, anchor=1, frazil=2\n",
    "\n",
    "for name in os.listdir(mask_path):\n",
    "    m = plt.imread(os.path.join(mask_path, name))[:,:,0]\n",
    "    tot += m.shape[0]*m.shape[1]\n",
    "    n_water += (m==0).sum()\n",
    "    n_anchor += (m==1).sum()\n",
    "    n_frazil += (m==2).sum()\n",
    "\n",
    "# props in whole dataset\n",
    "np.array([n_water, n_anchor, n_frazil])/tot"
   ]
  },
  {
   "cell_type": "code",
   "execution_count": 45,
   "id": "e19de4c1-e01a-424f-ae37-392ea134f6e4",
   "metadata": {},
   "outputs": [],
   "source": [
    "test = open(\"/home/dsola/repos/PGA-Net/data/txt_files/ice_test.txt\", \"r\")\n",
    "test_names = [x[:-1] for x in test]\n",
    "train = open(\"/home/dsola/repos/PGA-Net/data/txt_files/ice_train.txt\", \"r\")\n",
    "train_names = [x[:-1] for x in train]\n",
    "val = open(\"/home/dsola/repos/PGA-Net/data/txt_files/ice_val.txt\", \"r\")\n",
    "val_names = [x[:-1] for x in val]"
   ]
  },
  {
   "cell_type": "code",
   "execution_count": 47,
   "id": "5e22a4c0-0dd9-497b-8d32-7fa157de14e1",
   "metadata": {},
   "outputs": [],
   "source": [
    "d = {\n",
    "    'test': [0, 0, 0],\n",
    "    'train': [0, 0, 0],\n",
    "    'val': [0, 0, 0],\n",
    "}\n",
    "\n",
    "for name in os.listdir(mask_path):\n",
    "    m = plt.imread(os.path.join(mask_path, name))[:,:,0]\n",
    "    if name in test_names:\n",
    "        split = 'test'\n",
    "    elif name in train_names:\n",
    "        split = 'train'\n",
    "    elif name in val_names:\n",
    "        split = 'val'\n",
    "    tot += m.shape[0]*m.shape[1]\n",
    "    d[split][0] += (m==0).sum()\n",
    "    d[split][1] += (m==1).sum()\n",
    "    d[split][2] += (m==2).sum()"
   ]
  },
  {
   "cell_type": "code",
   "execution_count": 49,
   "id": "c14e508f-7d6c-4ac1-8833-2c1b3a59c1cf",
   "metadata": {},
   "outputs": [
    {
     "name": "stdout",
     "output_type": "stream",
     "text": [
      "test [0.60437407 0.17153037 0.22409555]\n",
      "train [0.627643  0.1686077 0.2037493]\n",
      "val [0.58240962 0.14197899 0.27561139]\n"
     ]
    }
   ],
   "source": [
    "for split in d.keys():\n",
    "    print(split, np.array([d[split][0], d[split][1], d[split][2]])/np.sum([d[split][0], d[split][1], d[split][2]]))"
   ]
  },
  {
   "cell_type": "code",
   "execution_count": null,
   "id": "30abb307-c257-467a-923f-57a19e981cbf",
   "metadata": {},
   "outputs": [],
   "source": []
  }
 ],
 "metadata": {
  "kernelspec": {
   "display_name": "Python 3",
   "language": "python",
   "name": "python3"
  },
  "language_info": {
   "codemirror_mode": {
    "name": "ipython",
    "version": 3
   },
   "file_extension": ".py",
   "mimetype": "text/x-python",
   "name": "python",
   "nbconvert_exporter": "python",
   "pygments_lexer": "ipython3",
   "version": "3.8.5"
  }
 },
 "nbformat": 4,
 "nbformat_minor": 5
}
