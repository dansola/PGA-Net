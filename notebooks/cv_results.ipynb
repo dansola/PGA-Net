{
 "cells": [
  {
   "cell_type": "code",
   "execution_count": 1,
   "id": "d6a04b1a-59cc-4345-9ea1-41849dd207dd",
   "metadata": {},
   "outputs": [],
   "source": [
    "from src.metrics.utils import early_stopping, early_stopping_loss, get_mean_window\n",
    "import numpy as np\n",
    "import os\n",
    "import json\n",
    "import matplotlib.pyplot as plt\n",
    "import pandas as pd\n",
    "\n",
    "def load_json_metrics(file_path):\n",
    "    with open(file_path, 'r') as fp:\n",
    "        metrics = json.load(fp)\n",
    "    return metrics"
   ]
  },
  {
   "cell_type": "markdown",
   "id": "ab4e9196-1470-4340-a2b7-cacc8ee51c99",
   "metadata": {},
   "source": [
    "## CV Results"
   ]
  },
  {
   "cell_type": "code",
   "execution_count": 2,
   "id": "972a7133-c0f8-402f-9166-2d0b99ce4fc5",
   "metadata": {},
   "outputs": [],
   "source": [
    "stopping_epochs = 30\n",
    "avg_half_window = 5"
   ]
  },
  {
   "cell_type": "code",
   "execution_count": 6,
   "id": "f75e9151-4600-44c6-8050-8fa9767414c5",
   "metadata": {},
   "outputs": [
    {
     "name": "stdout",
     "output_type": "stream",
     "text": [
      "IoU 1:  0.7454347252845764\n",
      "IoU 2:  0.7444128394126892\n",
      "IoU 3:  0.7183659553527832\n",
      "IoU 4:  0.6818730294704437\n",
      "IoU 5:  0.7689148664474488\n",
      "UNet mean CV IoU:  0.7318002831935884\n"
     ]
    }
   ],
   "source": [
    "iou = 0\n",
    "for cv in [1,2,3,4,5]:\n",
    "    path = f'/home/dsola/repos/PGA-Net/results/cv/unet_cv{cv}_cv_{cv}-mean-iou-epoch.json'\n",
    "    metric_dict = load_json_metrics(path)\n",
    "    metric_list = list(metric_dict.values())\n",
    "    argmx = np.argmax(metric_list)\n",
    "    mean_score = np.mean(metric_list[max(0, argmx-avg_half_window):min(argmx+avg_half_window, len(metric_list))])\n",
    "    print(f'IoU {cv}: ', mean_score)\n",
    "    iou += mean_score\n",
    "miou = iou / 5\n",
    "print('UNet mean CV IoU: ', miou)"
   ]
  },
  {
   "cell_type": "code",
   "execution_count": 7,
   "id": "f28b15a7-38ad-4fed-9bea-8d53300ec49a",
   "metadata": {},
   "outputs": [
    {
     "name": "stdout",
     "output_type": "stream",
     "text": [
      "IoU 1:  0.7201030492782593\n",
      "IoU 2:  0.7014497756958008\n",
      "IoU 3:  0.7068632245063782\n",
      "IoU 4:  0.6926095843315124\n",
      "IoU 5:  0.7283621609210968\n",
      "Small DSC LBC UNet mean CV IoU:  0.7098775589466095\n"
     ]
    }
   ],
   "source": [
    "iou = 0\n",
    "for cv in [1,2,3,4,5]:\n",
    "    path = f'/home/dsola/repos/PGA-Net/results/cv/small_dsc_lbc_unet_cv{cv}_cv_{cv}-mean-iou-epoch.json'\n",
    "    metric_dict = load_json_metrics(path)\n",
    "    metric_list = list(metric_dict.values())\n",
    "    argmx = np.argmax(metric_list)\n",
    "    mean_score = np.mean(metric_list[max(0, argmx-avg_half_window):min(argmx+avg_half_window, len(metric_list))])\n",
    "    print(f'IoU {cv}: ', mean_score)\n",
    "    iou += mean_score\n",
    "miou = iou / 5\n",
    "print('Small DSC LBC UNet mean CV IoU: ', miou)"
   ]
  },
  {
   "cell_type": "code",
   "execution_count": 8,
   "id": "4bd447b9-2093-49f4-95fb-f239eb71cb52",
   "metadata": {},
   "outputs": [
    {
     "name": "stdout",
     "output_type": "stream",
     "text": [
      "IoU 1:  0.719800066947937\n",
      "IoU 2:  0.7151931864874703\n",
      "IoU 3:  0.7127987384796143\n",
      "IoU 4:  0.6508004599147372\n",
      "IoU 5:  0.7226356983184814\n",
      "MobileNet mean CV IoU:  0.704245630029648\n"
     ]
    }
   ],
   "source": [
    "iou = 0\n",
    "for cv in [1,2,3,4,5]:\n",
    "    path = f'/home/dsola/repos/PGA-Net/results/cv/lraspp_mobile_net_cv{cv}_cv_{cv}-mean-iou-epoch.json'\n",
    "    metric_dict = load_json_metrics(path)\n",
    "    metric_list = list(metric_dict.values())\n",
    "    argmx = np.argmax(metric_list)\n",
    "    mean_score = np.mean(metric_list[max(0, argmx-avg_half_window):min(argmx+avg_half_window, len(metric_list))])\n",
    "    print(f'IoU {cv}: ', mean_score)\n",
    "    iou += mean_score\n",
    "miou = iou / 5\n",
    "print('MobileNet mean CV IoU: ', miou)"
   ]
  },
  {
   "cell_type": "markdown",
   "id": "d3d34151-ac33-448c-9688-878a4768ff95",
   "metadata": {},
   "source": [
    "## Avg Results (Test Set 4)"
   ]
  },
  {
   "cell_type": "code",
   "execution_count": 3,
   "id": "b3d23da7-ea8f-4538-8be6-c8a24be8017b",
   "metadata": {},
   "outputs": [],
   "source": [
    "avg_path = '/home/dsola/repos/PGA-Net/results/avgs'"
   ]
  },
  {
   "cell_type": "code",
   "execution_count": 4,
   "id": "bd66621c-660e-4b9a-9482-374c293e4cd2",
   "metadata": {},
   "outputs": [],
   "source": [
    "# json_names = [x.replace('_eval_imgs','') if '_eval_imgs' in x else x for x in os.listdir(avg_path)]\n",
    "json_names = os.listdir(avg_path)\n",
    "json_names_iou = [x for x in json_names if 'iou' in x]\n",
    "json_names_acc = [x for x in json_names if 'acc' in x]\n",
    "json_names_loss = [x for x in json_names if 'loss' in x]"
   ]
  },
  {
   "cell_type": "code",
   "execution_count": 5,
   "id": "e2e03914-798e-4b8c-ad00-7308165d606d",
   "metadata": {},
   "outputs": [],
   "source": [
    "d_iou, d_acc, stop = {}, {}, {}"
   ]
  },
  {
   "cell_type": "code",
   "execution_count": 6,
   "id": "88f980b7-0c04-4be4-a75d-474db1501dff",
   "metadata": {},
   "outputs": [],
   "source": [
    "d_iou['full_unet'] = [x for x in json_names_iou if 'unet' in x and 'dsc' not in x and 'lbc' not in x and 'small' not in x]\n",
    "d_iou['small_unet'] = [x for x in json_names_iou if 'unet' in x and 'dsc' not in x and 'lbc' not in x and 'small' in x]\n",
    "d_iou['full_dsc_unet'] = [x for x in json_names_iou if 'unet' in x and 'dsc' in x and 'lbc' not in x and 'small' not in x]\n",
    "d_iou['small_dsc_unet'] = [x for x in json_names_iou if 'unet' in x and 'dsc' in x and 'lbc' not in x and 'small' in x]\n",
    "d_iou['full_lbc_unet'] = [x for x in json_names_iou if 'unet' in x and 'dsc' not in x and 'lbc' in x and 'small' not in x]\n",
    "d_iou['small_lbc_unet'] = [x for x in json_names_iou if 'unet' in x and 'dsc' not in x and 'lbc' in x and 'small' in x]\n",
    "d_iou['full_dsc_lbc_unet'] = [x for x in json_names_iou if 'unet' in x and 'dsc' in x and 'lbc' in x and 'small' not in x]\n",
    "d_iou['small_dsc_lbc_unet'] = [x for x in json_names_iou if 'unet' in x and 'dsc' in x and 'lbc' in x and 'small' in x]\n",
    "d_iou['lraspp_mobile_net'] = [x for x in json_names_iou if 'lraspp' in x]\n",
    "\n",
    "d_acc['full_unet'] = [x for x in json_names_acc if 'unet' in x and 'dsc' not in x and 'lbc' not in x and 'small' not in x]\n",
    "d_acc['small_unet'] = [x for x in json_names_acc if 'unet' in x and 'dsc' not in x and 'lbc' not in x and 'small' in x]\n",
    "d_acc['full_dsc_unet'] = [x for x in json_names_acc if 'unet' in x and 'dsc' in x and 'lbc' not in x and 'small' not in x]\n",
    "d_acc['small_dsc_unet'] = [x for x in json_names_acc if 'unet' in x and 'dsc' in x and 'lbc' not in x and 'small' in x]\n",
    "d_acc['full_lbc_unet'] = [x for x in json_names_acc if 'unet' in x and 'dsc' not in x and 'lbc' in x and 'small' not in x]\n",
    "d_acc['small_lbc_unet'] = [x for x in json_names_acc if 'unet' in x and 'dsc' not in x and 'lbc' in x and 'small' in x]\n",
    "d_acc['full_dsc_lbc_unet'] = [x for x in json_names_acc if 'unet' in x and 'dsc' in x and 'lbc' in x and 'small' not in x]\n",
    "d_acc['small_dsc_lbc_unet'] = [x for x in json_names_acc if 'unet' in x and 'dsc' in x and 'lbc' in x and 'small' in x]\n",
    "d_acc['lraspp_mobile_net'] = [x for x in json_names_acc if 'lraspp' in x]"
   ]
  },
  {
   "cell_type": "code",
   "execution_count": 7,
   "id": "feb88cdd-13eb-4879-81bd-452417838a7a",
   "metadata": {},
   "outputs": [],
   "source": [
    "results_iou = {}\n",
    "for model in d_iou.keys():\n",
    "    iou_list = []\n",
    "    for i, model_json in enumerate(d_iou[model]):\n",
    "        metric_dict = load_json_metrics(os.path.join(avg_path, model_json))\n",
    "        metric_list = list(metric_dict.values())\n",
    "        argmx = np.argmax(metric_list)\n",
    "        stop[model] = argmx\n",
    "        mean_score = np.mean(metric_list[max(0, argmx-avg_half_window):min(argmx+avg_half_window, len(metric_list))])\n",
    "#         print(f'{model} IoU {i}: ', mean_score)\n",
    "        iou_list.append(mean_score)\n",
    "    miou = np.mean(iou_list)\n",
    "    std_iou = np.std(iou_list)\n",
    "#     print(f'{model} mean IoU: ', miou)\n",
    "    results_iou[model] = (miou, std_iou)"
   ]
  },
  {
   "cell_type": "code",
   "execution_count": 8,
   "id": "22896494-a672-4dcc-9e6c-a422ad6e95d5",
   "metadata": {},
   "outputs": [],
   "source": [
    "results_acc = {}\n",
    "for model in d_iou.keys():\n",
    "    acc_list = []\n",
    "    for i, model_json in enumerate(d_acc[model]):\n",
    "        metric_dict = load_json_metrics(os.path.join(avg_path, model_json))\n",
    "        metric_list = list(metric_dict.values())\n",
    "        argmx = stop[model]\n",
    "        mean_score = np.mean(metric_list[max(0, argmx-avg_half_window):min(argmx+avg_half_window, len(metric_list))])\n",
    "#         print(f'{model} Acc {i}: ', mean_score)\n",
    "        acc_list.append(mean_score)\n",
    "    mean_acc = np.mean(acc_list)\n",
    "    std_acc = np.std(acc_list)\n",
    "#     print(f'{model} mean Acc: ', mean_acc)\n",
    "    results_acc[model] = (mean_acc, std_acc)"
   ]
  },
  {
   "cell_type": "code",
   "execution_count": 9,
   "id": "1625b01a-f09d-4e29-9a2e-9ca56d9ac3bf",
   "metadata": {},
   "outputs": [
    {
     "data": {
      "text/plain": [
       "{'full_unet': (0.6973179479440054, 0.008177338060400347),\n",
       " 'small_unet': (0.7122184534867605, 0.0022740878664208874),\n",
       " 'full_dsc_unet': (0.6971683065096537, 0.009874633696064606),\n",
       " 'small_dsc_unet': (0.7044586877028148, 0.003861284139199005),\n",
       " 'full_lbc_unet': (0.6774376213550567, 0.0040556376970599705),\n",
       " 'small_lbc_unet': (0.696784488139329, 0.012790864226084),\n",
       " 'full_dsc_lbc_unet': (0.6912588159243266, 0.005666870291765094),\n",
       " 'small_dsc_lbc_unet': (0.7012618907860347, 0.005269467155108147),\n",
       " 'lraspp_mobile_net': (0.6514462039584205, 0.01379652547390896)}"
      ]
     },
     "execution_count": 9,
     "metadata": {},
     "output_type": "execute_result"
    }
   ],
   "source": [
    "results_iou"
   ]
  },
  {
   "cell_type": "code",
   "execution_count": 10,
   "id": "78e76069-d12b-415c-97aa-29a9878ba2f6",
   "metadata": {},
   "outputs": [
    {
     "data": {
      "text/plain": [
       "{'full_unet': (0.8269294699033102, 0.007325504520826944),\n",
       " 'small_unet': (0.849975037574768, 0.0027364378802803326),\n",
       " 'full_dsc_unet': (0.829259830713272, 0.0028884273705933874),\n",
       " 'small_dsc_unet': (0.8429667949676514, 0.001531195951597425),\n",
       " 'full_lbc_unet': (0.8222465991973876, 0.004272714555571862),\n",
       " 'small_lbc_unet': (0.8376176357269287, 0.005607848493349972),\n",
       " 'full_dsc_lbc_unet': (0.8286782483259837, 0.003695771143807704),\n",
       " 'small_dsc_lbc_unet': (0.8350006302197776, 0.006665727637287829),\n",
       " 'lraspp_mobile_net': (0.799818774064382, 0.00740301378164784)}"
      ]
     },
     "execution_count": 10,
     "metadata": {},
     "output_type": "execute_result"
    }
   ],
   "source": [
    "results_acc"
   ]
  },
  {
   "cell_type": "code",
   "execution_count": null,
   "id": "370ccc74-4879-4ac7-8051-da18582b8eaf",
   "metadata": {},
   "outputs": [],
   "source": []
  }
 ],
 "metadata": {
  "kernelspec": {
   "display_name": "Python 3",
   "language": "python",
   "name": "python3"
  },
  "language_info": {
   "codemirror_mode": {
    "name": "ipython",
    "version": 3
   },
   "file_extension": ".py",
   "mimetype": "text/x-python",
   "name": "python",
   "nbconvert_exporter": "python",
   "pygments_lexer": "ipython3",
   "version": "3.8.5"
  }
 },
 "nbformat": 4,
 "nbformat_minor": 5
}
