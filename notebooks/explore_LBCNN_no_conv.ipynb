{
 "cells": [
  {
   "cell_type": "code",
   "execution_count": 1,
   "id": "99b72512-b093-40c3-8c90-585d3af5a90c",
   "metadata": {},
   "outputs": [],
   "source": [
    "from src.models.lbcnn.lbcnn_parts import ConvLBP\n",
    "from src.models.dsc.dsc_lbc_unet import DSCConvLBP\n",
    "import torch.nn as nn\n",
    "import torch\n",
    "from src.models.lbcnn.lbc_unet import UNetLBP, SmallUNetLBP, SkinnySmallUNetLBP\n",
    "from src.datasets.ice import Ice\n",
    "from torch.utils.data import DataLoader\n",
    "import os\n",
    "import matplotlib.pyplot as plt\n",
    "import numpy as np"
   ]
  },
  {
   "cell_type": "code",
   "execution_count": 2,
   "id": "6568737b-75ff-41fb-98a0-f45e094556cb",
   "metadata": {},
   "outputs": [],
   "source": [
    "activation = {}\n",
    "def get_activation(name):\n",
    "    def hook(model, input, output):\n",
    "        activation[name] = output.detach()\n",
    "    return hook"
   ]
  },
  {
   "cell_type": "code",
   "execution_count": 3,
   "id": "07e5e60d-14db-490b-b474-ef6a4571e501",
   "metadata": {},
   "outputs": [],
   "source": [
    "layer1 = nn.Conv2d(3, 3, kernel_size=3)\n",
    "layer2 = ConvLBP(3, 3)"
   ]
  },
  {
   "cell_type": "code",
   "execution_count": 4,
   "id": "99e82e20-35a9-42bc-9676-a189e23fd710",
   "metadata": {},
   "outputs": [
    {
     "name": "stdout",
     "output_type": "stream",
     "text": [
      "(3, 3, 3, 3)\n",
      "(3, 3, 3, 3)\n"
     ]
    }
   ],
   "source": [
    "print(layer1.weight.data.numpy().shape)\n",
    "print(layer2.weight.data.numpy().shape)"
   ]
  },
  {
   "cell_type": "code",
   "execution_count": 5,
   "id": "5e82ef18-5bd1-4cef-9eeb-b282d5311163",
   "metadata": {},
   "outputs": [],
   "source": [
    "weights1 = layer1.weight.data.numpy()\n",
    "weights2 = layer2.weight.data.numpy()"
   ]
  },
  {
   "cell_type": "code",
   "execution_count": 6,
   "id": "0d141ba0-232a-4bb0-9c81-34839f53ad66",
   "metadata": {},
   "outputs": [
    {
     "data": {
      "text/plain": [
       "array([[[ 0.06693798,  0.02448413, -0.05976971],\n",
       "        [-0.13521382, -0.08119002,  0.13640775],\n",
       "        [ 0.10260162, -0.1018449 ,  0.13203113]],\n",
       "\n",
       "       [[ 0.05936882,  0.05813891, -0.06583867],\n",
       "        [-0.12298512, -0.08339822,  0.11877967],\n",
       "        [-0.17904194,  0.13762522, -0.15370178]],\n",
       "\n",
       "       [[ 0.16089162, -0.14135368,  0.1432383 ],\n",
       "        [-0.12777874, -0.08937232,  0.06279   ],\n",
       "        [-0.00451993,  0.05954359,  0.12504548]]], dtype=float32)"
      ]
     },
     "execution_count": 6,
     "metadata": {},
     "output_type": "execute_result"
    }
   ],
   "source": [
    "weights1[0]"
   ]
  },
  {
   "cell_type": "code",
   "execution_count": 7,
   "id": "82b3beee-f396-4a85-9425-9c04996931a9",
   "metadata": {},
   "outputs": [
    {
     "data": {
      "text/plain": [
       "array([[[-1.,  0.,  0.],\n",
       "        [ 1., -1.,  0.],\n",
       "        [ 0., -1.,  0.]],\n",
       "\n",
       "       [[ 1.,  1.,  1.],\n",
       "        [ 1.,  0.,  0.],\n",
       "        [-1.,  0.,  0.]],\n",
       "\n",
       "       [[-1.,  0.,  1.],\n",
       "        [ 0.,  0.,  0.],\n",
       "        [ 1.,  0., -1.]]], dtype=float32)"
      ]
     },
     "execution_count": 7,
     "metadata": {},
     "output_type": "execute_result"
    }
   ],
   "source": [
    "weights2[0]"
   ]
  },
  {
   "cell_type": "code",
   "execution_count": 8,
   "id": "0eca5de3-2458-475a-b551-00f09607035a",
   "metadata": {},
   "outputs": [],
   "source": [
    "weights = next(layer1.parameters())"
   ]
  },
  {
   "cell_type": "code",
   "execution_count": 9,
   "id": "84d3d835-a60c-4283-bc32-2713385b8aaa",
   "metadata": {},
   "outputs": [],
   "source": [
    "matrix_proba = torch.FloatTensor(weights.data.shape).fill_(0.5)"
   ]
  },
  {
   "cell_type": "code",
   "execution_count": 10,
   "id": "6243b079-e81b-4377-8374-1dbf2ea6f936",
   "metadata": {},
   "outputs": [],
   "source": [
    "binary_weights = torch.bernoulli(matrix_proba) * 2 - 1"
   ]
  },
  {
   "cell_type": "code",
   "execution_count": 11,
   "id": "cb8679ae-8f93-4586-b966-991326e55e5b",
   "metadata": {},
   "outputs": [
    {
     "data": {
      "text/plain": [
       "tensor([[[[True, True, True],\n",
       "          [True, True, True],\n",
       "          [True, True, True]],\n",
       "\n",
       "         [[True, True, True],\n",
       "          [True, True, True],\n",
       "          [True, True, True]],\n",
       "\n",
       "         [[True, True, True],\n",
       "          [True, True, True],\n",
       "          [True, True, True]]],\n",
       "\n",
       "\n",
       "        [[[True, True, True],\n",
       "          [True, True, True],\n",
       "          [True, True, True]],\n",
       "\n",
       "         [[True, True, True],\n",
       "          [True, True, True],\n",
       "          [True, True, True]],\n",
       "\n",
       "         [[True, True, True],\n",
       "          [True, True, True],\n",
       "          [True, True, True]]],\n",
       "\n",
       "\n",
       "        [[[True, True, True],\n",
       "          [True, True, True],\n",
       "          [True, True, True]],\n",
       "\n",
       "         [[True, True, True],\n",
       "          [True, True, True],\n",
       "          [True, True, True]],\n",
       "\n",
       "         [[True, True, True],\n",
       "          [True, True, True],\n",
       "          [True, True, True]]]])"
      ]
     },
     "execution_count": 11,
     "metadata": {},
     "output_type": "execute_result"
    }
   ],
   "source": [
    "torch.rand(matrix_proba.shape) > 0"
   ]
  },
  {
   "cell_type": "code",
   "execution_count": 12,
   "id": "e5ad2462-9ac0-461c-80e6-89f132ea9a64",
   "metadata": {},
   "outputs": [
    {
     "data": {
      "text/plain": [
       "(64, 3, 1, 1)"
      ]
     },
     "execution_count": 12,
     "metadata": {},
     "output_type": "execute_result"
    }
   ],
   "source": [
    "nn.Conv2d(3, 64, kernel_size=1).weight.data.numpy().shape"
   ]
  },
  {
   "cell_type": "code",
   "execution_count": 13,
   "id": "3b6c9134-d159-4742-acbe-5fa6b3d9bf7e",
   "metadata": {},
   "outputs": [
    {
     "data": {
      "text/plain": [
       "<All keys matched successfully>"
      ]
     },
     "execution_count": 13,
     "metadata": {},
     "output_type": "execute_result"
    }
   ],
   "source": [
    "device = 'cpu'\n",
    "checkpoint = 'helpful_jazz_378_skinny_small_lbc_unet_no_conv_no_batch_norm'\n",
    "epoch = 40\n",
    "checkpoint_path = f'/home/dsola/repos/PGA-Net/checkpoints/{checkpoint}/epoch{epoch + 1}.pth'\n",
    "net = SkinnySmallUNetLBP(3, 3)\n",
    "net.load_state_dict(torch.load(checkpoint_path, map_location=device))"
   ]
  },
  {
   "cell_type": "code",
   "execution_count": 14,
   "id": "ed28042b-4d35-495d-9006-ec162deeb1b8",
   "metadata": {},
   "outputs": [],
   "source": [
    "data_dir = '/home/dsola/repos/PGA-Net/data/'\n",
    "batch_size = 1\n",
    "img_scale = 0.35\n",
    "img_crop = 256\n",
    "\n",
    "test_set = Ice(os.path.join(data_dir, 'imgs'), os.path.join(data_dir, 'masks'),\n",
    "              os.path.join(data_dir, 'txt_files'), 'val', img_scale, img_crop)\n",
    "\n",
    "test_loader = DataLoader(test_set, batch_size=batch_size)\n",
    "\n",
    "out = nn.Softmax(dim=1)"
   ]
  },
  {
   "cell_type": "code",
   "execution_count": 15,
   "id": "0105e127-e871-4b92-b20b-7d1a9c30baba",
   "metadata": {},
   "outputs": [],
   "source": [
    "for batch in test_loader:\n",
    "    pass"
   ]
  },
  {
   "cell_type": "code",
   "execution_count": 16,
   "id": "20d821ce-3276-41b6-8820-ad5065bdb987",
   "metadata": {},
   "outputs": [],
   "source": [
    "img = batch['image'].to(device=device)"
   ]
  },
  {
   "cell_type": "code",
   "execution_count": 17,
   "id": "ea67b35e-1c33-4f7a-a116-5eaf91c7c99a",
   "metadata": {},
   "outputs": [
    {
     "data": {
      "text/plain": [
       "torch.Size([1, 3, 256, 256])"
      ]
     },
     "execution_count": 17,
     "metadata": {},
     "output_type": "execute_result"
    }
   ],
   "source": [
    "img.shape"
   ]
  },
  {
   "cell_type": "code",
   "execution_count": 18,
   "id": "4f3e4c24-7d70-49c1-bced-af10c85d89c8",
   "metadata": {},
   "outputs": [
    {
     "name": "stderr",
     "output_type": "stream",
     "text": [
      "/home/dsola/anaconda3/envs/PGA-Net/lib/python3.8/site-packages/torch/nn/functional.py:718: UserWarning: Named tensors and all their associated APIs are an experimental feature and subject to change. Please do not use them for anything important until they are released as stable. (Triggered internally at  /pytorch/c10/core/TensorImpl.h:1156.)\n",
      "  return torch.max_pool2d(input, kernel_size, stride, padding, dilation, ceil_mode)\n"
     ]
    }
   ],
   "source": [
    "output = net(img)\n",
    "sftmx = out(output)\n",
    "argmx = torch.argmax(sftmx, dim=1)"
   ]
  },
  {
   "cell_type": "code",
   "execution_count": 19,
   "id": "c1e48da3-fde4-4105-b3cb-84e756196f61",
   "metadata": {},
   "outputs": [
    {
     "data": {
      "text/plain": [
       "<matplotlib.image.AxesImage at 0x7f99d9f6c490>"
      ]
     },
     "execution_count": 19,
     "metadata": {},
     "output_type": "execute_result"
    },
    {
     "data": {
      "image/png": "[encoded data removed]",
      "text/plain": [
       "<Figure size 432x288 with 1 Axes>"
      ]
     },
     "metadata": {
      "needs_background": "light"
     },
     "output_type": "display_data"
    }
   ],
   "source": [
    "argmx_np = argmx.squeeze(0).detach().numpy()\n",
    "plt.imshow(argmx_np)"
   ]
  },
  {
   "cell_type": "code",
   "execution_count": 20,
   "id": "c62232d7-a955-4d31-bee1-8a7d9f606642",
   "metadata": {},
   "outputs": [
    {
     "data": {
      "text/plain": [
       "torch.Size([1, 3, 256, 256])"
      ]
     },
     "execution_count": 20,
     "metadata": {},
     "output_type": "execute_result"
    }
   ],
   "source": [
    "img.shape"
   ]
  },
  {
   "cell_type": "code",
   "execution_count": null,
   "id": "a0556548-4052-4659-9f23-d400b12f3f65",
   "metadata": {},
   "outputs": [],
   "source": []
  },
  {
   "cell_type": "code",
   "execution_count": 22,
   "id": "39d96e34-50f0-4b1a-8eb5-f6784d84e680",
   "metadata": {},
   "outputs": [
    {
     "data": {
      "text/plain": [
       "SkinnySmallUNetLBP(\n",
       "  (inc): BlockLBPUNet(\n",
       "    (conv_1x1): Conv2d(3, 32, kernel_size=(1, 1), stride=(1, 1))\n",
       "  )\n",
       "  (down1): DownLBP(\n",
       "    (maxpool_conv): Sequential(\n",
       "      (0): MaxPool2d(kernel_size=2, stride=2, padding=0, dilation=1, ceil_mode=False)\n",
       "      (1): BlockLBPUNet(\n",
       "        (conv_1x1): Conv2d(32, 64, kernel_size=(1, 1), stride=(1, 1))\n",
       "      )\n",
       "    )\n",
       "  )\n",
       "  (down2): DownLBP(\n",
       "    (maxpool_conv): Sequential(\n",
       "      (0): MaxPool2d(kernel_size=2, stride=2, padding=0, dilation=1, ceil_mode=False)\n",
       "      (1): BlockLBPUNet(\n",
       "        (conv_1x1): Conv2d(64, 64, kernel_size=(1, 1), stride=(1, 1))\n",
       "      )\n",
       "    )\n",
       "  )\n",
       "  (up1): UpLBP(\n",
       "    (up): Upsample(scale_factor=2.0, mode=bilinear)\n",
       "    (conv): BlockLBPUNet(\n",
       "      (conv_1x1): Conv2d(128, 32, kernel_size=(1, 1), stride=(1, 1))\n",
       "    )\n",
       "  )\n",
       "  (up2): UpLBP(\n",
       "    (up): Upsample(scale_factor=2.0, mode=bilinear)\n",
       "    (conv): BlockLBPUNet(\n",
       "      (conv_1x1): Conv2d(64, 32, kernel_size=(1, 1), stride=(1, 1))\n",
       "    )\n",
       "  )\n",
       "  (outc): BlockLBPUNet(\n",
       "    (conv_1x1): Conv2d(32, 3, kernel_size=(1, 1), stride=(1, 1))\n",
       "  )\n",
       ")"
      ]
     },
     "execution_count": 22,
     "metadata": {},
     "output_type": "execute_result"
    }
   ],
   "source": [
    "net"
   ]
  },
  {
   "cell_type": "code",
   "execution_count": 23,
   "id": "089d552d-8440-4c5c-b6ec-1dcf518e3e3d",
   "metadata": {},
   "outputs": [],
   "source": [
    "net.inc.conv_1x1.register_forward_hook(get_activation('inc_conv_1x1'))\n",
    "net.down1.maxpool_conv[0].register_forward_hook(get_activation('down1_mp'))\n",
    "net.down1.maxpool_conv[1].conv_1x1.register_forward_hook(get_activation('down1_conv_1x1'))\n",
    "\n",
    "output = net(img)"
   ]
  },
  {
   "cell_type": "code",
   "execution_count": 24,
   "id": "0e169de2-be4b-4d53-92bf-9f7fcc527ba3",
   "metadata": {},
   "outputs": [
    {
     "data": {
      "text/plain": [
       "torch.Size([1, 32, 256, 256])"
      ]
     },
     "execution_count": 24,
     "metadata": {},
     "output_type": "execute_result"
    }
   ],
   "source": [
    "activation['inc_conv_1x1'].shape"
   ]
  },
  {
   "cell_type": "code",
   "execution_count": 25,
   "id": "359ea3b9-ce90-47ff-a1f3-981daf66a2bf",
   "metadata": {},
   "outputs": [
    {
     "data": {
      "text/plain": [
       "tensor([[[[ 5.3223e-01,  5.3220e-01,  5.3219e-01,  ...,  5.3296e-01,\n",
       "            5.3281e-01,  5.3278e-01],\n",
       "          [ 5.3230e-01,  5.3226e-01,  5.3223e-01,  ...,  5.3291e-01,\n",
       "            5.3300e-01,  5.3344e-01],\n",
       "          [ 5.3184e-01,  5.3159e-01,  5.3116e-01,  ...,  5.3314e-01,\n",
       "            5.3351e-01,  5.3375e-01],\n",
       "          ...,\n",
       "          [ 5.3144e-01,  5.3133e-01,  5.3157e-01,  ...,  5.3202e-01,\n",
       "            5.3192e-01,  5.3205e-01],\n",
       "          [ 5.3066e-01,  5.2915e-01,  5.2989e-01,  ...,  5.3213e-01,\n",
       "            5.3204e-01,  5.3217e-01],\n",
       "          [ 5.2865e-01,  5.2786e-01,  5.2867e-01,  ...,  5.3195e-01,\n",
       "            5.3179e-01,  5.3177e-01]],\n",
       "\n",
       "         [[-2.9427e+00, -2.9425e+00, -2.9426e+00,  ..., -2.9439e+00,\n",
       "           -2.9435e+00, -2.9429e+00],\n",
       "          [-2.9429e+00, -2.9428e+00, -2.9427e+00,  ..., -2.9436e+00,\n",
       "           -2.9436e+00, -2.9440e+00],\n",
       "          [-2.9419e+00, -2.9413e+00, -2.9402e+00,  ..., -2.9441e+00,\n",
       "           -2.9445e+00, -2.9446e+00],\n",
       "          ...,\n",
       "          [-2.9411e+00, -2.9408e+00, -2.9416e+00,  ..., -2.9424e+00,\n",
       "           -2.9423e+00, -2.9425e+00],\n",
       "          [-2.9397e+00, -2.9364e+00, -2.9379e+00,  ..., -2.9424e+00,\n",
       "           -2.9422e+00, -2.9425e+00],\n",
       "          [-2.9353e+00, -2.9335e+00, -2.9352e+00,  ..., -2.9420e+00,\n",
       "           -2.9416e+00, -2.9415e+00]],\n",
       "\n",
       "         [[ 4.8436e-01,  4.8439e-01,  4.8436e-01,  ...,  4.8443e-01,\n",
       "            4.8444e-01,  4.8458e-01],\n",
       "          [ 4.8435e-01,  4.8436e-01,  4.8436e-01,  ...,  4.8447e-01,\n",
       "            4.8456e-01,  4.8471e-01],\n",
       "          [ 4.8433e-01,  4.8432e-01,  4.8435e-01,  ...,  4.8450e-01,\n",
       "            4.8462e-01,  4.8474e-01],\n",
       "          ...,\n",
       "          [ 4.8438e-01,  4.8438e-01,  4.8426e-01,  ...,  4.8432e-01,\n",
       "            4.8429e-01,  4.8432e-01],\n",
       "          [ 4.8422e-01,  4.8416e-01,  4.8415e-01,  ...,  4.8439e-01,\n",
       "            4.8437e-01,  4.8439e-01],\n",
       "          [ 4.8415e-01,  4.8412e-01,  4.8410e-01,  ...,  4.8438e-01,\n",
       "            4.8436e-01,  4.8440e-01]],\n",
       "\n",
       "         ...,\n",
       "\n",
       "         [[-9.2073e-01, -9.2068e-01, -9.2069e-01,  ..., -9.2140e-01,\n",
       "           -9.2126e-01, -9.2117e-01],\n",
       "          [-9.2080e-01, -9.2076e-01, -9.2073e-01,  ..., -9.2134e-01,\n",
       "           -9.2136e-01, -9.2168e-01],\n",
       "          [-9.2039e-01, -9.2016e-01, -9.1976e-01,  ..., -9.2152e-01,\n",
       "           -9.2178e-01, -9.2195e-01],\n",
       "          ...,\n",
       "          [-9.1994e-01, -9.1984e-01, -9.2018e-01,  ..., -9.2054e-01,\n",
       "           -9.2046e-01, -9.2057e-01],\n",
       "          [-9.1936e-01, -9.1803e-01, -9.1874e-01,  ..., -9.2062e-01,\n",
       "           -9.2055e-01, -9.2065e-01],\n",
       "          [-9.1758e-01, -9.1689e-01, -9.1766e-01,  ..., -9.2046e-01,\n",
       "           -9.2033e-01, -9.2028e-01]],\n",
       "\n",
       "         [[ 3.1597e-01,  3.1587e-01,  3.1595e-01,  ...,  3.1568e-01,\n",
       "            3.1551e-01,  3.1491e-01],\n",
       "          [ 3.1605e-01,  3.1598e-01,  3.1597e-01,  ...,  3.1546e-01,\n",
       "            3.1527e-01,  3.1487e-01],\n",
       "          [ 3.1584e-01,  3.1573e-01,  3.1541e-01,  ...,  3.1552e-01,\n",
       "            3.1536e-01,  3.1491e-01],\n",
       "          ...,\n",
       "          [ 3.1595e-01,  3.1585e-01,  3.1603e-01,  ...,  3.1614e-01,\n",
       "            3.1620e-01,  3.1616e-01],\n",
       "          [ 3.1586e-01,  3.1519e-01,  3.1536e-01,  ...,  3.1584e-01,\n",
       "            3.1578e-01,  3.1585e-01],\n",
       "          [ 3.1497e-01,  3.1462e-01,  3.1482e-01,  ...,  3.1576e-01,\n",
       "            3.1567e-01,  3.1557e-01]],\n",
       "\n",
       "         [[ 1.0264e-03,  9.8785e-04,  1.0409e-03,  ...,  4.4867e-04,\n",
       "            4.5972e-04,  1.7315e-04],\n",
       "          [ 1.0209e-03,  1.0120e-03,  1.0264e-03,  ...,  3.6973e-04,\n",
       "            2.1137e-04, -2.6280e-04],\n",
       "          [ 1.2084e-03,  1.3095e-03,  1.4061e-03,  ...,  2.5351e-04,\n",
       "           -6.6918e-05, -4.3921e-04],\n",
       "          ...,\n",
       "          [ 1.4802e-03,  1.5000e-03,  1.4639e-03,  ...,  1.2379e-03,\n",
       "            1.3278e-03,  1.2234e-03],\n",
       "          [ 1.9341e-03,  2.5399e-03,  2.1868e-03,  ...,  1.0166e-03,\n",
       "            1.0518e-03,  1.0022e-03],\n",
       "          [ 2.7419e-03,  3.0591e-03,  2.6773e-03,  ...,  1.0887e-03,\n",
       "            1.1527e-03,  1.1141e-03]]]])"
      ]
     },
     "execution_count": 25,
     "metadata": {},
     "output_type": "execute_result"
    }
   ],
   "source": [
    "activation['inc_conv_1x1']"
   ]
  },
  {
   "cell_type": "code",
   "execution_count": null,
   "id": "d999ffe6-9793-4d4a-8f8f-fc85a242cfc6",
   "metadata": {},
   "outputs": [],
   "source": []
  }
 ],
 "metadata": {
  "kernelspec": {
   "display_name": "Python 3",
   "language": "python",
   "name": "python3"
  },
  "language_info": {
   "codemirror_mode": {
    "name": "ipython",
    "version": 3
   },
   "file_extension": ".py",
   "mimetype": "text/x-python",
   "name": "python",
   "nbconvert_exporter": "python",
   "pygments_lexer": "ipython3",
   "version": "3.8.5"
  }
 },
 "nbformat": 4,
 "nbformat_minor": 5
}
