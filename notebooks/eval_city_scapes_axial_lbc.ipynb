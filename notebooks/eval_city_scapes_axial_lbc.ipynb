{
 "cells": [
  {
   "cell_type": "code",
   "execution_count": 1,
   "id": "640e9115-21bc-44de-869b-78e5b8bd96fe",
   "metadata": {},
   "outputs": [],
   "source": [
    "from src.datasets.city import City\n",
    "from torch.utils.data import DataLoader\n",
    "import torch\n",
    "from src.models.lbcnn.axial_lbcnn import SmallAxialUNetLBC\n",
    "from torch import nn\n",
    "import matplotlib.pyplot as plt\n",
    "import numpy as np\n",
    "from src.metrics.segmentation import _fast_hist, per_class_pixel_accuracy, jaccard_index\n",
    "from src.train.utils import load_ckp\n",
    "from torch import optim\n",
    "from tqdm import tqdm"
   ]
  },
  {
   "cell_type": "code",
   "execution_count": 2,
   "id": "e0ae1319-e05a-4f04-9a6b-915b67a782c1",
   "metadata": {},
   "outputs": [
    {
     "name": "stdout",
     "output_type": "stream",
     "text": [
      "Found 2975 train images\n",
      "Found 500 val images\n"
     ]
    }
   ],
   "source": [
    "data_dir = '/home/dsola/repos/PGA-Net/data/'\n",
    "batch_size = 1\n",
    "\n",
    "train_set = City(data_dir, split='train', is_transform=True)\n",
    "val_set = City(data_dir, split='val', is_transform=True)\n",
    "train_loader = DataLoader(train_set, batch_size=batch_size, shuffle=True, num_workers=8, pin_memory=True)\n",
    "val_loader = DataLoader(val_set, batch_size=batch_size, shuffle=False, num_workers=8, pin_memory=True,\n",
    "                        drop_last=True)"
   ]
  },
  {
   "cell_type": "code",
   "execution_count": 3,
   "id": "fc6c8d7b-4915-48c4-84d5-256309ea8137",
   "metadata": {},
   "outputs": [
    {
     "name": "stderr",
     "output_type": "stream",
     "text": [
      " 38%|███▊      | 191/500 [00:22<00:36,  8.53it/s]"
     ]
    },
    {
     "name": "stdout",
     "output_type": "stream",
     "text": [
      "WARN: resizing labels yielded fewer classes\n"
     ]
    },
    {
     "name": "stderr",
     "output_type": "stream",
     "text": [
      " 46%|████▌     | 228/500 [00:27<00:31,  8.53it/s]"
     ]
    },
    {
     "name": "stdout",
     "output_type": "stream",
     "text": [
      "WARN: resizing labels yielded fewer classes\n"
     ]
    },
    {
     "name": "stderr",
     "output_type": "stream",
     "text": [
      "100%|██████████| 500/500 [00:59<00:00,  8.44it/s]\n"
     ]
    }
   ],
   "source": [
    "device = torch.device('cuda' if torch.cuda.is_available() else 'cpu')\n",
    "\n",
    "model = SmallAxialUNetLBC(3, 19, 10).to(device=device)\n",
    "optimizer = optim.RMSprop(model.parameters(), lr=0.0001, weight_decay=1e-8, momentum=0.9)\n",
    "\n",
    "checkpoint_path = '/home/dsola/repos/PGA-Net/checkpoints/distinctive_snowflake_167_small_axial_lbc_city/epoch11-net-optimizer.pth'\n",
    "\n",
    "model, optimizer, epoch = load_ckp(checkpoint_path, model, optimizer)\n",
    "model.eval()\n",
    "out = nn.Softmax(dim=1)\n",
    "\n",
    "mask_list, pred_list = [], []\n",
    "\n",
    "for batch in tqdm(val_loader):\n",
    "    img = batch['image'].to(device=device)\n",
    "    mask = batch['mask'].to(device=device, dtype=torch.long)\n",
    "\n",
    "    with torch.no_grad():\n",
    "        output = model(img)\n",
    "    sftmx = out(output)\n",
    "    argmx = torch.argmax(sftmx, dim=1)\n",
    "    \n",
    "    mask_list.append(mask)\n",
    "    pred_list.append(argmx)\n",
    "    \n"
   ]
  },
  {
   "cell_type": "code",
   "execution_count": 4,
   "id": "7d06d68f-3eb5-478c-a57e-97b4adbe7c6c",
   "metadata": {},
   "outputs": [],
   "source": [
    "masks = torch.stack(mask_list, dim=0)\n",
    "preds = torch.stack(pred_list, dim=0)"
   ]
  },
  {
   "cell_type": "code",
   "execution_count": 5,
   "id": "637a5e22-8ed9-45b0-8846-fceb8f482147",
   "metadata": {},
   "outputs": [
    {
     "data": {
      "text/plain": [
       "torch.Size([500, 1, 256, 512])"
      ]
     },
     "execution_count": 5,
     "metadata": {},
     "output_type": "execute_result"
    }
   ],
   "source": [
    "masks.shape"
   ]
  },
  {
   "cell_type": "code",
   "execution_count": 7,
   "id": "84c3e9ce-5bf5-471a-a735-0d088e70b848",
   "metadata": {},
   "outputs": [],
   "source": [
    "hist = _fast_hist(masks.to(dtype=torch.long, device='cpu'), preds.to(dtype=torch.long, device='cpu'), 19)"
   ]
  },
  {
   "cell_type": "code",
   "execution_count": 8,
   "id": "e946fd97-1c38-43f9-966f-bed651c7846a",
   "metadata": {},
   "outputs": [
    {
     "data": {
      "text/plain": [
       "(tensor(0.3097),\n",
       " tensor([8.0226e-01, 6.3585e-01, 8.2763e-01, 1.6072e-01, 8.0532e-03, 6.5032e-02,\n",
       "         1.1493e-04, 1.1186e-01, 8.5710e-01, 4.9564e-01, 9.0512e-01, 2.7515e-01,\n",
       "         8.1037e-06, 7.2516e-01, 5.8018e-06, 4.3551e-04, 0.0000e+00, 0.0000e+00,\n",
       "         1.3542e-02]))"
      ]
     },
     "execution_count": 8,
     "metadata": {},
     "output_type": "execute_result"
    }
   ],
   "source": [
    "per_class_pixel_accuracy(hist)"
   ]
  },
  {
   "cell_type": "code",
   "execution_count": 9,
   "id": "93df84ed-0cbc-4a76-8c2b-d0bc74dc6654",
   "metadata": {},
   "outputs": [
    {
     "data": {
      "text/plain": [
       "(tensor(0.2300),\n",
       " tensor([7.6803e-01, 2.7444e-01, 6.4830e-01, 8.5523e-02, 6.9643e-03, 6.0308e-02,\n",
       "         1.0938e-04, 1.0176e-01, 7.4799e-01, 3.1267e-01, 7.2729e-01, 1.8038e-01,\n",
       "         7.8733e-06, 4.4238e-01, 5.7602e-06, 4.3050e-04, 0.0000e+00, 0.0000e+00,\n",
       "         1.3385e-02]))"
      ]
     },
     "execution_count": 9,
     "metadata": {},
     "output_type": "execute_result"
    }
   ],
   "source": [
    "jaccard_index(hist)"
   ]
  },
  {
   "cell_type": "code",
   "execution_count": null,
   "id": "2f1cab50-77e4-49a3-9ae0-ad52cf2e5dab",
   "metadata": {},
   "outputs": [],
   "source": []
  }
 ],
 "metadata": {
  "kernelspec": {
   "display_name": "Python 3",
   "language": "python",
   "name": "python3"
  },
  "language_info": {
   "codemirror_mode": {
    "name": "ipython",
    "version": 3
   },
   "file_extension": ".py",
   "mimetype": "text/x-python",
   "name": "python",
   "nbconvert_exporter": "python",
   "pygments_lexer": "ipython3",
   "version": "3.8.5"
  }
 },
 "nbformat": 4,
 "nbformat_minor": 5
}
