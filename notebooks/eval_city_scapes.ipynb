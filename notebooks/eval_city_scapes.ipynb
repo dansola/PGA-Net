{
 "cells": [
  {
   "cell_type": "code",
   "execution_count": 1,
   "id": "640e9115-21bc-44de-869b-78e5b8bd96fe",
   "metadata": {},
   "outputs": [],
   "source": [
    "from src.datasets.city import City\n",
    "from torch.utils.data import DataLoader\n",
    "import torch\n",
    "from src.models.unet.unet_model import UNet\n",
    "from torch import nn\n",
    "import matplotlib.pyplot as plt\n",
    "import numpy as np\n",
    "from src.metrics.segmentation import _fast_hist, per_class_pixel_accuracy, jaccard_index\n",
    "from tqdm import tqdm"
   ]
  },
  {
   "cell_type": "code",
   "execution_count": 2,
   "id": "e0ae1319-e05a-4f04-9a6b-915b67a782c1",
   "metadata": {},
   "outputs": [
    {
     "name": "stdout",
     "output_type": "stream",
     "text": [
      "Found 2975 train images\n",
      "Found 500 val images\n"
     ]
    }
   ],
   "source": [
    "data_dir = '/home/dsola/repos/PGA-Net/data/'\n",
    "batch_size = 1\n",
    "\n",
    "train_set = City(data_dir, split='train', is_transform=True)\n",
    "val_set = City(data_dir, split='val', is_transform=True)\n",
    "train_loader = DataLoader(train_set, batch_size=batch_size, shuffle=True, num_workers=8, pin_memory=True)\n",
    "val_loader = DataLoader(val_set, batch_size=batch_size, shuffle=False, num_workers=8, pin_memory=True,\n",
    "                        drop_last=True)"
   ]
  },
  {
   "cell_type": "code",
   "execution_count": 3,
   "id": "fc6c8d7b-4915-48c4-84d5-256309ea8137",
   "metadata": {},
   "outputs": [
    {
     "name": "stderr",
     "output_type": "stream",
     "text": [
      " 39%|███▊      | 193/500 [00:08<00:12, 23.97it/s]"
     ]
    },
    {
     "name": "stdout",
     "output_type": "stream",
     "text": [
      "WARN: resizing labels yielded fewer classes\n"
     ]
    },
    {
     "name": "stderr",
     "output_type": "stream",
     "text": [
      " 46%|████▌     | 229/500 [00:10<00:11, 23.96it/s]"
     ]
    },
    {
     "name": "stdout",
     "output_type": "stream",
     "text": [
      "WARN: resizing labels yielded fewer classes\n"
     ]
    },
    {
     "name": "stderr",
     "output_type": "stream",
     "text": [
      "100%|██████████| 500/500 [00:21<00:00, 23.32it/s]\n"
     ]
    }
   ],
   "source": [
    "device = torch.device('cuda' if torch.cuda.is_available() else 'cpu')\n",
    "\n",
    "model = UNet(n_channels=3, n_classes=19, bilinear=True).to(device=device)\n",
    "\n",
    "checkpoint_path = '/home/dsola/repos/PGA-Net/checkpoints/wild_sun_150_city_unet_ignore_index/epoch11.pth'\n",
    "\n",
    "model.load_state_dict(torch.load(checkpoint_path, map_location=device))\n",
    "model.eval()\n",
    "out = nn.Softmax(dim=1)\n",
    "\n",
    "mask_list, pred_list = [], []\n",
    "\n",
    "for batch in tqdm(val_loader):\n",
    "    img = batch['image'].to(device=device)\n",
    "    mask = batch['mask'].to(device=device, dtype=torch.long)\n",
    "\n",
    "    with torch.no_grad():\n",
    "        output = model(img)\n",
    "    sftmx = out(output)\n",
    "    argmx = torch.argmax(sftmx, dim=1)\n",
    "    \n",
    "    mask_list.append(mask)\n",
    "    pred_list.append(argmx)\n",
    "    \n"
   ]
  },
  {
   "cell_type": "code",
   "execution_count": 4,
   "id": "7d06d68f-3eb5-478c-a57e-97b4adbe7c6c",
   "metadata": {},
   "outputs": [],
   "source": [
    "masks = torch.stack(mask_list, dim=0)\n",
    "preds = torch.stack(pred_list, dim=0)"
   ]
  },
  {
   "cell_type": "code",
   "execution_count": 5,
   "id": "637a5e22-8ed9-45b0-8846-fceb8f482147",
   "metadata": {},
   "outputs": [
    {
     "data": {
      "text/plain": [
       "torch.Size([500, 1, 256, 512])"
      ]
     },
     "execution_count": 5,
     "metadata": {},
     "output_type": "execute_result"
    }
   ],
   "source": [
    "masks.shape"
   ]
  },
  {
   "cell_type": "code",
   "execution_count": 6,
   "id": "84c3e9ce-5bf5-471a-a735-0d088e70b848",
   "metadata": {},
   "outputs": [],
   "source": [
    "hist = _fast_hist(masks.to(dtype=torch.long, device='cpu'), preds.to(dtype=torch.long, device='cpu'), 19)"
   ]
  },
  {
   "cell_type": "code",
   "execution_count": 7,
   "id": "e946fd97-1c38-43f9-966f-bed651c7846a",
   "metadata": {},
   "outputs": [
    {
     "data": {
      "text/plain": [
       "0.5127968788146973"
      ]
     },
     "execution_count": 7,
     "metadata": {},
     "output_type": "execute_result"
    }
   ],
   "source": [
    "per_class_pixel_accuracy(hist)[0].item()"
   ]
  },
  {
   "cell_type": "code",
   "execution_count": 8,
   "id": "93df84ed-0cbc-4a76-8c2b-d0bc74dc6654",
   "metadata": {},
   "outputs": [
    {
     "data": {
      "text/plain": [
       "(tensor(0.3973),\n",
       " tensor([0.9443, 0.6258, 0.7715, 0.1340, 0.2136, 0.3546, 0.2102, 0.3816, 0.8463,\n",
       "         0.3977, 0.7794, 0.4114, 0.0122, 0.7192, 0.0218, 0.1388, 0.0980, 0.0440,\n",
       "         0.4441]))"
      ]
     },
     "execution_count": 8,
     "metadata": {},
     "output_type": "execute_result"
    }
   ],
   "source": [
    "jaccard_index(hist)"
   ]
  },
  {
   "cell_type": "code",
   "execution_count": null,
   "id": "098349b3-c5c5-449a-b468-09b8746fb276",
   "metadata": {},
   "outputs": [],
   "source": []
  }
 ],
 "metadata": {
  "kernelspec": {
   "display_name": "Python 3",
   "language": "python",
   "name": "python3"
  },
  "language_info": {
   "codemirror_mode": {
    "name": "ipython",
    "version": 3
   },
   "file_extension": ".py",
   "mimetype": "text/x-python",
   "name": "python",
   "nbconvert_exporter": "python",
   "pygments_lexer": "ipython3",
   "version": "3.8.5"
  }
 },
 "nbformat": 4,
 "nbformat_minor": 5
}
