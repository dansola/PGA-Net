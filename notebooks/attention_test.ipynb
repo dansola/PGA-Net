{
 "cells": [
  {
   "cell_type": "code",
   "execution_count": 1,
   "id": "funny-intersection",
   "metadata": {},
   "outputs": [],
   "source": [
    "import sys\n",
    "sys.path.append('..')\n",
    "\n",
    "import torch\n",
    "from torch import nn\n",
    "from operator import itemgetter\n",
    "from torch.autograd.function import Function\n",
    "from torch.utils.checkpoint import get_device_states, set_device_states\n",
    "from models.axial_unet.axial_attention import *"
   ]
  },
  {
   "cell_type": "code",
   "execution_count": 2,
   "id": "medical-summer",
   "metadata": {},
   "outputs": [
    {
     "name": "stdout",
     "output_type": "stream",
     "text": [
      "[0, 3, 2, 1]\n",
      "[0, 2, 3, 1]\n"
     ]
    }
   ],
   "source": [
    "img_test = torch.randn(1, 3, 400, 400)\n",
    "attn = AxialAttention(\n",
    "    dim = 3,               # embedding dimension\n",
    "    dim_index = 1,         # where is the embedding dimension\n",
    "    dim_heads = 32,        # dimension of each head. defaults to dim // heads if not supplied\n",
    "    heads = 3,             # number of heads for multi-head attention\n",
    "    num_dimensions = 2,    # number of axial dimensions (images is 2, video is 3, or more)\n",
    "    sum_axial_out = True   # whether to sum the contributions of attention on each axis, or to run the input through them sequentially. defaults to true\n",
    ")"
   ]
  },
  {
   "cell_type": "code",
   "execution_count": 3,
   "id": "atomic-habitat",
   "metadata": {},
   "outputs": [
    {
     "name": "stdout",
     "output_type": "stream",
     "text": [
      "torch.Size([400, 400, 3])\n",
      "torch.Size([400, 400, 96]) torch.Size([400, 400, 96]) torch.Size([400, 400, 96])\n",
      "400 400 96 3 32\n",
      "torch.Size([1200, 400, 32]) torch.Size([1200, 400, 32]) torch.Size([1200, 400, 32])\n",
      "torch.Size([400, 400, 3])\n",
      "torch.Size([400, 400, 3])\n",
      "torch.Size([400, 400, 96]) torch.Size([400, 400, 96]) torch.Size([400, 400, 96])\n",
      "400 400 96 3 32\n",
      "torch.Size([1200, 400, 32]) torch.Size([1200, 400, 32]) torch.Size([1200, 400, 32])\n",
      "torch.Size([400, 400, 3])\n"
     ]
    }
   ],
   "source": [
    "out = attn(img_test)"
   ]
  },
  {
   "cell_type": "code",
   "execution_count": null,
   "id": "sapphire-saver",
   "metadata": {},
   "outputs": [],
   "source": []
  },
  {
   "cell_type": "code",
   "execution_count": null,
   "id": "hidden-circus",
   "metadata": {},
   "outputs": [],
   "source": []
  },
  {
   "cell_type": "code",
   "execution_count": 4,
   "id": "angry-inside",
   "metadata": {},
   "outputs": [
    {
     "name": "stdout",
     "output_type": "stream",
     "text": [
      "torch.Size([400, 400, 3, 32])\n"
     ]
    }
   ],
   "source": [
    "b, t, d, h, e = 400, 400, 96, 3, 32\n",
    "x = torch.randn(400, 400, 96)\n",
    "y = x.reshape(b, -1, h, e)\n",
    "print(y.shape)"
   ]
  },
  {
   "cell_type": "code",
   "execution_count": 5,
   "id": "occupied-dimension",
   "metadata": {},
   "outputs": [
    {
     "name": "stdout",
     "output_type": "stream",
     "text": [
      "torch.Size([400, 3, 400, 32])\n"
     ]
    }
   ],
   "source": [
    "z = y.transpose(1, 2)\n",
    "print(z.shape)"
   ]
  },
  {
   "cell_type": "code",
   "execution_count": 6,
   "id": "binding-willow",
   "metadata": {},
   "outputs": [
    {
     "name": "stdout",
     "output_type": "stream",
     "text": [
      "torch.Size([1200, 400, 32])\n"
     ]
    }
   ],
   "source": [
    "j = z.reshape(b * h, -1, e)\n",
    "print(j.shape)"
   ]
  },
  {
   "cell_type": "code",
   "execution_count": null,
   "id": "closing-bookmark",
   "metadata": {},
   "outputs": [],
   "source": []
  },
  {
   "cell_type": "code",
   "execution_count": null,
   "id": "generic-reliance",
   "metadata": {},
   "outputs": [],
   "source": []
  }
 ],
 "metadata": {
  "kernelspec": {
   "display_name": "Python 3",
   "language": "python",
   "name": "python3"
  },
  "language_info": {
   "codemirror_mode": {
    "name": "ipython",
    "version": 3
   },
   "file_extension": ".py",
   "mimetype": "text/x-python",
   "name": "python",
   "nbconvert_exporter": "python",
   "pygments_lexer": "ipython3",
   "version": "3.8.5"
  }
 },
 "nbformat": 4,
 "nbformat_minor": 5
}
