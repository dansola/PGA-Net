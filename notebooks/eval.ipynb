{
 "cells": [
  {
   "cell_type": "code",
   "execution_count": 2,
   "id": "confirmed-estimate",
   "metadata": {},
   "outputs": [],
   "source": [
    "import sys\n",
    "sys.path.append('..')\n",
    "\n",
    "import os\n",
    "import torch\n",
    "from eval import eval_net\n",
    "from models.basic_pga.basic_pga_net import BasicAxialPGA\n",
    "from models.basic_pga.utils import build_rand_inds\n",
    "from datasets.ice import Ice, IceWithProposals\n",
    "from torch.utils.data import DataLoader"
   ]
  },
  {
   "cell_type": "code",
   "execution_count": 3,
   "id": "floppy-florist",
   "metadata": {},
   "outputs": [],
   "source": [
    "img_crop = 220\n",
    "img_scale = 0.35\n",
    "batch_size = 1\n",
    "data_dir = '../data'\n",
    "device = torch.device('cpu')\n",
    "\n",
    "train_set = IceWithProposals(os.path.join(data_dir, 'imgs'), os.path.join(data_dir, 'masks'),\n",
    "                os.path.join(data_dir, 'txt_files'), os.path.join(data_dir, 'proposals/binary_250_16'),\n",
    "                             'train', img_scale, img_crop)"
   ]
  },
  {
   "cell_type": "code",
   "execution_count": 6,
   "id": "skilled-barrier",
   "metadata": {},
   "outputs": [],
   "source": [
    "inds = build_rand_inds(2, 200)"
   ]
  },
  {
   "cell_type": "code",
   "execution_count": 11,
   "id": "oriented-number",
   "metadata": {},
   "outputs": [],
   "source": [
    "inds_tensor = torch.LongTensor(inds)"
   ]
  },
  {
   "cell_type": "code",
   "execution_count": 17,
   "id": "deadly-daily",
   "metadata": {},
   "outputs": [],
   "source": [
    "inds_tensor_param = torch.nn.Parameter(inds_tensor, requires_grad=False)"
   ]
  },
  {
   "cell_type": "code",
   "execution_count": 2,
   "id": "forced-thumb",
   "metadata": {},
   "outputs": [],
   "source": [
    "img_crop = 220\n",
    "img_scale = 0.35\n",
    "batch_size = 1\n",
    "data_dir = '../data'\n",
    "device = torch.device('cuda' if torch.cuda.is_available() else 'cpu')\n",
    "\n",
    "train_set = IceWithProposals(os.path.join(data_dir, 'imgs'), os.path.join(data_dir, 'masks'),\n",
    "                os.path.join(data_dir, 'txt_files'), os.path.join(data_dir, 'proposals/binary_250_16'),\n",
    "                             'train', img_scale, img_crop)\n",
    "val_set = IceWithProposals(os.path.join(data_dir, 'imgs'), os.path.join(data_dir, 'masks'),\n",
    "              os.path.join(data_dir, 'txt_files'), os.path.join(data_dir, 'proposals/binary_250_16'),\n",
    "                           'val', img_scale, img_crop)\n",
    "\n",
    "train_loader = DataLoader(train_set, batch_size=batch_size, shuffle=True)\n",
    "val_loader = DataLoader(val_set, batch_size=batch_size)"
   ]
  },
  {
   "cell_type": "code",
   "execution_count": 3,
   "id": "varying-poultry",
   "metadata": {},
   "outputs": [
    {
     "data": {
      "text/plain": [
       "BasicAxialPGA(\n",
       "  (block_a1): BlockAxial(\n",
       "    (conv1): Conv2d(3, 10, kernel_size=(1, 1), stride=(1, 1), bias=False)\n",
       "    (bn1): BatchNorm2d(10, eps=1e-05, momentum=0.1, affine=True, track_running_stats=True)\n",
       "    (relu): ReLU(inplace=True)\n",
       "    (attn): AxialAttention(\n",
       "      (axial_attentions): ModuleList(\n",
       "        (0): PermuteToFrom(\n",
       "          (fn): SelfAttention(\n",
       "            (to_q): Linear(in_features=10, out_features=10, bias=False)\n",
       "            (to_kv): Linear(in_features=10, out_features=20, bias=False)\n",
       "            (to_out): Linear(in_features=10, out_features=10, bias=True)\n",
       "          )\n",
       "        )\n",
       "        (1): PermuteToFrom(\n",
       "          (fn): SelfAttention(\n",
       "            (to_q): Linear(in_features=10, out_features=10, bias=False)\n",
       "            (to_kv): Linear(in_features=10, out_features=20, bias=False)\n",
       "            (to_out): Linear(in_features=10, out_features=10, bias=True)\n",
       "          )\n",
       "        )\n",
       "      )\n",
       "    )\n",
       "    (conv2): Conv2d(20, 10, kernel_size=(1, 1), stride=(1, 1), bias=False)\n",
       "    (bn2): BatchNorm2d(10, eps=1e-05, momentum=0.1, affine=True, track_running_stats=True)\n",
       "  )\n",
       "  (block_pga1): BlockPGA(\n",
       "    (conv1): Conv2d(3, 10, kernel_size=(1, 1), stride=(1, 1), bias=False)\n",
       "    (bn1): BatchNorm2d(10, eps=1e-05, momentum=0.1, affine=True, track_running_stats=True)\n",
       "    (relu): ReLU(inplace=True)\n",
       "    (attn): PropAttention(\n",
       "      (to_q): Linear(in_features=5, out_features=5, bias=False)\n",
       "      (to_kv): Linear(in_features=5, out_features=10, bias=False)\n",
       "      (to_out): Linear(in_features=10, out_features=10, bias=True)\n",
       "    )\n",
       "    (conv2): Conv2d(20, 10, kernel_size=(1, 1), stride=(1, 1), bias=False)\n",
       "    (bn2): BatchNorm2d(10, eps=1e-05, momentum=0.1, affine=True, track_running_stats=True)\n",
       "  )\n",
       "  (block_a2): BlockAxial(\n",
       "    (conv1): Conv2d(10, 10, kernel_size=(1, 1), stride=(1, 1), bias=False)\n",
       "    (bn1): BatchNorm2d(10, eps=1e-05, momentum=0.1, affine=True, track_running_stats=True)\n",
       "    (relu): ReLU(inplace=True)\n",
       "    (attn): AxialAttention(\n",
       "      (axial_attentions): ModuleList(\n",
       "        (0): PermuteToFrom(\n",
       "          (fn): SelfAttention(\n",
       "            (to_q): Linear(in_features=10, out_features=10, bias=False)\n",
       "            (to_kv): Linear(in_features=10, out_features=20, bias=False)\n",
       "            (to_out): Linear(in_features=10, out_features=10, bias=True)\n",
       "          )\n",
       "        )\n",
       "        (1): PermuteToFrom(\n",
       "          (fn): SelfAttention(\n",
       "            (to_q): Linear(in_features=10, out_features=10, bias=False)\n",
       "            (to_kv): Linear(in_features=10, out_features=20, bias=False)\n",
       "            (to_out): Linear(in_features=10, out_features=10, bias=True)\n",
       "          )\n",
       "        )\n",
       "      )\n",
       "    )\n",
       "    (conv2): Conv2d(20, 10, kernel_size=(1, 1), stride=(1, 1), bias=False)\n",
       "    (bn2): BatchNorm2d(10, eps=1e-05, momentum=0.1, affine=True, track_running_stats=True)\n",
       "  )\n",
       "  (block_pga2): BlockPGA(\n",
       "    (conv1): Conv2d(10, 10, kernel_size=(1, 1), stride=(1, 1), bias=False)\n",
       "    (bn1): BatchNorm2d(10, eps=1e-05, momentum=0.1, affine=True, track_running_stats=True)\n",
       "    (relu): ReLU(inplace=True)\n",
       "    (attn): PropAttention(\n",
       "      (to_q): Linear(in_features=5, out_features=5, bias=False)\n",
       "      (to_kv): Linear(in_features=5, out_features=10, bias=False)\n",
       "      (to_out): Linear(in_features=10, out_features=10, bias=True)\n",
       "    )\n",
       "    (conv2): Conv2d(20, 10, kernel_size=(1, 1), stride=(1, 1), bias=False)\n",
       "    (bn2): BatchNorm2d(10, eps=1e-05, momentum=0.1, affine=True, track_running_stats=True)\n",
       "  )\n",
       "  (down1): Conv2d(20, 10, kernel_size=(1, 1), stride=(1, 1), bias=False)\n",
       "  (outc): Conv2d(20, 3, kernel_size=(1, 1), stride=(1, 1), bias=False)\n",
       "  (out): Softmax(dim=1)\n",
       ")"
      ]
     },
     "execution_count": 3,
     "metadata": {},
     "output_type": "execute_result"
    }
   ],
   "source": [
    "net = BasicAxialPGA(3, 3, 10, img_crop=img_crop)\n",
    "net.to(device=device)"
   ]
  },
  {
   "cell_type": "code",
   "execution_count": null,
   "id": "educational-region",
   "metadata": {},
   "outputs": [
    {
     "name": "stderr",
     "output_type": "stream",
     "text": [
      "Validation round:  10%|█         | 1/10 [00:19<02:56, 19.65s/batch]"
     ]
    },
    {
     "name": "stdout",
     "output_type": "stream",
     "text": [
      "1.0967825651168823\n"
     ]
    },
    {
     "name": "stderr",
     "output_type": "stream",
     "text": [
      "Validation round:  20%|██        | 2/10 [01:19<05:46, 43.33s/batch]"
     ]
    },
    {
     "name": "stdout",
     "output_type": "stream",
     "text": [
      "1.0947439670562744\n"
     ]
    }
   ],
   "source": [
    "loss_val = eval_net(net, val_loader, device)"
   ]
  },
  {
   "cell_type": "code",
   "execution_count": 5,
   "id": "imposed-engineering",
   "metadata": {},
   "outputs": [
    {
     "data": {
      "text/plain": [
       "1.0982238054275513"
      ]
     },
     "execution_count": 5,
     "metadata": {},
     "output_type": "execute_result"
    }
   ],
   "source": [
    "loss_val"
   ]
  },
  {
   "cell_type": "code",
   "execution_count": null,
   "id": "quick-orbit",
   "metadata": {},
   "outputs": [],
   "source": []
  }
 ],
 "metadata": {
  "kernelspec": {
   "display_name": "Python 3",
   "language": "python",
   "name": "python3"
  },
  "language_info": {
   "codemirror_mode": {
    "name": "ipython",
    "version": 3
   },
   "file_extension": ".py",
   "mimetype": "text/x-python",
   "name": "python",
   "nbconvert_exporter": "python",
   "pygments_lexer": "ipython3",
   "version": "3.8.5"
  }
 },
 "nbformat": 4,
 "nbformat_minor": 5
}
