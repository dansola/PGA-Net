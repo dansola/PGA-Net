{
 "cells": [
  {
   "cell_type": "code",
   "execution_count": 36,
   "id": "def7eccd-65c2-4863-9dbd-c2e321cbe076",
   "metadata": {},
   "outputs": [],
   "source": [
    "import matplotlib.pyplot as plt\n",
    "import numpy as np\n",
    "import pickle\n",
    "import os\n",
    "\n",
    "def unpickle(filename):\n",
    "    with open(filename, 'rb') as f:\n",
    "        data = pickle.load(f, encoding='latin1')\n",
    "    return data"
   ]
  },
  {
   "cell_type": "code",
   "execution_count": 3,
   "id": "b34fa42a-57bf-4bf7-80a7-b7a78d293700",
   "metadata": {},
   "outputs": [],
   "source": [
    "file_img = '/home/dsola/repos/PGA-Net/data/patch20/20140404_3_20_HH_HV_patches_erie.npy'\n",
    "file_label = '/home/dsola/repos/PGA-Net/data/patch20/20140404_patch20_stride3_erie.pkl'"
   ]
  },
  {
   "cell_type": "code",
   "execution_count": 4,
   "id": "a23d45d0-f4dd-45db-9471-791a28044648",
   "metadata": {},
   "outputs": [],
   "source": [
    "imgs = np.load(file_img)\n",
    "labels = unpickle(file_label)"
   ]
  },
  {
   "cell_type": "code",
   "execution_count": 111,
   "id": "45a84883-96a5-4546-8d36-73618b9d836a",
   "metadata": {},
   "outputs": [
    {
     "data": {
      "text/plain": [
       "(20, 20, 2)"
      ]
     },
     "execution_count": 111,
     "metadata": {},
     "output_type": "execute_result"
    }
   ],
   "source": [
    "imgs[0].shape"
   ]
  },
  {
   "cell_type": "code",
   "execution_count": 109,
   "id": "57ef487e-1798-40d9-84df-6350c68c03f5",
   "metadata": {},
   "outputs": [
    {
     "data": {
      "text/plain": [
       "104326"
      ]
     },
     "execution_count": 109,
     "metadata": {},
     "output_type": "execute_result"
    }
   ],
   "source": [
    "np.concatenate([imgs, imgs], axis=0).shape[0]"
   ]
  },
  {
   "cell_type": "code",
   "execution_count": null,
   "id": "e2c644d8-30a2-4a9e-bfb5-57d7e4f2f8a3",
   "metadata": {},
   "outputs": [],
   "source": []
  },
  {
   "cell_type": "code",
   "execution_count": 12,
   "id": "2fc60c7c-2cc1-4cbb-b24c-d4d034acadd2",
   "metadata": {},
   "outputs": [
    {
     "data": {
      "text/plain": [
       "<matplotlib.image.AxesImage at 0x7f845ddc6a90>"
      ]
     },
     "execution_count": 12,
     "metadata": {},
     "output_type": "execute_result"
    },
    {
     "data": {
      "image/png": "[encoded data removed]",
      "text/plain": [
       "<Figure size 432x288 with 1 Axes>"
      ]
     },
     "metadata": {
      "needs_background": "light"
     },
     "output_type": "display_data"
    }
   ],
   "source": [
    "plt.imshow(imgs[0,:,:,0])"
   ]
  },
  {
   "cell_type": "code",
   "execution_count": 35,
   "id": "6ccaeb00-8e65-40f6-8d7a-09f4569f7802",
   "metadata": {},
   "outputs": [
    {
     "data": {
      "text/plain": [
       "(array([ 9641.,     0.,     0.,     0.,     0.,     0.,   615.,     0.,\n",
       "            0.,     0.,     0.,     0.,     0.,     0.,     0.,   275.,\n",
       "            0.,     0.,  3744.,     0.,     0.,     0.,     0.,     0.,\n",
       "            0.,     0.,     0., 13854.,     0., 24034.]),\n",
       " array([0.        , 0.03333333, 0.06666667, 0.1       , 0.13333333,\n",
       "        0.16666667, 0.2       , 0.23333333, 0.26666667, 0.3       ,\n",
       "        0.33333333, 0.36666667, 0.4       , 0.43333333, 0.46666667,\n",
       "        0.5       , 0.53333333, 0.56666667, 0.6       , 0.63333333,\n",
       "        0.66666667, 0.7       , 0.73333333, 0.76666667, 0.8       ,\n",
       "        0.83333333, 0.86666667, 0.9       , 0.93333333, 0.96666667,\n",
       "        1.        ]),\n",
       " <BarContainer object of 30 artists>)"
      ]
     },
     "execution_count": 35,
     "metadata": {},
     "output_type": "execute_result"
    },
    {
     "data": {
      "image/png": "[encoded data removed]",
      "text/plain": [
       "<Figure size 432x288 with 1 Axes>"
      ]
     },
     "metadata": {
      "needs_background": "light"
     },
     "output_type": "display_data"
    }
   ],
   "source": [
    "plt.hist(np.array(labels[0]), bins=30)"
   ]
  },
  {
   "cell_type": "code",
   "execution_count": 18,
   "id": "ffd0c7f0-225f-4e3f-8b0f-c883f8cd524e",
   "metadata": {},
   "outputs": [
    {
     "data": {
      "text/plain": [
       "array([0.       , 0.2      , 0.5      , 0.6      , 0.9      , 0.9999999,\n",
       "       1.       ])"
      ]
     },
     "execution_count": 18,
     "metadata": {},
     "output_type": "execute_result"
    }
   ],
   "source": [
    "np.unique(np.array(labels[0]))"
   ]
  },
  {
   "cell_type": "code",
   "execution_count": 26,
   "id": "f9a599cd-af74-455a-9b25-d47a85b2ad3e",
   "metadata": {},
   "outputs": [
    {
     "data": {
      "text/plain": [
       "2939"
      ]
     },
     "execution_count": 26,
     "metadata": {},
     "output_type": "execute_result"
    }
   ],
   "source": [
    "(np.array(labels[0])==1).sum()"
   ]
  },
  {
   "cell_type": "code",
   "execution_count": 108,
   "id": "30c82657-5818-46c1-ab9d-4ad052267659",
   "metadata": {},
   "outputs": [
    {
     "data": {
      "text/plain": [
       "104326"
      ]
     },
     "execution_count": 108,
     "metadata": {},
     "output_type": "execute_result"
    }
   ],
   "source": [
    "len(labels[0] + labels[0])"
   ]
  },
  {
   "cell_type": "code",
   "execution_count": 34,
   "id": "84bf8f66-9c07-45a8-a3a4-2ba487a04be4",
   "metadata": {},
   "outputs": [
    {
     "name": "stdout",
     "output_type": "stream",
     "text": [
      "11280 16900\n",
      "11280 16920\n",
      "11300 16900\n",
      "11300 16920\n",
      "11320 16920\n",
      "11340 16920\n",
      "11360 16920\n",
      "11380 16920\n",
      "11400 16920\n",
      "11400 16940\n"
     ]
    }
   ],
   "source": [
    "for i in range(10):\n",
    "    print(labels[2][i], labels[3][i])"
   ]
  },
  {
   "cell_type": "code",
   "execution_count": 37,
   "id": "7a8b4698-e419-4cd2-bcd3-cecb1565a123",
   "metadata": {},
   "outputs": [],
   "source": [
    "data_dir = '/home/dsola/repos/PGA-Net/data/patch20'\n",
    "files = os.listdir(data_dir)"
   ]
  },
  {
   "cell_type": "code",
   "execution_count": 95,
   "id": "39ac17e9-664f-43c3-ae98-5b73db6f896a",
   "metadata": {},
   "outputs": [
    {
     "data": {
      "text/plain": [
       "['20140328_3_20_HH_HV_patches_ontario.npy']"
      ]
     },
     "execution_count": 95,
     "metadata": {},
     "output_type": "execute_result"
    }
   ],
   "source": [
    "[x for x in files if '20140328' in x and 'ontario' in x and '.np' in x]"
   ]
  },
  {
   "cell_type": "code",
   "execution_count": 44,
   "id": "1940e754-77e2-416e-ba7d-1a6d1944c254",
   "metadata": {},
   "outputs": [],
   "source": [
    "tmp = np.load('/home/dsola/repos/PGA-Net/data/patch20/20140328_3_20_HH_HV_patches_erie_bathy.npy')"
   ]
  },
  {
   "cell_type": "code",
   "execution_count": 45,
   "id": "83fe1b00-4608-4ebc-9d40-1df8498020d2",
   "metadata": {},
   "outputs": [
    {
     "data": {
      "text/plain": [
       "(0, 20, 20, 3)"
      ]
     },
     "execution_count": 45,
     "metadata": {},
     "output_type": "execute_result"
    }
   ],
   "source": [
    "tmp.shape"
   ]
  },
  {
   "cell_type": "code",
   "execution_count": 83,
   "id": "30bdad5f-a528-4148-ae31-281e8a4f6b60",
   "metadata": {},
   "outputs": [
    {
     "name": "stdout",
     "output_type": "stream",
     "text": [
      "samples_stride3/HH_HV/patch20/20140112_patch20_stride3_ontario.pkl\n",
      "samples_stride3/HH_HV/patch20/20140114_patch20_stride3_ontario.pkl\n",
      "samples_stride3/HH_HV/patch20/20140204_patch20_stride3_ontario.pkl\n",
      "samples_stride3/HH_HV/patch20/20140301_patch20_stride3_ontario.pkl\n",
      "samples_stride3/HH_HV/patch20/20140307_patch20_stride3_ontario.pkl\n",
      "samples_stride3/HH_HV/patch20/20140308_patch20_stride3_ontario.pkl\n",
      "samples_stride3/HH_HV/patch20/20140325_patch20_stride3_ontario.pkl\n"
     ]
    }
   ],
   "source": [
    "with open(\"/home/dsola/repos/PGA-Net/data/patch20/imlist_test_ontario.txt\",\"r\") as ins:\n",
    "     for line in ins:\n",
    "            print(line.strip('\\n'))"
   ]
  },
  {
   "cell_type": "code",
   "execution_count": 90,
   "id": "b51838a1-2e08-42b9-82b3-d5df882d8d21",
   "metadata": {},
   "outputs": [],
   "source": [
    "line = line.strip('\\n')"
   ]
  },
  {
   "cell_type": "code",
   "execution_count": 93,
   "id": "3e5eee6b-6e13-4206-bcfe-9ab74ce99d86",
   "metadata": {},
   "outputs": [
    {
     "data": {
      "text/plain": [
       "'20140325'"
      ]
     },
     "execution_count": 93,
     "metadata": {},
     "output_type": "execute_result"
    }
   ],
   "source": [
    "line.split('/')[-1].split('_')[0]"
   ]
  },
  {
   "cell_type": "code",
   "execution_count": 99,
   "id": "9c9279cd-df7c-440b-98e8-1d8f1e3192fd",
   "metadata": {},
   "outputs": [
    {
     "data": {
      "text/plain": [
       "'20140325_patch20_stride3_ontario.pkl'"
      ]
     },
     "execution_count": 99,
     "metadata": {},
     "output_type": "execute_result"
    }
   ],
   "source": [
    "line.split('/')[-1]"
   ]
  },
  {
   "cell_type": "code",
   "execution_count": null,
   "id": "3b1e90ee-46fd-4b1e-8979-0597f1943626",
   "metadata": {},
   "outputs": [],
   "source": []
  }
 ],
 "metadata": {
  "kernelspec": {
   "display_name": "Python 3",
   "language": "python",
   "name": "python3"
  },
  "language_info": {
   "codemirror_mode": {
    "name": "ipython",
    "version": 3
   },
   "file_extension": ".py",
   "mimetype": "text/x-python",
   "name": "python",
   "nbconvert_exporter": "python",
   "pygments_lexer": "ipython3",
   "version": "3.8.5"
  }
 },
 "nbformat": 4,
 "nbformat_minor": 5
}
