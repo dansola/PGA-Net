{
 "cells": [
  {
   "cell_type": "code",
   "execution_count": 1,
   "id": "995fb2e8-089d-4af2-9427-bbe8309b5369",
   "metadata": {},
   "outputs": [],
   "source": [
    "import os\n",
    "import numpy as np\n",
    "import pickle\n",
    "\n",
    "def unpickle(filename):\n",
    "    with open(filename, 'rb') as f:\n",
    "        data = pickle.load(f, encoding='latin1')\n",
    "    return data\n",
    "\n",
    "def _get_text_file_path(data_directory, split, lake) -> str:\n",
    "    return os.path.join(data_directory, f\"imlist_{split}_{lake}.txt\")\n",
    "\n",
    "def _read_text_file(data_directory, text_file_path, lake):\n",
    "    img_paths, ice_con_paths = [], []\n",
    "    with open(text_file_path) as f:\n",
    "        for line in f:\n",
    "            line = line.strip('\\n')\n",
    "            pkl_file = line.split('/')[-1]\n",
    "            date = pkl_file.split('_')[0]\n",
    "\n",
    "            img_path = f\"{date}_3_20_HH_HV_patches_{lake}.npy\"\n",
    "            ice_con_path = pkl_file\n",
    "\n",
    "            assert img_path in os.listdir(data_directory), f\"{img_path} not found in {data_directory}\"\n",
    "            assert ice_con_path in os.listdir(\n",
    "                data_directory), f\"{ice_con_path} not found in {data_directory}\"\n",
    "\n",
    "            img_paths.append(os.path.join(data_directory, img_path))\n",
    "            ice_con_paths.append(os.path.join(data_directory, ice_con_path))\n",
    "\n",
    "    return img_paths, ice_con_paths"
   ]
  },
  {
   "cell_type": "code",
   "execution_count": 2,
   "id": "5a3c21af-5e84-4600-b5e8-1b2131380a83",
   "metadata": {},
   "outputs": [],
   "source": [
    "data_directory = '/home/dsola/repos/PGA-Net/data/patch20'\n",
    "split = 'train'\n",
    "lake = 'erie'\n",
    "\n",
    "text_file_path = _get_text_file_path(data_directory, split, lake)\n",
    "img_paths, ice_con_paths = _read_text_file(data_directory, text_file_path, lake)\n",
    "# imgs, ice_cons = [], []\n",
    "# for i in range(len(img_paths)):\n",
    "#     print(i)\n",
    "#     imgs.append(np.load(img_paths[i]))\n",
    "#     ice_cons += unpickle(ice_con_paths[i])[0]\n",
    "#     tot = 0\n",
    "#     for i in range(len(imgs)):\n",
    "#         tot += imgs[i].shape[0]\n",
    "# # imgs = np.concatenate(imgs, axis=0)\n",
    "# assert tot == len(ice_cons), f\"Number of images, {imgs.shape[0]}, does not match the number of \" \\\n",
    "#                                        f\"labels, {len(ice_cons)}. \""
   ]
  },
  {
   "cell_type": "code",
   "execution_count": 3,
   "id": "b7ec9af0-003f-4e50-915b-6bed97e19f34",
   "metadata": {},
   "outputs": [
    {
     "data": {
      "text/plain": [
       "['/home/dsola/repos/PGA-Net/data/patch20/20140111_3_20_HH_HV_patches_erie.npy',\n",
       " '/home/dsola/repos/PGA-Net/data/patch20/20140112_3_20_HH_HV_patches_erie.npy',\n",
       " '/home/dsola/repos/PGA-Net/data/patch20/20140118_3_20_HH_HV_patches_erie.npy',\n",
       " '/home/dsola/repos/PGA-Net/data/patch20/20140122_3_20_HH_HV_patches_erie.npy',\n",
       " '/home/dsola/repos/PGA-Net/data/patch20/20140128_3_20_HH_HV_patches_erie.npy',\n",
       " '/home/dsola/repos/PGA-Net/data/patch20/20140310_3_20_HH_HV_patches_erie.npy',\n",
       " '/home/dsola/repos/PGA-Net/data/patch20/20140320_3_20_HH_HV_patches_erie.npy',\n",
       " '/home/dsola/repos/PGA-Net/data/patch20/20140204_3_20_HH_HV_patches_erie.npy',\n",
       " '/home/dsola/repos/PGA-Net/data/patch20/20140205_3_20_HH_HV_patches_erie.npy',\n",
       " '/home/dsola/repos/PGA-Net/data/patch20/20140308_3_20_HH_HV_patches_erie.npy',\n",
       " '/home/dsola/repos/PGA-Net/data/patch20/20140318_3_20_HH_HV_patches_erie.npy',\n",
       " '/home/dsola/repos/PGA-Net/data/patch20/20140325_3_20_HH_HV_patches_erie.npy',\n",
       " '/home/dsola/repos/PGA-Net/data/patch20/20140328_3_20_HH_HV_patches_erie.npy']"
      ]
     },
     "execution_count": 3,
     "metadata": {},
     "output_type": "execute_result"
    }
   ],
   "source": [
    "img_paths"
   ]
  },
  {
   "cell_type": "code",
   "execution_count": null,
   "id": "6e25d2b4-d1ec-4206-9d16-a3911e96d890",
   "metadata": {},
   "outputs": [],
   "source": []
  }
 ],
 "metadata": {
  "kernelspec": {
   "display_name": "Python 3",
   "language": "python",
   "name": "python3"
  },
  "language_info": {
   "codemirror_mode": {
    "name": "ipython",
    "version": 3
   },
   "file_extension": ".py",
   "mimetype": "text/x-python",
   "name": "python",
   "nbconvert_exporter": "python",
   "pygments_lexer": "ipython3",
   "version": "3.8.5"
  }
 },
 "nbformat": 4,
 "nbformat_minor": 5
}
