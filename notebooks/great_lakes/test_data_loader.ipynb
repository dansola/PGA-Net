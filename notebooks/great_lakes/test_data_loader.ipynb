{
 "cells": [
  {
   "cell_type": "code",
   "execution_count": 1,
   "id": "dc044a4c-d0d7-49dd-92d8-7394b7d2b082",
   "metadata": {},
   "outputs": [],
   "source": [
    "from src.datasets.great_lakes import Lake, Split, LakesRandom, BaseConfig, TrainConfig, Label\n",
    "from torch.utils.data import DataLoader\n",
    "from src.models.basic_cnn import AndreaNet\n",
    "import torch"
   ]
  },
  {
   "cell_type": "code",
   "execution_count": 2,
   "id": "fa34d082-2568-469a-961e-3568aa382e54",
   "metadata": {},
   "outputs": [],
   "source": [
    "data_directory = \"/home/dsola/repos/PGA-Net/data/patch20\"\n",
    "lake = Lake.erie\n",
    "label = Label.binary\n",
    "class_weighted = True\n",
    "binary_labels = True\n",
    "batch_size = 10\n",
    "epochs = 10\n",
    "train_epoch_size, test_epoch_size = 500, 250\n",
    "device = 'cpu'\n",
    "\n",
    "base_config = BaseConfig(data_directory=data_directory, lake=lake, label=label)\n",
    "\n",
    "train_config = TrainConfig(*base_config, batch_size=batch_size, epochs=epochs,\n",
    "                           epoch_size=train_epoch_size, class_weighted=class_weighted, device=device)\n",
    "\n",
    "train_set = LakesRandom(train_config)\n",
    "train_loader = DataLoader(train_set, batch_size=train_config.batch_size, shuffle=True)"
   ]
  },
  {
   "cell_type": "code",
   "execution_count": 3,
   "id": "8835c1d8-3050-46ae-bb7e-90c6195ad90b",
   "metadata": {},
   "outputs": [],
   "source": [
    "for batch in train_loader:\n",
    "    img, ice_con = batch[0], batch[1]\n",
    "    break"
   ]
  },
  {
   "cell_type": "code",
   "execution_count": 4,
   "id": "55ade505-14c2-48ad-b20f-a7c3cc212966",
   "metadata": {},
   "outputs": [
    {
     "data": {
      "text/plain": [
       "torch.Size([10, 2, 20, 20])"
      ]
     },
     "execution_count": 4,
     "metadata": {},
     "output_type": "execute_result"
    }
   ],
   "source": [
    "img.shape"
   ]
  },
  {
   "cell_type": "code",
   "execution_count": 8,
   "id": "b338dcbc-c464-4d6b-a57e-7b455015b67c",
   "metadata": {},
   "outputs": [],
   "source": [
    "net_1 = AndreaNet(classes=5)\n",
    "net_2 = AndreaNet(classes=2)"
   ]
  },
  {
   "cell_type": "code",
   "execution_count": 12,
   "id": "ab9cb198-4d5b-4c45-8e2b-aa235e27efde",
   "metadata": {},
   "outputs": [
    {
     "name": "stdout",
     "output_type": "stream",
     "text": [
      "tensor([[0.2351, 0.1788, 0.2005, 0.2067, 0.1788],\n",
      "        [0.2230, 0.1750, 0.2071, 0.2344, 0.1605],\n",
      "        [0.2343, 0.1735, 0.1932, 0.2370, 0.1620],\n",
      "        [0.2216, 0.1844, 0.2041, 0.2056, 0.1844],\n",
      "        [0.2202, 0.1837, 0.2067, 0.2056, 0.1837],\n",
      "        [0.2189, 0.1779, 0.2094, 0.2161, 0.1779],\n",
      "        [0.2210, 0.1824, 0.2087, 0.2056, 0.1824],\n",
      "        [0.2209, 0.1819, 0.2066, 0.2087, 0.1819],\n",
      "        [0.2279, 0.1805, 0.2035, 0.2075, 0.1805],\n",
      "        [0.2232, 0.1790, 0.2077, 0.2109, 0.1790]], grad_fn=<SoftmaxBackward>)\n"
     ]
    },
    {
     "data": {
      "text/plain": [
       "tensor([0, 3, 3, 0, 0, 0, 0, 0, 0, 0])"
      ]
     },
     "execution_count": 12,
     "metadata": {},
     "output_type": "execute_result"
    }
   ],
   "source": [
    "x = net_1(img.to(device=device, dtype=torch.float32))\n",
    "print(x)\n",
    "torch.argmax(x, dim=1)"
   ]
  },
  {
   "cell_type": "code",
   "execution_count": 7,
   "id": "be70ba6b-bf9b-4b6b-a1e5-3d5ea336b7cf",
   "metadata": {},
   "outputs": [
    {
     "data": {
      "text/plain": [
       "tensor([[0.5404, 0.4596],\n",
       "        [0.5284, 0.4716],\n",
       "        [0.5384, 0.4616],\n",
       "        [0.5143, 0.4857],\n",
       "        [0.5227, 0.4773],\n",
       "        [0.5139, 0.4861],\n",
       "        [0.5167, 0.4833],\n",
       "        [0.5273, 0.4727],\n",
       "        [0.5301, 0.4699],\n",
       "        [0.5433, 0.4567]], grad_fn=<SoftmaxBackward>)"
      ]
     },
     "execution_count": 7,
     "metadata": {},
     "output_type": "execute_result"
    }
   ],
   "source": [
    "net_2(img.to(device=device, dtype=torch.float32))"
   ]
  },
  {
   "cell_type": "code",
   "execution_count": 8,
   "id": "36ee9724-99b7-4896-a304-15e1dd89048b",
   "metadata": {},
   "outputs": [
    {
     "name": "stderr",
     "output_type": "stream",
     "text": [
      "/home/dsola/anaconda3/envs/PGA-Net/lib/python3.8/site-packages/torch/nn/functional.py:718: UserWarning: Named tensors and all their associated APIs are an experimental feature and subject to change. Please do not use them for anything important until they are released as stable. (Triggered internally at  /pytorch/c10/core/TensorImpl.h:1156.)\n",
      "  return torch.max_pool2d(input, kernel_size, stride, padding, dilation, ceil_mode)\n"
     ]
    },
    {
     "data": {
      "text/plain": [
       "tensor([[0.0690],\n",
       "        [0.1302],\n",
       "        [0.0902],\n",
       "        [0.0736],\n",
       "        [0.1022],\n",
       "        [0.0781],\n",
       "        [0.0780],\n",
       "        [0.0786],\n",
       "        [0.0753],\n",
       "        [0.0793]], grad_fn=<ReluBackward0>)"
      ]
     },
     "execution_count": 8,
     "metadata": {},
     "output_type": "execute_result"
    }
   ],
   "source": [
    "net_1(img.to(device=device, dtype=torch.float32))"
   ]
  },
  {
   "cell_type": "code",
   "execution_count": 11,
   "id": "931b81cd-4d52-4216-91f2-49f6c522cf78",
   "metadata": {},
   "outputs": [
    {
     "data": {
      "text/plain": [
       "tensor([[0.1768, 0.1005],\n",
       "        [0.1296, 0.0000],\n",
       "        [0.1523, 0.1337],\n",
       "        [0.1863, 0.1318],\n",
       "        [0.1569, 0.1265],\n",
       "        [0.1621, 0.1319],\n",
       "        [0.1996, 0.1323],\n",
       "        [0.1474, 0.0961],\n",
       "        [0.1826, 0.1437],\n",
       "        [0.1443, 0.0860]], grad_fn=<ReluBackward0>)"
      ]
     },
     "execution_count": 11,
     "metadata": {},
     "output_type": "execute_result"
    }
   ],
   "source": [
    "net_2(img.to(device=device, dtype=torch.float32))"
   ]
  },
  {
   "cell_type": "code",
   "execution_count": 11,
   "id": "bb28d732-6a22-4877-b3fa-40deaba5efa8",
   "metadata": {},
   "outputs": [
    {
     "data": {
      "text/plain": [
       "torch.Size([5])"
      ]
     },
     "execution_count": 11,
     "metadata": {},
     "output_type": "execute_result"
    }
   ],
   "source": [
    "ice_con.shape"
   ]
  },
  {
   "cell_type": "code",
   "execution_count": 17,
   "id": "fec61a48-3ca1-4e47-b553-3159414773cd",
   "metadata": {},
   "outputs": [
    {
     "data": {
      "text/plain": [
       "1.0"
      ]
     },
     "execution_count": 17,
     "metadata": {},
     "output_type": "execute_result"
    }
   ],
   "source": [
    "ice_con[0].item()"
   ]
  },
  {
   "cell_type": "code",
   "execution_count": 15,
   "id": "8f798a32-73f2-491b-92d4-2a6ddce0ab3a",
   "metadata": {},
   "outputs": [
    {
     "data": {
      "text/plain": [
       "'torch.DoubleTensor'"
      ]
     },
     "execution_count": 15,
     "metadata": {},
     "output_type": "execute_result"
    }
   ],
   "source": [
    "torch.Tensor.type(ice_con)"
   ]
  },
  {
   "cell_type": "code",
   "execution_count": null,
   "id": "dff2333f-6208-4527-912f-c2865843d6f1",
   "metadata": {},
   "outputs": [],
   "source": []
  }
 ],
 "metadata": {
  "kernelspec": {
   "display_name": "Python 3",
   "language": "python",
   "name": "python3"
  },
  "language_info": {
   "codemirror_mode": {
    "name": "ipython",
    "version": 3
   },
   "file_extension": ".py",
   "mimetype": "text/x-python",
   "name": "python",
   "nbconvert_exporter": "python",
   "pygments_lexer": "ipython3",
   "version": "3.8.5"
  }
 },
 "nbformat": 4,
 "nbformat_minor": 5
}
