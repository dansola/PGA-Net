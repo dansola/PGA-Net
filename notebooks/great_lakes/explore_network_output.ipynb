{
 "cells": [
  {
   "cell_type": "code",
   "execution_count": 1,
   "id": "312c37e3-c0a6-4b07-b557-f32b2d631761",
   "metadata": {},
   "outputs": [],
   "source": [
    "from src.models.basic_cnn import AndreaNet\n",
    "import torch\n",
    "from src.datasets.great_lakes_new import Lake, LakesRandom, BaseConfig, TrainConfig, TestConfig, Label\n",
    "from torch.utils.data import DataLoader"
   ]
  },
  {
   "cell_type": "code",
   "execution_count": 5,
   "id": "bc0dfa57-b294-4742-8ebf-8aec8e279769",
   "metadata": {},
   "outputs": [
    {
     "data": {
      "text/plain": [
       "AndreaNet(\n",
       "  (conv1): Conv2d(2, 64, kernel_size=(3, 3), stride=(1, 1))\n",
       "  (pool): MaxPool2d(kernel_size=2, stride=2, padding=0, dilation=1, ceil_mode=False)\n",
       "  (conv2): Conv2d(64, 32, kernel_size=(3, 3), stride=(1, 1))\n",
       "  (fc1): Linear(in_features=288, out_features=32, bias=True)\n",
       "  (fc2): Linear(in_features=32, out_features=2, bias=True)\n",
       "  (softmax): Softmax(dim=1)\n",
       ")"
      ]
     },
     "execution_count": 5,
     "metadata": {},
     "output_type": "execute_result"
    }
   ],
   "source": [
    "device = torch.device('cuda' if torch.cuda.is_available() else 'cpu')\n",
    "\n",
    "net = AndreaNet(classes=2)\n",
    "net = net.to(device=device)\n",
    "checkpoint_path = f'/home/dsola/repos/PGA-Net/src/checkpoints/epoch1.pth'\n",
    "net.load_state_dict(torch.load(checkpoint_path, map_location=device))\n",
    "net.train()"
   ]
  },
  {
   "cell_type": "code",
   "execution_count": 3,
   "id": "ef5feaef-9863-497a-8442-1f138dfb444b",
   "metadata": {},
   "outputs": [],
   "source": [
    "data_directory = \"/home/dsola/repos/PGA-Net/data/patch20\"\n",
    "lake = Lake.erie\n",
    "label = Label.binary\n",
    "weight = torch.Tensor([1, 1]).to(device=device)\n",
    "batch_size = 10\n",
    "epochs = 10\n",
    "train_epoch_size, test_epoch_size = 500, 250\n",
    "\n",
    "base_config = BaseConfig(data_directory=data_directory, lake=lake, label=label)\n",
    "test_config = TestConfig(*base_config, batch_size=batch_size, epoch_size=test_epoch_size)\n",
    "\n",
    "test_set = LakesRandom(test_config)\n",
    "test_loader = DataLoader(test_set, batch_size=test_config.batch_size, shuffle=True)"
   ]
  },
  {
   "cell_type": "code",
   "execution_count": 54,
   "id": "ebdb9fab-a725-445a-a558-f92fef03b8e5",
   "metadata": {},
   "outputs": [],
   "source": [
    "for test_batch in test_loader:\n",
    "    inputs, labels = test_batch\n",
    "    with torch.no_grad():\n",
    "        outputs = net(inputs.to(device=device, dtype=torch.float32))\n",
    "    break"
   ]
  },
  {
   "cell_type": "code",
   "execution_count": 55,
   "id": "4f5748d2-85d2-4e74-b420-4090489738d7",
   "metadata": {},
   "outputs": [
    {
     "data": {
      "text/plain": [
       "tensor([[0.4313, 0.5687],\n",
       "        [0.4310, 0.5690],\n",
       "        [0.4346, 0.5654],\n",
       "        [0.3958, 0.6042],\n",
       "        [0.4322, 0.5678],\n",
       "        [0.4069, 0.5931],\n",
       "        [0.4205, 0.5795],\n",
       "        [0.4276, 0.5724],\n",
       "        [0.4372, 0.5628],\n",
       "        [0.4277, 0.5723]], device='cuda:0')"
      ]
     },
     "execution_count": 55,
     "metadata": {},
     "output_type": "execute_result"
    }
   ],
   "source": [
    "outputs"
   ]
  },
  {
   "cell_type": "code",
   "execution_count": 56,
   "id": "8522a057-3d22-4feb-bd0e-f522f175c1bb",
   "metadata": {},
   "outputs": [
    {
     "data": {
      "text/plain": [
       "tensor([[0, 1],\n",
       "        [0, 1],\n",
       "        [1, 0],\n",
       "        [0, 1],\n",
       "        [0, 1],\n",
       "        [1, 0],\n",
       "        [0, 1],\n",
       "        [0, 1],\n",
       "        [0, 1],\n",
       "        [1, 0]])"
      ]
     },
     "execution_count": 56,
     "metadata": {},
     "output_type": "execute_result"
    }
   ],
   "source": [
    "labels"
   ]
  },
  {
   "cell_type": "code",
   "execution_count": null,
   "id": "5e28ee01-b19a-406f-870a-f2f819e6ff7a",
   "metadata": {},
   "outputs": [],
   "source": []
  }
 ],
 "metadata": {
  "kernelspec": {
   "display_name": "Python 3",
   "language": "python",
   "name": "python3"
  },
  "language_info": {
   "codemirror_mode": {
    "name": "ipython",
    "version": 3
   },
   "file_extension": ".py",
   "mimetype": "text/x-python",
   "name": "python",
   "nbconvert_exporter": "python",
   "pygments_lexer": "ipython3",
   "version": "3.8.5"
  }
 },
 "nbformat": 4,
 "nbformat_minor": 5
}
